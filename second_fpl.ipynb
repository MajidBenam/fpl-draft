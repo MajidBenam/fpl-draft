{
 "cells": [
  {
   "cell_type": "code",
   "execution_count": 1,
   "id": "interested-investor",
   "metadata": {},
   "outputs": [
    {
     "name": "stdout",
     "output_type": "stream",
     "text": [
      "50304\n",
      "50331\n",
      "50453\n",
      "50604\n",
      "51192\n",
      "51195\n",
      "51483\n",
      "51658\n",
      "51910\n",
      "52123\n",
      "52252\n",
      "52488\n",
      "52620\n",
      "52668\n",
      "52792\n",
      "52966\n",
      "53405\n",
      "53505\n",
      "54042\n",
      "54111\n",
      "54160\n",
      "54490\n",
      "54619\n",
      "54679\n",
      "54904\n",
      "55132\n",
      "55316\n",
      "55737\n",
      "55817\n",
      "55959\n",
      "56049\n",
      "56604\n",
      "56624\n",
      "57110\n",
      "57503\n",
      "57564\n",
      "58021\n",
      "58467\n",
      "58513\n",
      "58561\n",
      "59319\n",
      "59579\n",
      "59837\n",
      "Execution time: 734.4974818229675 seconds\n"
     ]
    }
   ],
   "source": [
    "from fpl import FPL\n",
    "import aiohttp\n",
    "import asyncio\n",
    "import time\n",
    "\n",
    "# get the start time\n",
    "st = time.time()\n",
    "\n",
    "top_gw_managers = []\n",
    "async def main():\n",
    "    async with aiohttp.ClientSession() as session:\n",
    "        fpl = FPL(session)\n",
    "        for i in range(50000, 60000):\n",
    "            user = await fpl.get_user(i+1)\n",
    "            if user.summary_event_points >= 100:\n",
    "                print(user.id)\n",
    "                top_gw_managers.append(user.id)\n",
    "\n",
    "await main()\n",
    "\n",
    "et = time.time()\n",
    "\n",
    "# get the execution time\n",
    "elapsed_time = et - st\n",
    "print('Execution time:', elapsed_time, 'seconds')"
   ]
  },
  {
   "cell_type": "code",
   "execution_count": null,
   "id": "numeric-pacific",
   "metadata": {},
   "outputs": [],
   "source": []
  }
 ],
 "metadata": {
  "kernelspec": {
   "display_name": "Python 3",
   "language": "python",
   "name": "python3"
  },
  "language_info": {
   "codemirror_mode": {
    "name": "ipython",
    "version": 3
   },
   "file_extension": ".py",
   "mimetype": "text/x-python",
   "name": "python",
   "nbconvert_exporter": "python",
   "pygments_lexer": "ipython3",
   "version": "3.8.10"
  }
 },
 "nbformat": 4,
 "nbformat_minor": 5
}
