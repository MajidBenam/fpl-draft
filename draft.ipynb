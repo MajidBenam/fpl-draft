{
 "cells": [
  {
   "cell_type": "markdown",
   "id": "happy-lancaster",
   "metadata": {},
   "source": [
    "## TODO: \n",
    "#### add the name of the leagues to the main dic and show in the tables in gw"
   ]
  },
  {
   "cell_type": "code",
   "execution_count": 1,
   "id": "decimal-stock",
   "metadata": {},
   "outputs": [
    {
     "name": "stderr",
     "output_type": "stream",
     "text": [
      "/usr/lib/python3/dist-packages/requests/__init__.py:89: RequestsDependencyWarning: urllib3 (1.26.7) or chardet (3.0.4) doesn't match a supported version!\n",
      "  warnings.warn(\"urllib3 ({}) or chardet ({}) doesn't match a supported \"\n"
     ]
    }
   ],
   "source": [
    "# this block is NOT all we need for recreating top players in the world per gw\n",
    "# We need to run live_reports_all() before hand, as we need the \n",
    "# second output the JSON file as the input here\n",
    "# For gw 9, we have it already, and we can actually modify the old file every gw, so that\n",
    "# we don't need to go through every gw every time.\n",
    "from all_vars import mappers_dic, managers_league_dic_2, all_managers_dic_old, all_managers_second_round, element_type_mapper, German_leagues_ids, German_leagues_ids_dic, league_city_plus_managers\n",
    "from utils import *\n",
    "import sys\n",
    "from termcolor import colored, cprint\n",
    "import time\n",
    "import json"
   ]
  },
  {
   "cell_type": "code",
   "execution_count": null,
   "id": "encouraging-counter",
   "metadata": {},
   "outputs": [],
   "source": [
    "# to create the json file:\n",
    "# the first item in gw_numbers must be the newest gw that is not yet in the dic\n",
    "my_leagues_data_tables, my_medals, my_mappers = live_reports_all(German_leagues_ids, [24,], mappers_dic)"
   ]
  },
  {
   "cell_type": "code",
   "execution_count": null,
   "id": "alpine-absolute",
   "metadata": {},
   "outputs": [],
   "source": [
    "# to use the JSON file:\n",
    "# the number of gw must match the latest gw.\n",
    "# You need to restrat the kernel to get the right reuslt.\n",
    "all_top_tables_dic = top_players_table_maker_for_all_gws(mappers_dic, 'medal_dics_for_all_16.json')"
   ]
  },
  {
   "cell_type": "code",
   "execution_count": null,
   "id": "british-strand",
   "metadata": {},
   "outputs": [],
   "source": []
  },
  {
   "cell_type": "code",
   "execution_count": null,
   "id": "acceptable-telephone",
   "metadata": {},
   "outputs": [],
   "source": [
    "all_top_tables_dic = top_players_table_maker_for_all_gws_medal_indifferent(mappers_dic, 'medal_dics_for_all_16.json')"
   ]
  },
  {
   "cell_type": "code",
   "execution_count": null,
   "id": "seven-works",
   "metadata": {},
   "outputs": [],
   "source": [
    "all_managers_second_round_slim = league_managers_finder_slim(German_leagues_ids_dic)"
   ]
  },
  {
   "cell_type": "code",
   "execution_count": null,
   "id": "assured-serum",
   "metadata": {},
   "outputs": [],
   "source": [
    "print(all_managers_second_round_slim)"
   ]
  },
  {
   "cell_type": "code",
   "execution_count": null,
   "id": "ruled-cricket",
   "metadata": {},
   "outputs": [],
   "source": []
  },
  {
   "cell_type": "code",
   "execution_count": null,
   "id": "pleasant-equilibrium",
   "metadata": {},
   "outputs": [],
   "source": [
    "live_HTML_All(all_managers_second_round, 24)"
   ]
  },
  {
   "cell_type": "code",
   "execution_count": null,
   "id": "placed-macro",
   "metadata": {},
   "outputs": [],
   "source": []
  },
  {
   "cell_type": "code",
   "execution_count": 2,
   "id": "focal-miller",
   "metadata": {},
   "outputs": [
    {
     "name": "stdout",
     "output_type": "stream",
     "text": [
      "0 : ('Hungary 🇭🇺', (55, 11, 2, 0, 3, 0))\n",
      "1 : ('Italy 🇮🇹', (51, 8, 1, 0, 1, 0))\n",
      "2 : ('United States 🇺🇲', (44, 14, 3, 1, 0, 0))\n",
      "3 : ('South Korea 🇰🇷', (37, 7, 2, 0, 0, 0))\n",
      "4 : ('Netherlands 🇳🇱', (37, 11, 1, 0, 2, 0))\n",
      "5 : ('Germany 🇩🇪', (34, 2, 1, 0, 1, 0))\n",
      "6 : ('Canada 🇨🇦', (30, 11, 0, 0, 2, 0))\n",
      "7 : ('Great Britain 🇬🇧', (25, -2, 0, 0, 1, 0))\n",
      "\n",
      "\n",
      "******  More Details  ****Kopenhagen (Fencing)**** \n",
      "\n",
      "0 : ('Netherlands 🇳🇱', (66, 13, 2, 0, 4, 1))\n",
      "1 : ('Germany 🇩🇪', (55, 16, 1, 0, 2, 0))\n",
      "2 : ('South Korea 🇰🇷', (45, 24, 2, 2, 1, 0))\n",
      "3 : ('Great Britain 🇬🇧', (39, -1, 2, 0, 1, 0))\n",
      "4 : ('United States 🇺🇲', (34, 4, 3, 0, 1, 0))\n",
      "5 : ('Canada 🇨🇦', (31, 12, 0, 1, 1, 0))\n",
      "6 : ('Hungary 🇭🇺', (25, 12, 0, 0, 1, 0))\n",
      "7 : ('Italy 🇮🇹', (24, 8, 0, 0, 0, 1))\n",
      "\n",
      "\n",
      "******  More Details  ****270541**** \n",
      "\n",
      "0 : ('Germany 🇩🇪', (48, 19, 3, 0, 0, 0))\n",
      "1 : ('Netherlands 🇳🇱', (47, 17, 2, 0, 2, 1))\n",
      "2 : ('South Korea 🇰🇷', (46, 24, 1, 1, 2, 1))\n",
      "3 : ('Italy 🇮🇹', (43, 7, 0, 0, 3, 0))\n",
      "4 : ('Hungary 🇭🇺', (40, 12, 2, 0, 0, 1))\n",
      "5 : ('Canada 🇨🇦', (37, 12, 1, 0, 0, 0))\n",
      "6 : ('United States 🇺🇲', (34, -2, 2, 0, 0, 0))\n",
      "7 : ('Great Britain 🇬🇧', (27, 0, 1, 0, 1, 0))\n",
      "\n",
      "\n",
      "******  More Details  ****Sofia (Waterpolo)**** \n",
      "\n",
      "0 : ('Canada 🇨🇦', (44, 11, 3, 0, 1, 0))\n",
      "1 : ('Netherlands 🇳🇱', (44, 7, 0, 0, 1, 0))\n",
      "2 : ('Germany 🇩🇪', (41, 7, 0, 0, 2, 0))\n",
      "3 : ('United States 🇺🇲', (40, 4, 3, 0, 2, 0))\n",
      "4 : ('Hungary 🇭🇺', (40, 9, 3, 0, 1, 0))\n",
      "5 : ('Italy 🇮🇹', (33, 9, 1, 0, 1, 0))\n",
      "6 : ('South Korea 🇰🇷', (30, 15, 1, 1, 1, 0))\n",
      "7 : ('Great Britain 🇬🇧', (27, 6, 0, 0, 2, 0))\n",
      "\n",
      "\n",
      "******  More Details  ****270544**** \n",
      "\n",
      "0 : ('South Korea 🇰🇷', (52, 27, 4, 0, 1, 1))\n",
      "1 : ('Italy 🇮🇹', (39, 5, 2, 0, 0, 0))\n",
      "2 : ('Canada 🇨🇦', (38, 2, 1, 0, 3, 0))\n",
      "3 : ('Great Britain 🇬🇧', (36, 8, 1, 0, 1, 0))\n",
      "4 : ('Hungary 🇭🇺', (34, 9, 0, 0, 1, 0))\n",
      "5 : ('Germany 🇩🇪', (29, 14, 0, 1, 1, 0))\n",
      "6 : ('Netherlands 🇳🇱', (28, 11, 1, 0, 1, 0))\n",
      "7 : ('United States 🇺🇲', (15, 6, 1, 0, 0, 0))\n",
      "\n",
      "\n",
      "******  More Details  ****Bucharest (Wrestling)**** \n",
      "\n",
      "0 : ('Germany 🇩🇪', (59, 9, 1, 0, 2, 0))\n",
      "1 : ('Great Britain 🇬🇧', (58, 17, 2, 1, 2, 0))\n",
      "2 : ('Italy 🇮🇹', (47, 6, 2, 0, 2, 0))\n",
      "3 : ('Canada 🇨🇦', (46, 18, 2, 0, 1, 1))\n",
      "4 : ('United States 🇺🇲', (33, 3, 1, 0, 2, 0))\n",
      "5 : ('Netherlands 🇳🇱', (31, 2, 2, 0, 0, 0))\n",
      "6 : ('Hungary 🇭🇺', (26, 15, 1, 0, 0, 0))\n",
      "7 : ('South Korea 🇰🇷', (25, 3, 1, 0, 0, 0))\n",
      "\n",
      "\n",
      "******  More Details  ****Calcutta (Weightlifting)**** \n",
      "\n",
      "0 : ('Hungary 🇭🇺', (53, 15, 3, 0, 2, 0))\n",
      "1 : ('Canada 🇨🇦', (46, 15, 2, 0, 0, 0))\n",
      "2 : ('Great Britain 🇬🇧', (43, 8, 2, 0, 1, 0))\n",
      "3 : ('United States 🇺🇲', (37, 3, 1, 0, 2, 0))\n",
      "4 : ('Italy 🇮🇹', (35, 3, 2, 0, 0, 0))\n",
      "5 : ('Netherlands 🇳🇱', (35, -3, 1, 0, 2, 0))\n",
      "6 : ('South Korea 🇰🇷', (30, 17, 1, 0, 2, 1))\n",
      "7 : ('Germany 🇩🇪', (23, 3, 0, 0, 1, 0))\n",
      "\n",
      "\n",
      "******  More Details  ****Budapest (Gymnastics)**** \n",
      "\n",
      "0 : ('Germany 🇩🇪', (55, 2, 2, 0, 2, 0))\n",
      "1 : ('United States 🇺🇲', (51, 18, 3, 1, 1, 0))\n",
      "2 : ('Great Britain 🇬🇧', (45, 8, 1, 0, 2, 1))\n",
      "3 : ('Canada 🇨🇦', (43, 5, 3, 0, 1, 0))\n",
      "4 : ('South Korea 🇰🇷', (37, 11, 2, 0, 1, 0))\n",
      "5 : ('Hungary 🇭🇺', (30, 2, 1, 0, 0, 0))\n",
      "6 : ('Netherlands 🇳🇱', (27, 12, 0, 0, 1, 0))\n",
      "7 : ('Italy 🇮🇹', (26, 2, 0, 0, 0, 0))\n",
      "\n",
      "\n",
      "******  More Details  ****270586**** \n",
      "\n",
      "0 : ('Great Britain 🇬🇧', (54, 15, 3, 1, 0, 0))\n",
      "1 : ('South Korea 🇰🇷', (45, 8, 2, 0, 3, 0))\n",
      "2 : ('Hungary 🇭🇺', (37, 13, 1, 1, 2, 0))\n",
      "3 : ('United States 🇺🇲', (37, 10, 0, 0, 1, 0))\n",
      "4 : ('Italy 🇮🇹', (36, 17, 2, 1, 0, 0))\n",
      "5 : ('Netherlands 🇳🇱', (36, 4, 0, 0, 2, 0))\n",
      "6 : ('Germany 🇩🇪', (33, 2, 0, 0, 1, 0))\n",
      "7 : ('Canada 🇨🇦', (21, 12, 1, 0, 0, 0))\n",
      "\n",
      "\n",
      "******  More Details  ****Belgrade (Kayak)**** \n",
      "\n",
      "0 : ('South Korea 🇰🇷', (63, 8, 2, 0, 3, 1))\n",
      "1 : ('Canada 🇨🇦', (52, 17, 3, 0, 0, 0))\n",
      "2 : ('Great Britain 🇬🇧', (43, 13, 2, 0, 1, 0))\n",
      "3 : ('United States 🇺🇲', (39, 2, 1, 0, 2, 0))\n",
      "4 : ('Italy 🇮🇹', (39, 9, 0, 0, 2, 0))\n",
      "5 : ('Hungary 🇭🇺', (36, 2, 2, 0, 0, 0))\n",
      "6 : ('Netherlands 🇳🇱', (30, 12, 1, 0, 0, 1))\n",
      "7 : ('Germany 🇩🇪', (14, 7, 0, 0, 0, 0))\n",
      "\n",
      "\n",
      "******  More Details  ****Cairo (Basketball)**** \n",
      "\n",
      "0 : ('Italy 🇮🇹', (50, 5, 3, 0, 0, 0))\n",
      "1 : ('Hungary 🇭🇺', (45, 17, 1, 1, 2, 1))\n",
      "2 : ('Canada 🇨🇦', (44, 18, 3, 1, 1, 0))\n",
      "3 : ('South Korea 🇰🇷', (41, 14, 2, 0, 1, 1))\n",
      "4 : ('Netherlands 🇳🇱', (36, 14, 0, 0, 2, 0))\n",
      "5 : ('Germany 🇩🇪', (33, 2, 0, 0, 2, 0))\n",
      "6 : ('Great Britain 🇬🇧', (32, 9, 0, 0, 0, 0))\n",
      "7 : ('United States 🇺🇲', (27, -1, 1, 0, 1, 0))\n",
      "\n",
      "\n",
      "******  More Details  ****Monte Video (Swimming)**** \n",
      "\n",
      "0 : ('Hungary 🇭🇺', (51, -3, 3, 0, 0, 0))\n",
      "1 : ('Great Britain 🇬🇧', (38, 11, 2, 0, 1, 0))\n",
      "2 : ('South Korea 🇰🇷', (38, 9, 1, 0, 3, 0))\n",
      "3 : ('Italy 🇮🇹', (37, 21, 2, 0, 1, 1))\n",
      "4 : ('Netherlands 🇳🇱', (37, 7, 1, 0, 1, 0))\n",
      "5 : ('United States 🇺🇲', (37, 5, 1, 0, 0, 0))\n",
      "6 : ('Canada 🇨🇦', (34, 2, 0, 0, 2, 0))\n",
      "7 : ('Germany 🇩🇪', (21, 3, 1, 0, 1, 0))\n",
      "\n",
      "\n",
      "******  More Details  ****270606**** \n",
      "\n"
     ]
    }
   ],
   "source": [
    "# Gives the compact version with coloring for each player\n",
    "\n",
    "live_HTML_All_SHORT(all_managers_second_round, 24)"
   ]
  },
  {
   "cell_type": "code",
   "execution_count": null,
   "id": "regular-native",
   "metadata": {},
   "outputs": [],
   "source": []
  },
  {
   "cell_type": "code",
   "execution_count": null,
   "id": "advanced-european",
   "metadata": {},
   "outputs": [],
   "source": [
    "len(all_top_tables_dic)"
   ]
  },
  {
   "cell_type": "code",
   "execution_count": null,
   "id": "furnished-adolescent",
   "metadata": {
    "scrolled": false
   },
   "outputs": [],
   "source": [
    "print(all_top_tables_dic[\"16\"])"
   ]
  },
  {
   "cell_type": "code",
   "execution_count": null,
   "id": "single-wichita",
   "metadata": {},
   "outputs": [],
   "source": []
  },
  {
   "cell_type": "code",
   "execution_count": null,
   "id": "proud-recycling",
   "metadata": {},
   "outputs": [],
   "source": [
    "league_managers_finder(league_ids)"
   ]
  },
  {
   "cell_type": "code",
   "execution_count": null,
   "id": "fatty-porter",
   "metadata": {
    "scrolled": true
   },
   "outputs": [],
   "source": [
    "from all_vars import mappers_dic, all_managers_dic, element_type_mapper, German_leagues_ids, league_city_plus_managers\n",
    "from utils import *\n",
    "import time\n",
    "new_player_ids = fantasy_id_to_draft_id_converter()"
   ]
  },
  {
   "cell_type": "code",
   "execution_count": null,
   "id": "vietnamese-glasgow",
   "metadata": {},
   "outputs": [],
   "source": [
    "# get the start time\n",
    "st = time.time()\n",
    "gw_10_all = live_HTML_All(league_city_plus_managers, 13)\n",
    "# get the end time\n",
    "et = time.time()\n",
    "# get the execution time\n",
    "elapsed_time = et - st\n",
    "print('Execution time:', elapsed_time, 'seconds')"
   ]
  },
  {
   "cell_type": "code",
   "execution_count": null,
   "id": "minor-eagle",
   "metadata": {},
   "outputs": [],
   "source": []
  },
  {
   "cell_type": "code",
   "execution_count": null,
   "id": "completed-migration",
   "metadata": {},
   "outputs": [],
   "source": []
  },
  {
   "cell_type": "code",
   "execution_count": null,
   "id": "objective-impossible",
   "metadata": {},
   "outputs": [],
   "source": [
    "gw_9 = live_report_maker_HTML(all_managers_dic, 9)"
   ]
  },
  {
   "cell_type": "code",
   "execution_count": null,
   "id": "miniature-patrol",
   "metadata": {},
   "outputs": [],
   "source": [
    "print(gw_9)"
   ]
  },
  {
   "cell_type": "code",
   "execution_count": null,
   "id": "desperate-suite",
   "metadata": {},
   "outputs": [],
   "source": [
    "xyx = league_managers_finder_slim(German_leagues_ids_dic)"
   ]
  },
  {
   "cell_type": "code",
   "execution_count": null,
   "id": "adapted-phrase",
   "metadata": {},
   "outputs": [],
   "source": [
    "xyx"
   ]
  },
  {
   "cell_type": "code",
   "execution_count": null,
   "id": "insured-nancy",
   "metadata": {},
   "outputs": [],
   "source": []
  },
  {
   "cell_type": "code",
   "execution_count": null,
   "id": "interracial-commitment",
   "metadata": {},
   "outputs": [],
   "source": [
    "fi_dic = {}\n",
    "fi_dic[\"ali\"] = (1, 4, 7)\n",
    "fi_dic[\"naghi\"] = (2, 5, 11)\n",
    "fi_dic[\"alli\"] = (1, 6, 7)\n",
    "fi_dic[\"llli\"] = (1, 5, 7)\n",
    "fi_dic[\"llhhhli\"] = (1, 4, 6)\n",
    "fi_dic[\"llhhoohli\"] = (1, 4, 10)\n",
    "fi_dic[\"llhhooiiihli\"] = (1, 4, 180)\n",
    "\n",
    "\n",
    "\n",
    "sort_managers = sorted(fi_dic.items(), key=lambda x: (x[1][0], x[1][2], x[1][4]), reverse=True)"
   ]
  },
  {
   "cell_type": "code",
   "execution_count": null,
   "id": "liable-pennsylvania",
   "metadata": {},
   "outputs": [],
   "source": [
    "sort_managers"
   ]
  },
  {
   "cell_type": "markdown",
   "id": "precise-migration",
   "metadata": {},
   "source": [
    "# Prerequisite for the main tables to work with the saved json files"
   ]
  },
  {
   "cell_type": "code",
   "execution_count": null,
   "id": "opponent-occasions",
   "metadata": {},
   "outputs": [],
   "source": []
  },
  {
   "cell_type": "code",
   "execution_count": null,
   "id": "eastern-dining",
   "metadata": {},
   "outputs": [],
   "source": []
  },
  {
   "cell_type": "code",
   "execution_count": null,
   "id": "juvenile-event",
   "metadata": {
    "scrolled": true
   },
   "outputs": [],
   "source": [
    "from all_vars import all_managers_dic, element_type_mapper, German_leagues_ids, mappers_dic\n",
    "from utils import *\n",
    "import time"
   ]
  },
  {
   "cell_type": "code",
   "execution_count": null,
   "id": "systematic-fashion",
   "metadata": {},
   "outputs": [],
   "source": [
    "#league_code_finder()"
   ]
  },
  {
   "cell_type": "code",
   "execution_count": null,
   "id": "atmospheric-teacher",
   "metadata": {},
   "outputs": [],
   "source": [
    "#league_info_collector(German_leagues_ids)"
   ]
  },
  {
   "cell_type": "code",
   "execution_count": null,
   "id": "transparent-multiple",
   "metadata": {
    "scrolled": false
   },
   "outputs": [],
   "source": [
    "my_leagues_data_tables, my_medals, my_mappers = live_reports_all(German_leagues_ids, [8,9,10], mappers_dic)"
   ]
  },
  {
   "cell_type": "code",
   "execution_count": null,
   "id": "christian-presentation",
   "metadata": {},
   "outputs": [],
   "source": []
  },
  {
   "cell_type": "code",
   "execution_count": null,
   "id": "informational-norway",
   "metadata": {},
   "outputs": [],
   "source": []
  },
  {
   "cell_type": "code",
   "execution_count": null,
   "id": "suspended-saver",
   "metadata": {},
   "outputs": [],
   "source": []
  },
  {
   "cell_type": "code",
   "execution_count": null,
   "id": "spoken-skirt",
   "metadata": {},
   "outputs": [],
   "source": [
    "from extra_vars import all_points_10, all_points_8, all_points_2, all_points_6\n",
    "total_points_dic = {}\n",
    "for index, item in all_points_10.items():\n",
    "    if index==10:\n",
    "        for key, value in item.items():\n",
    "            total_points = all_points_10[10][key][1][5] - (all_points_8[8][key][1][5]  - all_points_6[6][key][1][5])/2 + all_points_2[2][key][1][5]\n",
    "            total_points_dic[key] = int(total_points)\n",
    "#print(all_points_10[10][('Germany 🇩🇪', 59081)])\n",
    "\n",
    "sorted_managers = sorted(total_points_dic.items(), key=lambda x: (x[1]), reverse=True)"
   ]
  },
  {
   "cell_type": "code",
   "execution_count": null,
   "id": "academic-submission",
   "metadata": {},
   "outputs": [],
   "source": [
    "sorted_managers"
   ]
  },
  {
   "cell_type": "code",
   "execution_count": null,
   "id": "intensive-penguin",
   "metadata": {},
   "outputs": [],
   "source": []
  },
  {
   "cell_type": "code",
   "execution_count": null,
   "id": "dimensional-narrow",
   "metadata": {},
   "outputs": [],
   "source": []
  },
  {
   "cell_type": "code",
   "execution_count": null,
   "id": "lucky-garage",
   "metadata": {},
   "outputs": [],
   "source": [
    "from all_vars import managers_league_dic_2\n",
    "\n",
    "# make_a dictionary that maps names to league_ids and countries\n",
    "# {\n",
    "#   (\"Germany 🇩🇪\", 54657) : \"Milad Benam\",\n",
    "#}\n",
    "mapper_dic = {}\n",
    "for lid, nums in managers_league_dic_2.items():\n",
    "    for num, real_dic in nums.items():\n",
    "        if real_dic.get('country', None):\n",
    "            proper_key = (real_dic.get('country', None), lid)\n",
    "            mapper_dic[proper_key] = [real_dic[\"first_name\"] + \" \" + real_dic[\"last_name\"], [0,0,0,0,0]]\n",
    "            #print(real_dic[\"last_name\"], real_dic[\"first_name\"])\n",
    "        else:\n",
    "            print(lid, real_dic)\n"
   ]
  },
  {
   "cell_type": "code",
   "execution_count": null,
   "id": "micro-queens",
   "metadata": {},
   "outputs": [],
   "source": [
    "mapper_dic"
   ]
  },
  {
   "cell_type": "code",
   "execution_count": null,
   "id": "surgical-transport",
   "metadata": {},
   "outputs": [],
   "source": [
    "import json\n",
    "with open('medal_dics_for_all_9.json', 'r') as f1:\n",
    "    my_medals = json.load(f1)"
   ]
  },
  {
   "cell_type": "code",
   "execution_count": null,
   "id": "asian-notice",
   "metadata": {
    "scrolled": true
   },
   "outputs": [],
   "source": [
    "from all_vars import all_managers_full_up_to_gw_8\n",
    "\n",
    "my_dic_til_8 = dict(all_managers_full_up_to_gw_8)\n",
    "number_of_medal_ceremonies = 0 \n",
    "for gw, league in my_medals.items():\n",
    "    if int(gw) > 45:\n",
    "        continue\n",
    "    else: # gw:9 \n",
    "        for league_id, medal_lists in league.items():\n",
    "            for medal_color, country in medal_lists.items():\n",
    "                if medal_color == \"gold\":\n",
    "                    #print(medal_color, country, mapper_dic[(country,int(league_id))])\n",
    "                    mapper_dic[(country,int(league_id))][1][0] = mapper_dic[(country,int(league_id))][1][0] + 1\n",
    "                if medal_color == \"silver\":\n",
    "                    #print(medal_color, country, mapper_dic[(country,int(league_id))])\n",
    "                    mapper_dic[(country,int(league_id))][1][1] = mapper_dic[(country,int(league_id))][1][1] + 1\n",
    "                if medal_color == \"bronze\":\n",
    "                    #print(medal_color, country, mapper_dic[(country,int(league_id))])\n",
    "                    mapper_dic[(country,int(league_id))][1][2] = mapper_dic[(country,int(league_id))][1][2] + 1\n",
    "                if medal_color == \"fourth\":\n",
    "                    #print(medal_color, country, mapper_dic[(country,int(league_id))])\n",
    "                    mapper_dic[(country,int(league_id))][1][3] = mapper_dic[(country,int(league_id))][1][3] + 1\n",
    "                if medal_color == \"fifth\":\n",
    "                    #print(medal_color, country, mapper_dic[(country,int(league_id))])\n",
    "                    mapper_dic[(country,int(league_id))][1][4] = mapper_dic[(country,int(league_id))][1][4] + 1\n",
    "                #f lid == league_id:\n",
    "                #   for lid, nums in all_managers_full_up_to_gw_8.items():\n",
    "                 #      for num, real_dic in nums.items():\n",
    "                   #        #print(real_dic)\n",
    "                  ##        if real_dic.get('country', \"XYZ\") == \"Germany 🇩🇪\" and medal_color == \"gold\":\n",
    "                    #          number_of_medal_ceremonies = number_of_medal_ceremonies + 1\n",
    "                    #          print(number_of_medal_ceremonies, medal_color, real_dic[\"first_name\"])"
   ]
  },
  {
   "cell_type": "code",
   "execution_count": null,
   "id": "friendly-border",
   "metadata": {},
   "outputs": [],
   "source": [
    "mapper_dic[('Germany 🇩🇪', 56760)]"
   ]
  },
  {
   "cell_type": "code",
   "execution_count": null,
   "id": "executed-equivalent",
   "metadata": {},
   "outputs": [],
   "source": [
    "sorted_managers = sorted(mapper_dic.items(), key=lambda x: (x[1][1]), reverse=True)"
   ]
  },
  {
   "cell_type": "code",
   "execution_count": null,
   "id": "photographic-alexandria",
   "metadata": {},
   "outputs": [],
   "source": [
    "sorted_managers"
   ]
  },
  {
   "cell_type": "code",
   "execution_count": null,
   "id": "smaller-motor",
   "metadata": {},
   "outputs": [],
   "source": [
    "for gw, league in my_medals.items():\n",
    "    for league_id, medal_lists in league.items():\n",
    "        if gw == \"1\":\n",
    "            print(league_id, medal_lists)\n",
    "    "
   ]
  },
  {
   "cell_type": "code",
   "execution_count": null,
   "id": "african-cycle",
   "metadata": {},
   "outputs": [],
   "source": []
  },
  {
   "cell_type": "code",
   "execution_count": null,
   "id": "governmental-wednesday",
   "metadata": {},
   "outputs": [],
   "source": []
  },
  {
   "cell_type": "code",
   "execution_count": null,
   "id": "juvenile-petersburg",
   "metadata": {},
   "outputs": [],
   "source": [
    "tops_gw_9 = top_players_table_maker(top_players_revealer(my_medals))"
   ]
  },
  {
   "cell_type": "code",
   "execution_count": null,
   "id": "single-finish",
   "metadata": {},
   "outputs": [],
   "source": [
    "majid_medals = [0,0,0,0,0]\n",
    "for gw, league in all_medals_from_json.items():\n",
    "    for league_id_str, all_medals in league.items():\n",
    "        #print(league_id_str)\n",
    "        if league_id_str != \"59081\":\n",
    "            continue\n",
    "        else:\n",
    "            golds = all_medals[\"all_golds\"].get('Germany 🇩🇪', 0)\n",
    "            majid_medals[0] = majid_medals[0] + golds\n",
    "            silvers = all_medals[\"all_silvers\"].get('Germany 🇩🇪', 0)\n",
    "            majid_medals[1] = majid_medals[1] + silvers\n",
    "            bronzes = all_medals[\"all_bronzes\"].get('Germany 🇩🇪', 0)\n",
    "            majid_medals[2] = majid_medals[2] + bronzes\n",
    "            fourths = all_medals[\"all_fourths\"].get('Germany 🇩🇪', 0)\n",
    "            majid_medals[3] = majid_medals[3] + fourths\n",
    "            fifths = all_medals[\"all_fifths\"].get('Germany 🇩🇪', 0)\n",
    "            majid_medals[4] = majid_medals[4] + fifths\n",
    "                #medals_for_me[good_team_name] = all_medals_a_country\n",
    "        #gw_medals_this_league[gw] = medals_for_me\n",
    "    #correct_medals = [int(points/12) for points in majid_medals]\n",
    "print(majid_medals)"
   ]
  },
  {
   "cell_type": "code",
   "execution_count": null,
   "id": "compatible-divorce",
   "metadata": {},
   "outputs": [],
   "source": []
  },
  {
   "cell_type": "code",
   "execution_count": null,
   "id": "liquid-botswana",
   "metadata": {},
   "outputs": [],
   "source": []
  },
  {
   "cell_type": "code",
   "execution_count": null,
   "id": "judicial-christmas",
   "metadata": {},
   "outputs": [],
   "source": [
    "len(my_leagues_data[8])"
   ]
  },
  {
   "cell_type": "code",
   "execution_count": null,
   "id": "opened-substance",
   "metadata": {},
   "outputs": [],
   "source": [
    "for league in [56490, 56760, 57026, 58512, 58924, 59081, 59219, 60061, 60068, 60279, 60283]:\n",
    "    for gw in [1,2,3,4,5,6,8,9]:\n",
    "        print(tops_gw_9[gw][league])\n",
    "        print()"
   ]
  },
  {
   "cell_type": "code",
   "execution_count": null,
   "id": "mighty-quantum",
   "metadata": {},
   "outputs": [],
   "source": [
    "for league in [56490, 56760, 57026, 58512, 58924, 59081, 59219, 60061, 60068, 60279, 60283]:\n",
    "    for gw in [8,]:\n",
    "        print(league)\n",
    "        print(tops_gw_9[gw][league])\n",
    "        print()"
   ]
  },
  {
   "cell_type": "code",
   "execution_count": null,
   "id": "intellectual-baker",
   "metadata": {
    "scrolled": true
   },
   "outputs": [],
   "source": [
    "good_team_names_with_flag =['Germany 🇩🇪', 'United States 🇺🇲', 'South Korea 🇰🇷', 'Great Britain 🇬🇧', \n",
    "'France 🇫🇷','The Soviet Union ☭', 'Australia 🇦🇺', 'Hungary 🇭🇺', 'New Zealand 🇳🇿', \n",
    "    'Italy 🇮🇹','Argentina 🇦🇷', 'Netherlands 🇳🇱', 'Japan 🇯🇵','China 🇨🇳','Canada 🇨🇦','🏁Referee 6🏁']\n",
    "\n",
    "good_flags = {\"ğŸ‡©ğŸ‡ª\": 'Germany 🇩🇪',\n",
    "                    \"ğŸ‡ºğŸ‡¸\": 'United States 🇺🇲',\n",
    "                    \"ğŸ‡°ğŸ‡·\": 'South Korea 🇰🇷',\n",
    "                    \"ğŸ‡¬ğŸ‡§\": 'Great Britain 🇬🇧',\n",
    "                    \"ğŸ‡¨ğŸ‡µ\": 'France 🇫🇷',\n",
    "                    \"oviet\": 'The Soviet Union ☭',\n",
    "                    \"ğŸ‡¦ğŸ‡º\": 'Australia 🇦🇺',\n",
    "                    \"ğŸ‡­ğŸ‡º\": 'Hungary 🇭🇺',\n",
    "                    \"ğŸ‡³ğŸ‡¿\": 'New Zealand 🇳🇿',\n",
    "                    \"ğŸ‡®ğŸ‡¹\": 'Italy 🇮🇹',\n",
    "                    \"ğŸ‡¦ğŸ‡·\": 'Argentina 🇦🇷',\n",
    "                    \"ğŸ‡³ğŸ‡±\": 'Netherlands 🇳🇱',\n",
    "                    \"ğŸ‡¯ğŸ‡µ\": 'Japan 🇯🇵',\n",
    "                    \"ğŸ‡¨ğŸ‡³\": 'China 🇨🇳',\n",
    "                    \"ğŸ‡¨ğŸ‡¦\": 'Canada 🇨🇦',\n",
    "                    \"ğŸ��\": 'Referee'\n",
    "                    }\n",
    "\n",
    "good_team_names_without_flag =['Germany', 'United States', \"USA\",'ğŸ‡°ğŸ‡·', 'Great Britain', \n",
    "'France','The Soviet Union', 'Australia', 'Hungary', 'Zealan', \n",
    "    'Italy','Argentina', 'Netherlands', 'Japan','ch','Canada','Referee']\n",
    "\n",
    "good_dic_of_team_names_flags = {}\n",
    "for index, team in enumerate(my_league_data[\"choices\"][0:16]):\n",
    "    for good_flag, good_name in good_flags.items():\n",
    "        if good_flag in team[\"entry_name\"]:\n",
    "            print(index+1, good_flag, team[\"entry_name\"])\n",
    "            good_dic_of_team_names_flags[team[\"entry\"]] = good_name"
   ]
  },
  {
   "cell_type": "code",
   "execution_count": null,
   "id": "occupational-letter",
   "metadata": {},
   "outputs": [],
   "source": [
    "good_dic_of_team_names_flags"
   ]
  },
  {
   "cell_type": "code",
   "execution_count": null,
   "id": "positive-mapping",
   "metadata": {},
   "outputs": [],
   "source": [
    "my_dic = {     \"ğŸ‡¨ğŸ‡¦\": 'Canada 🇨🇦',\n",
    "                    \"ğŸ��\": 'Referee'\n",
    "                    }"
   ]
  },
  {
   "cell_type": "code",
   "execution_count": null,
   "id": "final-constraint",
   "metadata": {},
   "outputs": [],
   "source": [
    "for item in my_dic.keys():\n",
    "    print(item)"
   ]
  },
  {
   "cell_type": "code",
   "execution_count": null,
   "id": "systematic-majority",
   "metadata": {},
   "outputs": [],
   "source": []
  },
  {
   "cell_type": "code",
   "execution_count": null,
   "id": "available-psychology",
   "metadata": {},
   "outputs": [],
   "source": [
    "get_player_live_details(428, 8)"
   ]
  },
  {
   "cell_type": "code",
   "execution_count": null,
   "id": "random-springer",
   "metadata": {},
   "outputs": [],
   "source": [
    "# get the start time\n",
    "st = time.time()\n",
    "final_report_info = manager_players_info_maker(all_managers_dic, 4)\n",
    "# get the end time\n",
    "et = time.time()\n",
    "# get the execution time\n",
    "elapsed_time = et - st\n",
    "print('Execution time:', elapsed_time, 'seconds')"
   ]
  },
  {
   "cell_type": "code",
   "execution_count": null,
   "id": "going-protein",
   "metadata": {},
   "outputs": [],
   "source": [
    "my_str = \"Germany 🇩🇪:::::::::::::::::::::::::::::::::::::::::: 62 pts.\""
   ]
  },
  {
   "cell_type": "code",
   "execution_count": null,
   "id": "above-domain",
   "metadata": {},
   "outputs": [],
   "source": [
    "len(my_str)"
   ]
  },
  {
   "cell_type": "code",
   "execution_count": null,
   "id": "general-imaging",
   "metadata": {},
   "outputs": [],
   "source": [
    "my_str"
   ]
  },
  {
   "cell_type": "code",
   "execution_count": null,
   "id": "formal-calcium",
   "metadata": {},
   "outputs": [],
   "source": [
    "final_report_info"
   ]
  },
  {
   "cell_type": "code",
   "execution_count": null,
   "id": "copyrighted-charlotte",
   "metadata": {},
   "outputs": [],
   "source": [
    "# get the start time\n",
    "st = time.time()\n",
    "live_report_all = live_report_maker(all_managers_dic, 4)\n",
    "# get the end time\n",
    "et = time.time()\n",
    "# get the execution time\n",
    "elapsed_time = et - st\n",
    "print('Execution time:', elapsed_time, 'seconds')"
   ]
  },
  {
   "cell_type": "code",
   "execution_count": null,
   "id": "reported-presentation",
   "metadata": {
    "scrolled": false
   },
   "outputs": [],
   "source": [
    "print(live_report_all)"
   ]
  },
  {
   "cell_type": "code",
   "execution_count": null,
   "id": "israeli-scene",
   "metadata": {},
   "outputs": [],
   "source": [
    "import pyperclip"
   ]
  },
  {
   "cell_type": "code",
   "execution_count": null,
   "id": "standard-suffering",
   "metadata": {},
   "outputs": [],
   "source": [
    "pyperclip.copy(live_report_all)"
   ]
  },
  {
   "cell_type": "code",
   "execution_count": null,
   "id": "resident-pension",
   "metadata": {},
   "outputs": [],
   "source": [
    "# get the start time\n",
    "st = time.time()\n",
    "table_3 = table_maker(all_managers_dic, 3)\n",
    "# get the end time\n",
    "et = time.time()\n",
    "# get the execution time\n",
    "elapsed_time = et - st\n",
    "print('Execution time:', elapsed_time, 'seconds')"
   ]
  },
  {
   "cell_type": "code",
   "execution_count": null,
   "id": "marine-navigation",
   "metadata": {},
   "outputs": [],
   "source": [
    "table_3"
   ]
  },
  {
   "cell_type": "code",
   "execution_count": null,
   "id": "specified-sunset",
   "metadata": {},
   "outputs": [],
   "source": [
    "# get the start time\n",
    "st = time.time()\n",
    "final_report_dic = manager_players_info_maker(all_managers_dic, 2)\n",
    "# get the end time\n",
    "et = time.time()\n",
    "# get the execution time\n",
    "elapsed_time = et - st\n",
    "print('Execution time:', elapsed_time, 'seconds')"
   ]
  },
  {
   "cell_type": "code",
   "execution_count": null,
   "id": "ultimate-hydrogen",
   "metadata": {},
   "outputs": [],
   "source": [
    "print(u\"\\U0001F947\" + \"Ali\")"
   ]
  },
  {
   "cell_type": "code",
   "execution_count": null,
   "id": "proper-stage",
   "metadata": {},
   "outputs": [],
   "source": [
    "# get the start time\n",
    "st = time.time()\n",
    "table_1 = table_maker(all_managers_dic, 2)\n",
    "# get the end time\n",
    "et = time.time()\n",
    "# get the execution time\n",
    "elapsed_time = et - st\n",
    "print('Execution time:', elapsed_time, 'seconds')"
   ]
  },
  {
   "cell_type": "code",
   "execution_count": null,
   "id": "cellular-clothing",
   "metadata": {},
   "outputs": [],
   "source": [
    "table_1"
   ]
  },
  {
   "cell_type": "code",
   "execution_count": null,
   "id": "alone-knock",
   "metadata": {},
   "outputs": [],
   "source": [
    "for manager, players in all_managers_dic.items():\n",
    "    \n",
    "    "
   ]
  },
  {
   "cell_type": "code",
   "execution_count": null,
   "id": "chicken-brook",
   "metadata": {},
   "outputs": [],
   "source": [
    "managers_data = gw_dic_reporter(all_managers_dic, 8)"
   ]
  },
  {
   "cell_type": "code",
   "execution_count": null,
   "id": "higher-broadway",
   "metadata": {},
   "outputs": [],
   "source": [
    "from IPython.display import Markdown, display\n",
    "def printmd(string):\n",
    "    display(Markdown(string))"
   ]
  },
  {
   "cell_type": "code",
   "execution_count": null,
   "id": "oriental-dallas",
   "metadata": {},
   "outputs": [],
   "source": [
    "printmd(\"here we go**bold text**\")"
   ]
  },
  {
   "cell_type": "code",
   "execution_count": null,
   "id": "russian-aquatic",
   "metadata": {},
   "outputs": [],
   "source": []
  },
  {
   "cell_type": "code",
   "execution_count": null,
   "id": "upper-chapel",
   "metadata": {},
   "outputs": [],
   "source": [
    "get_player_live_details(428, 8)"
   ]
  },
  {
   "cell_type": "code",
   "execution_count": null,
   "id": "virgin-founder",
   "metadata": {},
   "outputs": [],
   "source": [
    "for week in my_player:\n",
    "    print(week[\"total_points\"])"
   ]
  },
  {
   "cell_type": "code",
   "execution_count": null,
   "id": "ideal-ukraine",
   "metadata": {},
   "outputs": [],
   "source": [
    "all_managers_points = gw_dic_reporter(all_managers_dic, 4)"
   ]
  },
  {
   "cell_type": "code",
   "execution_count": null,
   "id": "christian-yorkshire",
   "metadata": {},
   "outputs": [],
   "source": [
    "all_managers_points"
   ]
  },
  {
   "cell_type": "code",
   "execution_count": null,
   "id": "vietnamese-attention",
   "metadata": {},
   "outputs": [],
   "source": [
    "for manager in all_manager_points.items():\n",
    "    print"
   ]
  },
  {
   "cell_type": "code",
   "execution_count": null,
   "id": "broken-belief",
   "metadata": {},
   "outputs": [],
   "source": [
    "from all_vars import mappers_dic, all_managers_dic, element_type_mapper, German_leagues_ids, league_city_plus_managers\n",
    "from utils import *\n",
    "import time\n"
   ]
  },
  {
   "cell_type": "code",
   "execution_count": null,
   "id": "broke-chance",
   "metadata": {},
   "outputs": [],
   "source": [
    "all_ids = fantasy_id_to_draft_id_converter()"
   ]
  },
  {
   "cell_type": "code",
   "execution_count": null,
   "id": "rational-adrian",
   "metadata": {},
   "outputs": [],
   "source": [
    "all_ids"
   ]
  },
  {
   "cell_type": "code",
   "execution_count": null,
   "id": "banned-danger",
   "metadata": {
    "scrolled": true
   },
   "outputs": [],
   "source": [
    "from all_vars import mappers_dic, managers_league_dic_2, all_managers_dic, element_type_mapper, German_leagues_ids, German_leagues_ids_dic, league_city_plus_managers\n",
    "from utils import *\n",
    "import sys\n",
    "from termcolor import colored, cprint\n",
    "import time\n",
    "import json\n",
    "league_code_finder(270400, 270600)"
   ]
  },
  {
   "cell_type": "code",
   "execution_count": null,
   "id": "interesting-suite",
   "metadata": {},
   "outputs": [],
   "source": []
  }
 ],
 "metadata": {
  "kernelspec": {
   "display_name": "Python 3",
   "language": "python",
   "name": "python3"
  },
  "language_info": {
   "codemirror_mode": {
    "name": "ipython",
    "version": 3
   },
   "file_extension": ".py",
   "mimetype": "text/x-python",
   "name": "python",
   "nbconvert_exporter": "python",
   "pygments_lexer": "ipython3",
   "version": "3.8.10"
  },
  "vscode": {
   "interpreter": {
    "hash": "31f2aee4e71d21fbe5cf8b01ff0e069b9275f58929596ceb00d14d90e3e16cd6"
   }
  }
 },
 "nbformat": 4,
 "nbformat_minor": 5
}
