{
 "cells": [
  {
   "cell_type": "markdown",
   "id": "happy-lancaster",
   "metadata": {},
   "source": [
    "## TODO: \n",
    "#### add the name of the leagues to the main dic and show in the tables in gw"
   ]
  },
  {
   "cell_type": "code",
   "execution_count": null,
   "id": "interracial-commitment",
   "metadata": {},
   "outputs": [],
   "source": [
    "fi_dic = {}\n",
    "fi_dic[\"ali\"] = (1, 4, 7)\n",
    "fi_dic[\"naghi\"] = (2, 5, 11)\n",
    "fi_dic[\"alli\"] = (1, 6, 7)\n",
    "fi_dic[\"llli\"] = (1, 5, 7)\n",
    "fi_dic[\"llhhhli\"] = (1, 4, 6)\n",
    "fi_dic[\"llhhoohli\"] = (1, 4, 10)\n",
    "fi_dic[\"llhhooiiihli\"] = (1, 4, 180)\n",
    "\n",
    "\n",
    "\n",
    "sort_managers = sorted(fi_dic.items(), key=lambda x: (x[1][0], x[1][2], x[1][4]), reverse=True)"
   ]
  },
  {
   "cell_type": "code",
   "execution_count": null,
   "id": "liable-pennsylvania",
   "metadata": {},
   "outputs": [],
   "source": [
    "sort_managers"
   ]
  },
  {
   "cell_type": "code",
   "execution_count": null,
   "id": "continent-ready",
   "metadata": {},
   "outputs": [],
   "source": []
  },
  {
   "cell_type": "code",
   "execution_count": 1,
   "id": "juvenile-event",
   "metadata": {
    "scrolled": true
   },
   "outputs": [
    {
     "name": "stderr",
     "output_type": "stream",
     "text": [
      "/usr/lib/python3/dist-packages/requests/__init__.py:89: RequestsDependencyWarning: urllib3 (1.26.7) or chardet (3.0.4) doesn't match a supported version!\n",
      "  warnings.warn(\"urllib3 ({}) or chardet ({}) doesn't match a supported \"\n"
     ]
    }
   ],
   "source": [
    "from all_vars import all_managers_dic, element_type_mapper, German_leagues_ids\n",
    "from utils import *\n",
    "import time"
   ]
  },
  {
   "cell_type": "code",
   "execution_count": 2,
   "id": "transparent-multiple",
   "metadata": {},
   "outputs": [
    {
     "name": "stdout",
     "output_type": "stream",
     "text": [
      "GameWeek 1  Done..., Execution time: 31.42702031135559 seconds\n",
      "GameWeek 2  Done..., Execution time: 28.134350061416626 seconds\n",
      "GameWeek 3  Done..., Execution time: 29.21142029762268 seconds\n",
      "GameWeek 4  Done..., Execution time: 27.573728322982788 seconds\n",
      "GameWeek 5  Done..., Execution time: 28.072669982910156 seconds\n",
      "GameWeek 6  Done..., Execution time: 28.390392541885376 seconds\n",
      "GameWeek 8  Done..., Execution time: 24.31954860687256 seconds\n",
      "{'Great Britain 🇬🇧': 2, 'Italy 🇮🇹': 1, 'South Korea 🇰🇷': 2, 'Germany 🇩🇪': 2}\n",
      "\n",
      "{'South Korea 🇰🇷': 1, 'Germany 🇩🇪': 1, 'Australia 🇦🇺': 3, 'The Soviet Union ☭': 1, 'Japan 🇯🇵': 1}\n",
      "\n",
      "{'Hungary 🇭🇺': 2, 'Argentina 🇦🇷': 2, 'The Soviet Union ☭': 1, 'Japan 🇯🇵': 1, 'Italy 🇮🇹': 1}\n"
     ]
    }
   ],
   "source": [
    "my_leagues_data = live_reports_all(German_leagues_ids)"
   ]
  },
  {
   "cell_type": "code",
   "execution_count": null,
   "id": "mighty-quantum",
   "metadata": {},
   "outputs": [],
   "source": [
    "for league in [59081, 58924]:\n",
    "    for gw in [1,2,3,4,5,6,8]:\n",
    "        print(my_leagues_data[gw][league])\n",
    "        print()"
   ]
  },
  {
   "cell_type": "code",
   "execution_count": null,
   "id": "intellectual-baker",
   "metadata": {
    "scrolled": true
   },
   "outputs": [],
   "source": [
    "good_team_names_with_flag =['Germany 🇩🇪', 'United States 🇺🇲', 'South Korea 🇰🇷', 'Great Britain 🇬🇧', \n",
    "'France 🇫🇷','The Soviet Union ☭', 'Australia 🇦🇺', 'Hungary 🇭🇺', 'New Zealand 🇳🇿', \n",
    "    'Italy 🇮🇹','Argentina 🇦🇷', 'Netherlands 🇳🇱', 'Japan 🇯🇵','China 🇨🇳','Canada 🇨🇦','🏁Referee 6🏁']\n",
    "\n",
    "good_flags = {\"ğŸ‡©ğŸ‡ª\": 'Germany 🇩🇪',\n",
    "                    \"ğŸ‡ºğŸ‡¸\": 'United States 🇺🇲',\n",
    "                    \"ğŸ‡°ğŸ‡·\": 'South Korea 🇰🇷',\n",
    "                    \"ğŸ‡¬ğŸ‡§\": 'Great Britain 🇬🇧',\n",
    "                    \"ğŸ‡¨ğŸ‡µ\": 'France 🇫🇷',\n",
    "                    \"oviet\": 'The Soviet Union ☭',\n",
    "                    \"ğŸ‡¦ğŸ‡º\": 'Australia 🇦🇺',\n",
    "                    \"ğŸ‡­ğŸ‡º\": 'Hungary 🇭🇺',\n",
    "                    \"ğŸ‡³ğŸ‡¿\": 'New Zealand 🇳🇿',\n",
    "                    \"ğŸ‡®ğŸ‡¹\": 'Italy 🇮🇹',\n",
    "                    \"ğŸ‡¦ğŸ‡·\": 'Argentina 🇦🇷',\n",
    "                    \"ğŸ‡³ğŸ‡±\": 'Netherlands 🇳🇱',\n",
    "                    \"ğŸ‡¯ğŸ‡µ\": 'Japan 🇯🇵',\n",
    "                    \"ğŸ‡¨ğŸ‡³\": 'China 🇨🇳',\n",
    "                    \"ğŸ‡¨ğŸ‡¦\": 'Canada 🇨🇦',\n",
    "                    \"ğŸ��\": 'Referee'\n",
    "                    }\n",
    "\n",
    "good_team_names_without_flag =['Germany', 'United States', \"USA\",'ğŸ‡°ğŸ‡·', 'Great Britain', \n",
    "'France','The Soviet Union', 'Australia', 'Hungary', 'Zealan', \n",
    "    'Italy','Argentina', 'Netherlands', 'Japan','ch','Canada','Referee']\n",
    "\n",
    "good_dic_of_team_names_flags = {}\n",
    "for index, team in enumerate(my_league_data[\"choices\"][0:16]):\n",
    "    for good_flag, good_name in good_flags.items():\n",
    "        if good_flag in team[\"entry_name\"]:\n",
    "            print(index+1, good_flag, team[\"entry_name\"])\n",
    "            good_dic_of_team_names_flags[team[\"entry\"]] = good_name"
   ]
  },
  {
   "cell_type": "code",
   "execution_count": null,
   "id": "occupational-letter",
   "metadata": {},
   "outputs": [],
   "source": [
    "good_dic_of_team_names_flags"
   ]
  },
  {
   "cell_type": "code",
   "execution_count": null,
   "id": "positive-mapping",
   "metadata": {},
   "outputs": [],
   "source": [
    "my_dic = {     \"ğŸ‡¨ğŸ‡¦\": 'Canada 🇨🇦',\n",
    "                    \"ğŸ��\": 'Referee'\n",
    "                    }"
   ]
  },
  {
   "cell_type": "code",
   "execution_count": null,
   "id": "final-constraint",
   "metadata": {},
   "outputs": [],
   "source": [
    "for item in my_dic.keys():\n",
    "    print(item)"
   ]
  },
  {
   "cell_type": "code",
   "execution_count": null,
   "id": "systematic-majority",
   "metadata": {},
   "outputs": [],
   "source": []
  },
  {
   "cell_type": "code",
   "execution_count": null,
   "id": "available-psychology",
   "metadata": {},
   "outputs": [],
   "source": [
    "get_player_live_details(428, 8)"
   ]
  },
  {
   "cell_type": "code",
   "execution_count": null,
   "id": "random-springer",
   "metadata": {},
   "outputs": [],
   "source": [
    "# get the start time\n",
    "st = time.time()\n",
    "final_report_info = manager_players_info_maker(all_managers_dic, 4)\n",
    "# get the end time\n",
    "et = time.time()\n",
    "# get the execution time\n",
    "elapsed_time = et - st\n",
    "print('Execution time:', elapsed_time, 'seconds')"
   ]
  },
  {
   "cell_type": "code",
   "execution_count": null,
   "id": "going-protein",
   "metadata": {},
   "outputs": [],
   "source": [
    "my_str = \"Germany 🇩🇪:::::::::::::::::::::::::::::::::::::::::: 62 pts.\""
   ]
  },
  {
   "cell_type": "code",
   "execution_count": null,
   "id": "above-domain",
   "metadata": {},
   "outputs": [],
   "source": [
    "len(my_str)"
   ]
  },
  {
   "cell_type": "code",
   "execution_count": null,
   "id": "general-imaging",
   "metadata": {},
   "outputs": [],
   "source": [
    "my_str"
   ]
  },
  {
   "cell_type": "code",
   "execution_count": null,
   "id": "formal-calcium",
   "metadata": {},
   "outputs": [],
   "source": [
    "final_report_info"
   ]
  },
  {
   "cell_type": "code",
   "execution_count": null,
   "id": "copyrighted-charlotte",
   "metadata": {},
   "outputs": [],
   "source": [
    "# get the start time\n",
    "st = time.time()\n",
    "live_report_all = live_report_maker(all_managers_dic, 4)\n",
    "# get the end time\n",
    "et = time.time()\n",
    "# get the execution time\n",
    "elapsed_time = et - st\n",
    "print('Execution time:', elapsed_time, 'seconds')"
   ]
  },
  {
   "cell_type": "code",
   "execution_count": null,
   "id": "reported-presentation",
   "metadata": {
    "scrolled": false
   },
   "outputs": [],
   "source": [
    "print(live_report_all)"
   ]
  },
  {
   "cell_type": "code",
   "execution_count": null,
   "id": "israeli-scene",
   "metadata": {},
   "outputs": [],
   "source": [
    "import pyperclip"
   ]
  },
  {
   "cell_type": "code",
   "execution_count": null,
   "id": "standard-suffering",
   "metadata": {},
   "outputs": [],
   "source": [
    "pyperclip.copy(live_report_all)"
   ]
  },
  {
   "cell_type": "code",
   "execution_count": null,
   "id": "resident-pension",
   "metadata": {},
   "outputs": [],
   "source": [
    "# get the start time\n",
    "st = time.time()\n",
    "table_3 = table_maker(all_managers_dic, 3)\n",
    "# get the end time\n",
    "et = time.time()\n",
    "# get the execution time\n",
    "elapsed_time = et - st\n",
    "print('Execution time:', elapsed_time, 'seconds')"
   ]
  },
  {
   "cell_type": "code",
   "execution_count": null,
   "id": "marine-navigation",
   "metadata": {},
   "outputs": [],
   "source": [
    "table_3"
   ]
  },
  {
   "cell_type": "code",
   "execution_count": null,
   "id": "specified-sunset",
   "metadata": {},
   "outputs": [],
   "source": [
    "# get the start time\n",
    "st = time.time()\n",
    "final_report_dic = manager_players_info_maker(all_managers_dic, 2)\n",
    "# get the end time\n",
    "et = time.time()\n",
    "# get the execution time\n",
    "elapsed_time = et - st\n",
    "print('Execution time:', elapsed_time, 'seconds')"
   ]
  },
  {
   "cell_type": "code",
   "execution_count": null,
   "id": "ultimate-hydrogen",
   "metadata": {},
   "outputs": [],
   "source": [
    "print(u\"\\U0001F947\" + \"Ali\")"
   ]
  },
  {
   "cell_type": "code",
   "execution_count": null,
   "id": "proper-stage",
   "metadata": {},
   "outputs": [],
   "source": [
    "# get the start time\n",
    "st = time.time()\n",
    "table_1 = table_maker(all_managers_dic, 2)\n",
    "# get the end time\n",
    "et = time.time()\n",
    "# get the execution time\n",
    "elapsed_time = et - st\n",
    "print('Execution time:', elapsed_time, 'seconds')"
   ]
  },
  {
   "cell_type": "code",
   "execution_count": null,
   "id": "cellular-clothing",
   "metadata": {},
   "outputs": [],
   "source": [
    "table_1"
   ]
  },
  {
   "cell_type": "code",
   "execution_count": null,
   "id": "alone-knock",
   "metadata": {},
   "outputs": [],
   "source": [
    "for manager, players in all_managers_dic.items():\n",
    "    \n",
    "    "
   ]
  },
  {
   "cell_type": "code",
   "execution_count": null,
   "id": "chicken-brook",
   "metadata": {},
   "outputs": [],
   "source": [
    "managers_data = gw_dic_reporter(all_managers_dic, 8)"
   ]
  },
  {
   "cell_type": "code",
   "execution_count": null,
   "id": "higher-broadway",
   "metadata": {},
   "outputs": [],
   "source": [
    "from IPython.display import Markdown, display\n",
    "def printmd(string):\n",
    "    display(Markdown(string))"
   ]
  },
  {
   "cell_type": "code",
   "execution_count": null,
   "id": "oriental-dallas",
   "metadata": {},
   "outputs": [],
   "source": [
    "printmd(\"here we go**bold text**\")"
   ]
  },
  {
   "cell_type": "code",
   "execution_count": null,
   "id": "russian-aquatic",
   "metadata": {},
   "outputs": [],
   "source": []
  },
  {
   "cell_type": "code",
   "execution_count": null,
   "id": "upper-chapel",
   "metadata": {},
   "outputs": [],
   "source": [
    "get_player_live_details(428, 8)"
   ]
  },
  {
   "cell_type": "code",
   "execution_count": null,
   "id": "virgin-founder",
   "metadata": {},
   "outputs": [],
   "source": [
    "for week in my_player:\n",
    "    print(week[\"total_points\"])"
   ]
  },
  {
   "cell_type": "code",
   "execution_count": null,
   "id": "ideal-ukraine",
   "metadata": {},
   "outputs": [],
   "source": [
    "all_managers_points = gw_dic_reporter(all_managers_dic, 4)"
   ]
  },
  {
   "cell_type": "code",
   "execution_count": null,
   "id": "christian-yorkshire",
   "metadata": {},
   "outputs": [],
   "source": [
    "all_managers_points"
   ]
  },
  {
   "cell_type": "code",
   "execution_count": null,
   "id": "vietnamese-attention",
   "metadata": {},
   "outputs": [],
   "source": [
    "for manager in all_manager_points.items():\n",
    "    print"
   ]
  },
  {
   "cell_type": "code",
   "execution_count": null,
   "id": "broken-belief",
   "metadata": {},
   "outputs": [],
   "source": []
  }
 ],
 "metadata": {
  "kernelspec": {
   "display_name": "Python 3",
   "language": "python",
   "name": "python3"
  },
  "language_info": {
   "codemirror_mode": {
    "name": "ipython",
    "version": 3
   },
   "file_extension": ".py",
   "mimetype": "text/x-python",
   "name": "python",
   "nbconvert_exporter": "python",
   "pygments_lexer": "ipython3",
   "version": "3.8.10"
  }
 },
 "nbformat": 4,
 "nbformat_minor": 5
}
