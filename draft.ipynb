{
 "cells": [
  {
   "cell_type": "code",
   "execution_count": null,
   "id": "greenhouse-spring",
   "metadata": {},
   "outputs": [],
   "source": [
    "from IPython.display import display, HTML\n",
    "display(HTML(\"<style>.container { width:100% !important; }</style>\"))"
   ]
  },
  {
   "cell_type": "code",
   "execution_count": null,
   "id": "increased-professor",
   "metadata": {},
   "outputs": [],
   "source": [
    "from all_vars import mappers_dic, managers_league_dic_2, all_managers_dic_old, all_managers_second_round, element_type_mapper, German_leagues_ids, German_leagues_ids_dic, league_city_plus_managers\n",
    "from utils import *\n",
    "import sys\n",
    "from termcolor import colored, cprint\n",
    "import time\n",
    "import json\n",
    "# min 1, max 58000\n",
    "league_code_finder(22680, 22690)"
   ]
  },
  {
   "cell_type": "code",
   "execution_count": null,
   "id": "parliamentary-pollution",
   "metadata": {},
   "outputs": [],
   "source": [
    "21385  *************** 11\n",
    "21675  *************** 13\n",
    "21676  *************** 13\n",
    "21677  *************** 13\n",
    "21679  *************** 11\n",
    "22687\n",
    "22189  *************** 11\n",
    "22691  *************** 13\n",
    "22694  *************** 12\n",
    "22695  *************** 13\n",
    "22696  *************** 10\n",
    "24160  *************** 10\n"
   ]
  },
  {
   "cell_type": "code",
   "execution_count": null,
   "id": "tutorial-bobby",
   "metadata": {},
   "outputs": [],
   "source": [
    "\n",
    "\n",
    "league_url = f\"https://draft.premierleague.com/api/draft/22687/choices\"\n",
    "response = requests.get(league_url)\n",
    "\n",
    "my_league_data = json.loads(response.text)\n",
    "number_of_flags = 0\n",
    "\n",
    "for index, team in enumerate(my_league_data[\"choices\"][0:16]):\n",
    "    #for good_flag, flag_image in good_flags_2.items():\n",
    "    print(team['entry_name'])\n",
    "        #if flag_image in team[\"entry_name\"]:# or good_flag in team[\"entry_name\"]:\n",
    "        #    print(good_flag)\n",
    "            #    number_of_flags+=1"
   ]
  },
  {
   "cell_type": "code",
   "execution_count": null,
   "id": "permanent-penalty",
   "metadata": {},
   "outputs": [],
   "source": [
    "print(a)"
   ]
  },
  {
   "cell_type": "markdown",
   "id": "happy-lancaster",
   "metadata": {},
   "source": [
    "## TODO: \n",
    "#### add the name of the leagues to the main dic and show in the tables in gw"
   ]
  },
  {
   "cell_type": "code",
   "execution_count": null,
   "id": "decimal-stock",
   "metadata": {},
   "outputs": [],
   "source": [
    "# this block is NOT all we need for recreating top players in the world per gw\n",
    "# We need to run live_reports_all() before hand, as we need the \n",
    "# second output the JSON file as the input here\n",
    "# For gw 9, we have it already, and we can actually modify the old file every gw, so that\n",
    "# we don't need to go through every gw every time.\n",
    "from all_vars import mappers_dic, managers_league_dic_2, all_managers_dic_old, all_managers_second_round, element_type_mapper, German_leagues_ids, German_leagues_ids_dic, league_city_plus_managers\n",
    "from utils import *\n",
    "import sys\n",
    "from termcolor import colored, cprint\n",
    "import time\n",
    "import json"
   ]
  },
  {
   "cell_type": "code",
   "execution_count": null,
   "id": "encouraging-counter",
   "metadata": {},
   "outputs": [],
   "source": [
    "# to create the json file:\n",
    "# the first item in gw_numbers must be the newest gw that is not yet in the dic\n",
    "my_leagues_data_tables, my_medals, my_mappers = live_reports_all(German_leagues_ids, [24,], mappers_dic)"
   ]
  },
  {
   "cell_type": "code",
   "execution_count": null,
   "id": "alpine-absolute",
   "metadata": {},
   "outputs": [],
   "source": [
    "# to use the JSON file:\n",
    "# the number of gw must match the latest gw.\n",
    "# You need to restrat the kernel to get the right reuslt.\n",
    "all_top_tables_dic = top_players_table_maker_for_all_gws(mappers_dic, 'medal_dics_for_all_16.json')"
   ]
  },
  {
   "cell_type": "code",
   "execution_count": null,
   "id": "british-strand",
   "metadata": {},
   "outputs": [],
   "source": []
  },
  {
   "cell_type": "code",
   "execution_count": null,
   "id": "acceptable-telephone",
   "metadata": {},
   "outputs": [],
   "source": [
    "all_top_tables_dic = top_players_table_maker_for_all_gws_medal_indifferent(mappers_dic, 'medal_dics_for_all_16.json')"
   ]
  },
  {
   "cell_type": "code",
   "execution_count": null,
   "id": "seven-works",
   "metadata": {},
   "outputs": [],
   "source": [
    "from all_vars import mappers_dic, managers_league_dic_2, all_managers_dic_old, all_managers_second_round, element_type_mapper, German_leagues_ids, German_leagues_ids_dic, league_city_plus_managers\n",
    "from utils import *\n",
    "from text_adds import *\n",
    "\n",
    "import sys\n",
    "from termcolor import colored, cprint\n",
    "import time\n",
    "import json\n",
    "\n",
    "#all_managers_second_round_slim = league_managers_finder_slim(German_leagues_ids_dic)"
   ]
  },
  {
   "cell_type": "code",
   "execution_count": null,
   "id": "assured-serum",
   "metadata": {},
   "outputs": [],
   "source": [
    "print(all_managers_second_round_slim)"
   ]
  },
  {
   "cell_type": "code",
   "execution_count": null,
   "id": "ruled-cricket",
   "metadata": {},
   "outputs": [],
   "source": [
    "all_managers_second_round_slim['22687']"
   ]
  },
  {
   "cell_type": "code",
   "execution_count": null,
   "id": "contained-textbook",
   "metadata": {},
   "outputs": [],
   "source": [
    "all_managers_second_round_slim['24160']"
   ]
  },
  {
   "cell_type": "code",
   "execution_count": null,
   "id": "pleasant-equilibrium",
   "metadata": {},
   "outputs": [],
   "source": [
    "#for i in range(1,10):\n",
    "#live_HTML_All(all_managers_second_round, 11)\n",
    "live_HTML_All(all_managers_second_round, 12)"
   ]
  },
  {
   "cell_type": "code",
   "execution_count": null,
   "id": "placed-macro",
   "metadata": {},
   "outputs": [],
   "source": [
    "    emoji_dic = {\n",
    "        'Golf': '🏌',\n",
    "        'Fencing': '&#129338;',\n",
    "        'Swimming': '🏊',\n",
    "        'Basketball': '&#9977;',\n",
    "        'Gymnastics': '🤸',\n",
    "        'Cycling': '🚴',\n",
    "        'Horseback Riding': '&#127943;',\n",
    "        'Handball': '🤾',\n",
    "        'Weightlifting': '&#x1F3CB;',\n",
    "        'Rowing': '🚣',\n",
    "        'Waterpolo': '&#129341;',\n",
    "        'Wrestling': '🤼',\n",
    "    }"
   ]
  },
  {
   "cell_type": "code",
   "execution_count": null,
   "id": "rolled-schema",
   "metadata": {},
   "outputs": [],
   "source": []
  },
  {
   "cell_type": "code",
   "execution_count": null,
   "id": "burning-shuttle",
   "metadata": {},
   "outputs": [],
   "source": [
    "from datetime import datetime, timedelta\n",
    "import pytz\n",
    "\n",
    "# Define the target timezone\n",
    "target_timezone = pytz.timezone('Europe/London')\n",
    "timezone_iran = pytz.timezone('Asia/Tehran')\n",
    "\n",
    "# Get the current time in the target timezone\n",
    "current_datetime = datetime.now(target_timezone)\n",
    "current_datetime_iran = datetime.now(timezone_iran)\n",
    "\n",
    "# Get the current date in the target timezone\n",
    "current_date = current_datetime.date()\n",
    "current_date_iran = current_datetime_iran.date()\n",
    "\n",
    "# Calculate the time difference from the current time\n",
    "time_difference = datetime.now(target_timezone) - current_datetime\n",
    "time_difference_iran = datetime.now(timezone_iran) - current_datetime_iran\n",
    "\n",
    "# Determine the appropriate time description\n",
    "if time_difference.days == 0:\n",
    "    time_description = \"Today\"\n",
    "elif time_difference.days == 1:\n",
    "    time_description = \"Yesterday\"\n",
    "else:\n",
    "    time_description = f\"{time_difference.days} days ago\"\n",
    "    \n",
    "# Determine the appropriate time description\n",
    "if time_difference_iran.days == 0:\n",
    "    time_description_iran = \"Today\"\n",
    "elif time_difference_iran.days == 1:\n",
    "    time_description_iran = \"Yesterday\"\n",
    "else:\n",
    "    time_description_iran = f\"{time_difference.days} days ago\"\n",
    "\n",
    "# Format the time and timezone information\n",
    "formatted_time = current_datetime.strftime(\"%H:%M\")\n",
    "timezone_name = current_datetime.tzname()\n",
    "\n",
    "# Format the time and timezone information\n",
    "formatted_time_iran = current_datetime_iran.strftime(\"%H:%M\")\n",
    "timezone_name_iran = current_datetime_iran.tzname()\n",
    "\n",
    "# Create the final output text\n",
    "final_output = f\"{time_description_iran}, {formatted_time_iran} <sup>(Tehran)</sup> / {time_description}, {formatted_time} <sup>(London)</sup>,  \"\n",
    "\n",
    "print(final_output)\n"
   ]
  },
  {
   "cell_type": "code",
   "execution_count": null,
   "id": "acceptable-memphis",
   "metadata": {},
   "outputs": [],
   "source": []
  },
  {
   "cell_type": "code",
   "execution_count": null,
   "id": "ruled-tongue",
   "metadata": {},
   "outputs": [],
   "source": [
    "from datetime import datetime\n",
    "import pytz\n",
    "\n",
    "# Get the current time in a specific timezone (e.g., 'UTC')\n",
    "timezone = pytz.timezone('Europe/London')\n",
    "current_datetime = datetime.now(timezone)\n",
    "\n",
    "# Extract the time of the day in the specified timezone\n",
    "current_time = current_datetime.time()\n",
    "\n",
    "# Format and print the time along with the timezone\n",
    "print(\"Current time of the day in UTC:\", current_time)"
   ]
  },
  {
   "cell_type": "code",
   "execution_count": null,
   "id": "focal-miller",
   "metadata": {},
   "outputs": [],
   "source": [
    "# Gives the compact version with coloring for each player\n",
    "\n",
    "live_HTML_All_SHORT(all_managers_second_round, 7)"
   ]
  },
  {
   "cell_type": "code",
   "execution_count": null,
   "id": "regular-native",
   "metadata": {},
   "outputs": [],
   "source": []
  },
  {
   "cell_type": "code",
   "execution_count": null,
   "id": "advanced-european",
   "metadata": {},
   "outputs": [],
   "source": [
    "len(all_top_tables_dic)"
   ]
  },
  {
   "cell_type": "code",
   "execution_count": null,
   "id": "furnished-adolescent",
   "metadata": {
    "scrolled": false
   },
   "outputs": [],
   "source": [
    "print(all_top_tables_dic[\"16\"])"
   ]
  },
  {
   "cell_type": "code",
   "execution_count": null,
   "id": "single-wichita",
   "metadata": {},
   "outputs": [],
   "source": []
  },
  {
   "cell_type": "code",
   "execution_count": null,
   "id": "proud-recycling",
   "metadata": {},
   "outputs": [],
   "source": [
    "league_managers_finder(league_ids)"
   ]
  },
  {
   "cell_type": "code",
   "execution_count": null,
   "id": "fatty-porter",
   "metadata": {
    "scrolled": true
   },
   "outputs": [],
   "source": [
    "from all_vars import mappers_dic, all_managers_dic, element_type_mapper, German_leagues_ids, league_city_plus_managers\n",
    "from utils import *\n",
    "import time\n",
    "new_player_ids = fantasy_id_to_draft_id_converter()"
   ]
  },
  {
   "cell_type": "code",
   "execution_count": null,
   "id": "vietnamese-glasgow",
   "metadata": {},
   "outputs": [],
   "source": [
    "# get the start time\n",
    "st = time.time()\n",
    "gw_10_all = live_HTML_All(league_city_plus_managers, 13)\n",
    "# get the end time\n",
    "et = time.time()\n",
    "# get the execution time\n",
    "elapsed_time = et - st\n",
    "print('Execution time:', elapsed_time, 'seconds')"
   ]
  },
  {
   "cell_type": "code",
   "execution_count": null,
   "id": "minor-eagle",
   "metadata": {},
   "outputs": [],
   "source": []
  },
  {
   "cell_type": "code",
   "execution_count": null,
   "id": "completed-migration",
   "metadata": {},
   "outputs": [],
   "source": []
  },
  {
   "cell_type": "code",
   "execution_count": null,
   "id": "objective-impossible",
   "metadata": {},
   "outputs": [],
   "source": [
    "gw_9 = live_report_maker_HTML(all_managers_dic, 9)"
   ]
  },
  {
   "cell_type": "code",
   "execution_count": null,
   "id": "miniature-patrol",
   "metadata": {},
   "outputs": [],
   "source": [
    "print(gw_9)"
   ]
  },
  {
   "cell_type": "code",
   "execution_count": null,
   "id": "desperate-suite",
   "metadata": {},
   "outputs": [],
   "source": [
    "xyx = league_managers_finder_slim(German_leagues_ids_dic)"
   ]
  },
  {
   "cell_type": "code",
   "execution_count": null,
   "id": "adapted-phrase",
   "metadata": {},
   "outputs": [],
   "source": [
    "xyx"
   ]
  },
  {
   "cell_type": "code",
   "execution_count": null,
   "id": "insured-nancy",
   "metadata": {},
   "outputs": [],
   "source": []
  },
  {
   "cell_type": "code",
   "execution_count": null,
   "id": "interracial-commitment",
   "metadata": {},
   "outputs": [],
   "source": [
    "fi_dic = {}\n",
    "fi_dic[\"ali\"] = (1, 4, 7)\n",
    "fi_dic[\"naghi\"] = (2, 5, 11)\n",
    "fi_dic[\"alli\"] = (1, 6, 7)\n",
    "fi_dic[\"llli\"] = (1, 5, 7)\n",
    "fi_dic[\"llhhhli\"] = (1, 4, 6)\n",
    "fi_dic[\"llhhoohli\"] = (1, 4, 10)\n",
    "fi_dic[\"llhhooiiihli\"] = (1, 4, 180)\n",
    "\n",
    "\n",
    "\n",
    "sort_managers = sorted(fi_dic.items(), key=lambda x: (x[1][0], x[1][2], x[1][4]), reverse=True)"
   ]
  },
  {
   "cell_type": "code",
   "execution_count": null,
   "id": "liable-pennsylvania",
   "metadata": {},
   "outputs": [],
   "source": [
    "sort_managers"
   ]
  },
  {
   "cell_type": "markdown",
   "id": "precise-migration",
   "metadata": {},
   "source": [
    "# Prerequisite for the main tables to work with the saved json files"
   ]
  },
  {
   "cell_type": "code",
   "execution_count": null,
   "id": "opponent-occasions",
   "metadata": {},
   "outputs": [],
   "source": []
  },
  {
   "cell_type": "code",
   "execution_count": null,
   "id": "eastern-dining",
   "metadata": {},
   "outputs": [],
   "source": []
  },
  {
   "cell_type": "code",
   "execution_count": null,
   "id": "juvenile-event",
   "metadata": {
    "scrolled": true
   },
   "outputs": [],
   "source": [
    "from all_vars import all_managers_dic, element_type_mapper, German_leagues_ids, mappers_dic\n",
    "from utils import *\n",
    "import time"
   ]
  },
  {
   "cell_type": "code",
   "execution_count": null,
   "id": "systematic-fashion",
   "metadata": {},
   "outputs": [],
   "source": [
    "#league_code_finder()"
   ]
  },
  {
   "cell_type": "code",
   "execution_count": null,
   "id": "atmospheric-teacher",
   "metadata": {},
   "outputs": [],
   "source": [
    "#league_info_collector(German_leagues_ids)"
   ]
  },
  {
   "cell_type": "code",
   "execution_count": null,
   "id": "transparent-multiple",
   "metadata": {
    "scrolled": false
   },
   "outputs": [],
   "source": [
    "my_leagues_data_tables, my_medals, my_mappers = live_reports_all(German_leagues_ids, [8,9,10], mappers_dic)"
   ]
  },
  {
   "cell_type": "code",
   "execution_count": null,
   "id": "christian-presentation",
   "metadata": {},
   "outputs": [],
   "source": []
  },
  {
   "cell_type": "code",
   "execution_count": null,
   "id": "informational-norway",
   "metadata": {},
   "outputs": [],
   "source": []
  },
  {
   "cell_type": "code",
   "execution_count": null,
   "id": "suspended-saver",
   "metadata": {},
   "outputs": [],
   "source": []
  },
  {
   "cell_type": "code",
   "execution_count": null,
   "id": "spoken-skirt",
   "metadata": {},
   "outputs": [],
   "source": [
    "from extra_vars import all_points_10, all_points_8, all_points_2, all_points_6\n",
    "total_points_dic = {}\n",
    "for index, item in all_points_10.items():\n",
    "    if index==10:\n",
    "        for key, value in item.items():\n",
    "            total_points = all_points_10[10][key][1][5] - (all_points_8[8][key][1][5]  - all_points_6[6][key][1][5])/2 + all_points_2[2][key][1][5]\n",
    "            total_points_dic[key] = int(total_points)\n",
    "#print(all_points_10[10][('Germany 🇩🇪', 59081)])\n",
    "\n",
    "sorted_managers = sorted(total_points_dic.items(), key=lambda x: (x[1]), reverse=True)"
   ]
  },
  {
   "cell_type": "code",
   "execution_count": null,
   "id": "academic-submission",
   "metadata": {},
   "outputs": [],
   "source": [
    "sorted_managers"
   ]
  },
  {
   "cell_type": "code",
   "execution_count": null,
   "id": "intensive-penguin",
   "metadata": {},
   "outputs": [],
   "source": []
  },
  {
   "cell_type": "code",
   "execution_count": null,
   "id": "dimensional-narrow",
   "metadata": {},
   "outputs": [],
   "source": []
  },
  {
   "cell_type": "code",
   "execution_count": null,
   "id": "lucky-garage",
   "metadata": {},
   "outputs": [],
   "source": [
    "from all_vars import managers_league_dic_2\n",
    "\n",
    "# make_a dictionary that maps names to league_ids and countries\n",
    "# {\n",
    "#   (\"Germany 🇩🇪\", 54657) : \"Milad Benam\",\n",
    "#}\n",
    "mapper_dic = {}\n",
    "for lid, nums in managers_league_dic_2.items():\n",
    "    for num, real_dic in nums.items():\n",
    "        if real_dic.get('country', None):\n",
    "            proper_key = (real_dic.get('country', None), lid)\n",
    "            mapper_dic[proper_key] = [real_dic[\"first_name\"] + \" \" + real_dic[\"last_name\"], [0,0,0,0,0]]\n",
    "            #print(real_dic[\"last_name\"], real_dic[\"first_name\"])\n",
    "        else:\n",
    "            print(lid, real_dic)\n"
   ]
  },
  {
   "cell_type": "code",
   "execution_count": null,
   "id": "micro-queens",
   "metadata": {},
   "outputs": [],
   "source": [
    "mapper_dic"
   ]
  },
  {
   "cell_type": "code",
   "execution_count": null,
   "id": "surgical-transport",
   "metadata": {},
   "outputs": [],
   "source": [
    "import json\n",
    "with open('medal_dics_for_all_9.json', 'r') as f1:\n",
    "    my_medals = json.load(f1)"
   ]
  },
  {
   "cell_type": "code",
   "execution_count": null,
   "id": "asian-notice",
   "metadata": {
    "scrolled": true
   },
   "outputs": [],
   "source": [
    "from all_vars import all_managers_full_up_to_gw_8\n",
    "\n",
    "my_dic_til_8 = dict(all_managers_full_up_to_gw_8)\n",
    "number_of_medal_ceremonies = 0 \n",
    "for gw, league in my_medals.items():\n",
    "    if int(gw) > 45:\n",
    "        continue\n",
    "    else: # gw:9 \n",
    "        for league_id, medal_lists in league.items():\n",
    "            for medal_color, country in medal_lists.items():\n",
    "                if medal_color == \"gold\":\n",
    "                    #print(medal_color, country, mapper_dic[(country,int(league_id))])\n",
    "                    mapper_dic[(country,int(league_id))][1][0] = mapper_dic[(country,int(league_id))][1][0] + 1\n",
    "                if medal_color == \"silver\":\n",
    "                    #print(medal_color, country, mapper_dic[(country,int(league_id))])\n",
    "                    mapper_dic[(country,int(league_id))][1][1] = mapper_dic[(country,int(league_id))][1][1] + 1\n",
    "                if medal_color == \"bronze\":\n",
    "                    #print(medal_color, country, mapper_dic[(country,int(league_id))])\n",
    "                    mapper_dic[(country,int(league_id))][1][2] = mapper_dic[(country,int(league_id))][1][2] + 1\n",
    "                if medal_color == \"fourth\":\n",
    "                    #print(medal_color, country, mapper_dic[(country,int(league_id))])\n",
    "                    mapper_dic[(country,int(league_id))][1][3] = mapper_dic[(country,int(league_id))][1][3] + 1\n",
    "                if medal_color == \"fifth\":\n",
    "                    #print(medal_color, country, mapper_dic[(country,int(league_id))])\n",
    "                    mapper_dic[(country,int(league_id))][1][4] = mapper_dic[(country,int(league_id))][1][4] + 1\n",
    "                #f lid == league_id:\n",
    "                #   for lid, nums in all_managers_full_up_to_gw_8.items():\n",
    "                 #      for num, real_dic in nums.items():\n",
    "                   #        #print(real_dic)\n",
    "                  ##        if real_dic.get('country', \"XYZ\") == \"Germany 🇩🇪\" and medal_color == \"gold\":\n",
    "                    #          number_of_medal_ceremonies = number_of_medal_ceremonies + 1\n",
    "                    #          print(number_of_medal_ceremonies, medal_color, real_dic[\"first_name\"])"
   ]
  },
  {
   "cell_type": "code",
   "execution_count": null,
   "id": "friendly-border",
   "metadata": {},
   "outputs": [],
   "source": [
    "mapper_dic[('Germany 🇩🇪', 56760)]"
   ]
  },
  {
   "cell_type": "code",
   "execution_count": null,
   "id": "executed-equivalent",
   "metadata": {},
   "outputs": [],
   "source": [
    "sorted_managers = sorted(mapper_dic.items(), key=lambda x: (x[1][1]), reverse=True)"
   ]
  },
  {
   "cell_type": "code",
   "execution_count": null,
   "id": "photographic-alexandria",
   "metadata": {},
   "outputs": [],
   "source": [
    "sorted_managers"
   ]
  },
  {
   "cell_type": "code",
   "execution_count": null,
   "id": "smaller-motor",
   "metadata": {},
   "outputs": [],
   "source": [
    "for gw, league in my_medals.items():\n",
    "    for league_id, medal_lists in league.items():\n",
    "        if gw == \"1\":\n",
    "            print(league_id, medal_lists)\n",
    "    "
   ]
  },
  {
   "cell_type": "code",
   "execution_count": null,
   "id": "african-cycle",
   "metadata": {},
   "outputs": [],
   "source": []
  },
  {
   "cell_type": "code",
   "execution_count": null,
   "id": "governmental-wednesday",
   "metadata": {},
   "outputs": [],
   "source": []
  },
  {
   "cell_type": "code",
   "execution_count": null,
   "id": "juvenile-petersburg",
   "metadata": {},
   "outputs": [],
   "source": [
    "tops_gw_9 = top_players_table_maker(top_players_revealer(my_medals))"
   ]
  },
  {
   "cell_type": "code",
   "execution_count": null,
   "id": "single-finish",
   "metadata": {},
   "outputs": [],
   "source": [
    "majid_medals = [0,0,0,0,0]\n",
    "for gw, league in all_medals_from_json.items():\n",
    "    for league_id_str, all_medals in league.items():\n",
    "        #print(league_id_str)\n",
    "        if league_id_str != \"59081\":\n",
    "            continue\n",
    "        else:\n",
    "            golds = all_medals[\"all_golds\"].get('Germany 🇩🇪', 0)\n",
    "            majid_medals[0] = majid_medals[0] + golds\n",
    "            silvers = all_medals[\"all_silvers\"].get('Germany 🇩🇪', 0)\n",
    "            majid_medals[1] = majid_medals[1] + silvers\n",
    "            bronzes = all_medals[\"all_bronzes\"].get('Germany 🇩🇪', 0)\n",
    "            majid_medals[2] = majid_medals[2] + bronzes\n",
    "            fourths = all_medals[\"all_fourths\"].get('Germany 🇩🇪', 0)\n",
    "            majid_medals[3] = majid_medals[3] + fourths\n",
    "            fifths = all_medals[\"all_fifths\"].get('Germany 🇩🇪', 0)\n",
    "            majid_medals[4] = majid_medals[4] + fifths\n",
    "                #medals_for_me[good_team_name] = all_medals_a_country\n",
    "        #gw_medals_this_league[gw] = medals_for_me\n",
    "    #correct_medals = [int(points/12) for points in majid_medals]\n",
    "print(majid_medals)"
   ]
  },
  {
   "cell_type": "code",
   "execution_count": null,
   "id": "compatible-divorce",
   "metadata": {},
   "outputs": [],
   "source": []
  },
  {
   "cell_type": "code",
   "execution_count": null,
   "id": "liquid-botswana",
   "metadata": {},
   "outputs": [],
   "source": []
  },
  {
   "cell_type": "code",
   "execution_count": null,
   "id": "judicial-christmas",
   "metadata": {},
   "outputs": [],
   "source": [
    "len(my_leagues_data[8])"
   ]
  },
  {
   "cell_type": "code",
   "execution_count": null,
   "id": "opened-substance",
   "metadata": {},
   "outputs": [],
   "source": [
    "for league in [56490, 56760, 57026, 58512, 58924, 59081, 59219, 60061, 60068, 60279, 60283]:\n",
    "    for gw in [1,2,3,4,5,6,8,9]:\n",
    "        print(tops_gw_9[gw][league])\n",
    "        print()"
   ]
  },
  {
   "cell_type": "code",
   "execution_count": null,
   "id": "mighty-quantum",
   "metadata": {},
   "outputs": [],
   "source": [
    "for league in [56490, 56760, 57026, 58512, 58924, 59081, 59219, 60061, 60068, 60279, 60283]:\n",
    "    for gw in [8,]:\n",
    "        print(league)\n",
    "        print(tops_gw_9[gw][league])\n",
    "        print()"
   ]
  },
  {
   "cell_type": "code",
   "execution_count": null,
   "id": "intellectual-baker",
   "metadata": {
    "scrolled": true
   },
   "outputs": [],
   "source": [
    "good_team_names_with_flag =['Germany 🇩🇪', 'United States 🇺🇲', 'South Korea 🇰🇷', 'Great Britain 🇬🇧', \n",
    "'France 🇫🇷','The Soviet Union ☭', 'Australia 🇦🇺', 'Hungary 🇭🇺', 'New Zealand 🇳🇿', \n",
    "    'Italy 🇮🇹','Argentina 🇦🇷', 'Netherlands 🇳🇱', 'Japan 🇯🇵','China 🇨🇳','Canada 🇨🇦','🏁Referee 6🏁']\n",
    "\n",
    "good_flags = {\"ğŸ‡©ğŸ‡ª\": 'Germany 🇩🇪',\n",
    "                    \"ğŸ‡ºğŸ‡¸\": 'United States 🇺🇲',\n",
    "                    \"ğŸ‡°ğŸ‡·\": 'South Korea 🇰🇷',\n",
    "                    \"ğŸ‡¬ğŸ‡§\": 'Great Britain 🇬🇧',\n",
    "                    \"ğŸ‡¨ğŸ‡µ\": 'France 🇫🇷',\n",
    "                    \"oviet\": 'The Soviet Union ☭',\n",
    "                    \"ğŸ‡¦ğŸ‡º\": 'Australia 🇦🇺',\n",
    "                    \"ğŸ‡­ğŸ‡º\": 'Hungary 🇭🇺',\n",
    "                    \"ğŸ‡³ğŸ‡¿\": 'New Zealand 🇳🇿',\n",
    "                    \"ğŸ‡®ğŸ‡¹\": 'Italy 🇮🇹',\n",
    "                    \"ğŸ‡¦ğŸ‡·\": 'Argentina 🇦🇷',\n",
    "                    \"ğŸ‡³ğŸ‡±\": 'Netherlands 🇳🇱',\n",
    "                    \"ğŸ‡¯ğŸ‡µ\": 'Japan 🇯🇵',\n",
    "                    \"ğŸ‡¨ğŸ‡³\": 'China 🇨🇳',\n",
    "                    \"ğŸ‡¨ğŸ‡¦\": 'Canada 🇨🇦',\n",
    "                    \"ğŸ��\": 'Referee'\n",
    "                    }\n",
    "\n",
    "good_team_names_without_flag =['Germany', 'United States', \"USA\",'ğŸ‡°ğŸ‡·', 'Great Britain', \n",
    "'France','The Soviet Union', 'Australia', 'Hungary', 'Zealan', \n",
    "    'Italy','Argentina', 'Netherlands', 'Japan','ch','Canada','Referee']\n",
    "\n",
    "good_dic_of_team_names_flags = {}\n",
    "for index, team in enumerate(my_league_data[\"choices\"][0:16]):\n",
    "    for good_flag, good_name in good_flags.items():\n",
    "        if good_flag in team[\"entry_name\"]:\n",
    "            print(index+1, good_flag, team[\"entry_name\"])\n",
    "            good_dic_of_team_names_flags[team[\"entry\"]] = good_name"
   ]
  },
  {
   "cell_type": "code",
   "execution_count": null,
   "id": "occupational-letter",
   "metadata": {},
   "outputs": [],
   "source": [
    "good_dic_of_team_names_flags"
   ]
  },
  {
   "cell_type": "code",
   "execution_count": null,
   "id": "positive-mapping",
   "metadata": {},
   "outputs": [],
   "source": [
    "my_dic = {     \"ğŸ‡¨ğŸ‡¦\": 'Canada 🇨🇦',\n",
    "                    \"ğŸ��\": 'Referee'\n",
    "                    }"
   ]
  },
  {
   "cell_type": "code",
   "execution_count": null,
   "id": "final-constraint",
   "metadata": {},
   "outputs": [],
   "source": [
    "for item in my_dic.keys():\n",
    "    print(item)"
   ]
  },
  {
   "cell_type": "code",
   "execution_count": null,
   "id": "systematic-majority",
   "metadata": {},
   "outputs": [],
   "source": []
  },
  {
   "cell_type": "code",
   "execution_count": null,
   "id": "available-psychology",
   "metadata": {},
   "outputs": [],
   "source": [
    "get_player_live_details(428, 8)"
   ]
  },
  {
   "cell_type": "code",
   "execution_count": null,
   "id": "random-springer",
   "metadata": {},
   "outputs": [],
   "source": [
    "# get the start time\n",
    "st = time.time()\n",
    "final_report_info = manager_players_info_maker(all_managers_dic, 4)\n",
    "# get the end time\n",
    "et = time.time()\n",
    "# get the execution time\n",
    "elapsed_time = et - st\n",
    "print('Execution time:', elapsed_time, 'seconds')"
   ]
  },
  {
   "cell_type": "code",
   "execution_count": null,
   "id": "going-protein",
   "metadata": {},
   "outputs": [],
   "source": [
    "my_str = \"Germany 🇩🇪:::::::::::::::::::::::::::::::::::::::::: 62 pts.\""
   ]
  },
  {
   "cell_type": "code",
   "execution_count": null,
   "id": "above-domain",
   "metadata": {},
   "outputs": [],
   "source": [
    "len(my_str)"
   ]
  },
  {
   "cell_type": "code",
   "execution_count": null,
   "id": "general-imaging",
   "metadata": {},
   "outputs": [],
   "source": [
    "my_str"
   ]
  },
  {
   "cell_type": "code",
   "execution_count": null,
   "id": "formal-calcium",
   "metadata": {},
   "outputs": [],
   "source": [
    "final_report_info"
   ]
  },
  {
   "cell_type": "code",
   "execution_count": null,
   "id": "copyrighted-charlotte",
   "metadata": {},
   "outputs": [],
   "source": [
    "# get the start time\n",
    "st = time.time()\n",
    "live_report_all = live_report_maker(all_managers_dic, 4)\n",
    "# get the end time\n",
    "et = time.time()\n",
    "# get the execution time\n",
    "elapsed_time = et - st\n",
    "print('Execution time:', elapsed_time, 'seconds')"
   ]
  },
  {
   "cell_type": "code",
   "execution_count": null,
   "id": "reported-presentation",
   "metadata": {
    "scrolled": false
   },
   "outputs": [],
   "source": [
    "print(live_report_all)"
   ]
  },
  {
   "cell_type": "code",
   "execution_count": null,
   "id": "israeli-scene",
   "metadata": {},
   "outputs": [],
   "source": [
    "import pyperclip"
   ]
  },
  {
   "cell_type": "code",
   "execution_count": null,
   "id": "standard-suffering",
   "metadata": {},
   "outputs": [],
   "source": [
    "pyperclip.copy(live_report_all)"
   ]
  },
  {
   "cell_type": "code",
   "execution_count": null,
   "id": "resident-pension",
   "metadata": {},
   "outputs": [],
   "source": [
    "# get the start time\n",
    "st = time.time()\n",
    "table_3 = table_maker(all_managers_dic, 3)\n",
    "# get the end time\n",
    "et = time.time()\n",
    "# get the execution time\n",
    "elapsed_time = et - st\n",
    "print('Execution time:', elapsed_time, 'seconds')"
   ]
  },
  {
   "cell_type": "code",
   "execution_count": null,
   "id": "marine-navigation",
   "metadata": {},
   "outputs": [],
   "source": [
    "table_3"
   ]
  },
  {
   "cell_type": "code",
   "execution_count": null,
   "id": "specified-sunset",
   "metadata": {},
   "outputs": [],
   "source": [
    "# get the start time\n",
    "st = time.time()\n",
    "final_report_dic = manager_players_info_maker(all_managers_dic, 2)\n",
    "# get the end time\n",
    "et = time.time()\n",
    "# get the execution time\n",
    "elapsed_time = et - st\n",
    "print('Execution time:', elapsed_time, 'seconds')"
   ]
  },
  {
   "cell_type": "code",
   "execution_count": null,
   "id": "ultimate-hydrogen",
   "metadata": {},
   "outputs": [],
   "source": [
    "print(u\"\\U0001F947\" + \"Ali\")"
   ]
  },
  {
   "cell_type": "code",
   "execution_count": null,
   "id": "proper-stage",
   "metadata": {},
   "outputs": [],
   "source": [
    "# get the start time\n",
    "st = time.time()\n",
    "table_1 = table_maker(all_managers_dic, 2)\n",
    "# get the end time\n",
    "et = time.time()\n",
    "# get the execution time\n",
    "elapsed_time = et - st\n",
    "print('Execution time:', elapsed_time, 'seconds')"
   ]
  },
  {
   "cell_type": "code",
   "execution_count": null,
   "id": "cellular-clothing",
   "metadata": {},
   "outputs": [],
   "source": [
    "table_1"
   ]
  },
  {
   "cell_type": "code",
   "execution_count": null,
   "id": "alone-knock",
   "metadata": {},
   "outputs": [],
   "source": [
    "for manager, players in all_managers_dic.items():\n",
    "    \n",
    "    "
   ]
  },
  {
   "cell_type": "code",
   "execution_count": null,
   "id": "chicken-brook",
   "metadata": {},
   "outputs": [],
   "source": [
    "managers_data = gw_dic_reporter(all_managers_dic, 8)"
   ]
  },
  {
   "cell_type": "code",
   "execution_count": null,
   "id": "higher-broadway",
   "metadata": {},
   "outputs": [],
   "source": [
    "from IPython.display import Markdown, display\n",
    "def printmd(string):\n",
    "    display(Markdown(string))"
   ]
  },
  {
   "cell_type": "code",
   "execution_count": null,
   "id": "oriental-dallas",
   "metadata": {},
   "outputs": [],
   "source": [
    "printmd(\"here we go**bold text**\")"
   ]
  },
  {
   "cell_type": "code",
   "execution_count": null,
   "id": "russian-aquatic",
   "metadata": {},
   "outputs": [],
   "source": []
  },
  {
   "cell_type": "code",
   "execution_count": null,
   "id": "upper-chapel",
   "metadata": {},
   "outputs": [],
   "source": [
    "get_player_live_details(428, 8)"
   ]
  },
  {
   "cell_type": "code",
   "execution_count": null,
   "id": "virgin-founder",
   "metadata": {},
   "outputs": [],
   "source": [
    "for week in my_player:\n",
    "    print(week[\"total_points\"])"
   ]
  },
  {
   "cell_type": "code",
   "execution_count": null,
   "id": "ideal-ukraine",
   "metadata": {},
   "outputs": [],
   "source": [
    "all_managers_points = gw_dic_reporter(all_managers_dic, 4)"
   ]
  },
  {
   "cell_type": "code",
   "execution_count": null,
   "id": "christian-yorkshire",
   "metadata": {},
   "outputs": [],
   "source": [
    "all_managers_points"
   ]
  },
  {
   "cell_type": "code",
   "execution_count": null,
   "id": "vietnamese-attention",
   "metadata": {},
   "outputs": [],
   "source": [
    "for manager in all_manager_points.items():\n",
    "    print"
   ]
  },
  {
   "cell_type": "code",
   "execution_count": null,
   "id": "broken-belief",
   "metadata": {},
   "outputs": [],
   "source": [
    "from all_vars import mappers_dic, all_managers_dic, element_type_mapper, German_leagues_ids, league_city_plus_managers\n",
    "from utils import *\n",
    "import time\n"
   ]
  },
  {
   "cell_type": "code",
   "execution_count": null,
   "id": "broke-chance",
   "metadata": {},
   "outputs": [],
   "source": [
    "all_ids = fantasy_id_to_draft_id_converter()"
   ]
  },
  {
   "cell_type": "code",
   "execution_count": null,
   "id": "rational-adrian",
   "metadata": {},
   "outputs": [],
   "source": [
    "all_ids"
   ]
  },
  {
   "cell_type": "code",
   "execution_count": null,
   "id": "banned-danger",
   "metadata": {
    "scrolled": true
   },
   "outputs": [],
   "source": [
    "from all_vars import mappers_dic, managers_league_dic_2, all_managers_dic, element_type_mapper, German_leagues_ids, German_leagues_ids_dic, league_city_plus_managers\n",
    "from utils import *\n",
    "import sys\n",
    "from termcolor import colored, cprint\n",
    "import time\n",
    "import json\n",
    "league_code_finder(270400, 270600)"
   ]
  },
  {
   "cell_type": "code",
   "execution_count": null,
   "id": "interesting-suite",
   "metadata": {},
   "outputs": [],
   "source": [
    "from bs4 import BeautifulSoup\n",
    "import re\n",
    "\n",
    "all_medals = {\n",
    "'New Zealand 🇳🇿': [0,0,0],\n",
    "'United States 🇺🇲': [0,0,0],\n",
    "'Egypt 🇪🇬': [0,0,0],\n",
    "'South Korea 🇰🇷': [0,0,0],\n",
    "'Portugal 🇵🇹': [0,0,0],\n",
    "'France 🇫🇷': [0,0,0],\n",
    "'Kenya 🇰🇪': [0,0,0],\n",
    "'Great Britain 🇬🇧': [0,0,0],\n",
    "'Cuba 🇨🇺': [0,0,0],\n",
    "'Finland 🇫🇮': [0,0,0],\n",
    "'Germany 🇩🇪': [0,0,0],\n",
    "'The Soviet Union ☭': [0,0,0],\n",
    "'Azerbaijan 🇦🇿': [0,0,0],\n",
    "}\n",
    "\n",
    "all_points= {\n",
    "'New Zealand 🇳🇿': 0,\n",
    "'United States 🇺🇲': 0,\n",
    "'Egypt 🇪🇬': 0,\n",
    "'South Korea 🇰🇷': 0,\n",
    "'Portugal 🇵🇹': 0,\n",
    "'France 🇫🇷': 0,\n",
    "'Kenya 🇰🇪': 0,\n",
    "'Great Britain 🇬🇧': 0,\n",
    "'Cuba 🇨🇺': 0,\n",
    "'Finland 🇫🇮': 0,\n",
    "'Germany 🇩🇪': 0,\n",
    "'The Soviet Union ☭': 0,\n",
    "'Azerbaijan 🇦🇿': 0,\n",
    "}\n",
    "for gw in range(1,13):\n",
    "    # Read your HTML file (replace 'your_file.html' with the actual file path)\n",
    "    with open(f'html_results/backup/fpl_all_together_gw_{gw}.html', 'r') as html_file:\n",
    "        html_content = html_file.read()\n",
    "\n",
    "\n",
    "    # Parse the HTML content\n",
    "    soup = BeautifulSoup(html_content, 'html.parser')\n",
    "    \n",
    "    medals_text = str(soup.get_text())\n",
    "    medasl = [\"🥇\", \"🥈\", \"🥉\"]\n",
    "    for team in all_medals.keys():\n",
    "        gold_winner = \"🥇\" + \" \" + team\n",
    "        number_of_gold = medals_text.count(gold_winner)\n",
    "        all_medals[team][0] += number_of_gold\n",
    "        s_winner = \"🥈\" + \" \" + team\n",
    "        number_of_s = medals_text.count(s_winner)\n",
    "        all_medals[team][1] += number_of_s\n",
    "        b_winner = \"🥉\" + \" \" + team\n",
    "        number_of_b = medals_text.count(b_winner)\n",
    "        all_medals[team][2] += number_of_b\n",
    "\n",
    "    text = medals_text.replace(\" \", \"\")\n",
    "    \n",
    "    pattern = r'NewZealand🇳🇿\\s+(\\d+)'\n",
    "    matches = re.findall(pattern, text)\n",
    "    for match in matches:\n",
    "        all_points[\"New Zealand 🇳🇿\"] += int(match)\n",
    "    \n",
    "    pattern = r'UnitedStates🇺🇲\\s+(\\d+)'\n",
    "    matches = re.findall(pattern, text)\n",
    "    for match in matches:\n",
    "        all_points[\"United States 🇺🇲\"] += int(match)\n",
    "\n",
    "    pattern = r'Egypt🇪🇬\\s+(\\d+)'\n",
    "    matches = re.findall(pattern, text)\n",
    "    for match in matches:\n",
    "        all_points[\"Egypt 🇪🇬\"] += int(match)\n",
    "    \n",
    "    pattern = r'SouthKorea🇰🇷\\s+(\\d+)'\n",
    "    matches = re.findall(pattern, text)\n",
    "    for match in matches:\n",
    "        all_points[\"South Korea 🇰🇷\"] += int(match)\n",
    "\n",
    "    pattern = r'Portugal🇵🇹\\s+(\\d+)'\n",
    "    matches = re.findall(pattern, text)\n",
    "    for match in matches:\n",
    "        all_points[\"Portugal 🇵🇹\"] += int(match)\n",
    "    \n",
    "    pattern = r'France🇫🇷\\s+(\\d+)'\n",
    "    matches = re.findall(pattern, text)\n",
    "    for match in matches:\n",
    "        all_points[\"France 🇫🇷\"] += int(match)\n",
    "    \n",
    "    pattern = r'Kenya🇰🇪\\s+(\\d+)'\n",
    "    matches = re.findall(pattern, text)\n",
    "    for match in matches:\n",
    "        all_points[\"Kenya 🇰🇪\"] += int(match)\n",
    "    \n",
    "    pattern = r'GreatBritain🇬🇧\\s+(\\d+)'\n",
    "    matches = re.findall(pattern, text)\n",
    "    for match in matches:\n",
    "        all_points[\"Great Britain 🇬🇧\"] += int(match)\n",
    "    \n",
    "    pattern = r'Cuba🇨🇺\\s+(\\d+)'\n",
    "    matches = re.findall(pattern, text)\n",
    "    for match in matches:\n",
    "        all_points[\"Cuba 🇨🇺\"] += int(match)\n",
    "    \n",
    "    pattern = r'Finland🇫🇮\\s+(\\d+)'\n",
    "    matches = re.findall(pattern, text)\n",
    "    for match in matches:\n",
    "        all_points[\"Finland 🇫🇮\"] += int(match)\n",
    "\n",
    "    pattern = r'Germany🇩🇪\\s+(\\d+)'\n",
    "    matches = re.findall(pattern, text)\n",
    "    for match in matches:\n",
    "        all_points[\"Germany 🇩🇪\"] += int(match)\n",
    "    \n",
    "    pattern = r'TheSovietUnion☭\\s+(\\d+)'\n",
    "    matches = re.findall(pattern, text)\n",
    "    for match in matches:\n",
    "        all_points[\"The Soviet Union ☭\"] += int(match)\n",
    "    \n",
    "    pattern = r'Azerbaijan🇦🇿\\s+(\\d+)'\n",
    "    matches = re.findall(pattern, text)\n",
    "    for match in matches:\n",
    "        all_points[\"Azerbaijan 🇦🇿\"] += int(match)\n",
    "        \n",
    "medals= [\"🥇\", \"🥈\", \"🥉\"]\n",
    "countries = ['New Zealand 🇳🇿','United States 🇺🇲','Egypt 🇪🇬','South Korea 🇰🇷','Portugal 🇵🇹','France 🇫🇷','Kenya 🇰🇪','Great Britain 🇬🇧','Cuba 🇨🇺','Finland 🇫🇮','Germany 🇩🇪','The Soviet Union ☭','Azerbaijan 🇦🇿',]\n",
    "    #print(matches)\n",
    "sorted_country_totals = dict(sorted(all_points.items(), key=lambda item: item[1], reverse=True))\n",
    "sorted_country_medals = dict(sorted(all_medals.items(), key=lambda item: (item[1][0], item[1][1], item[1][2]), reverse=True))\n",
    "\n",
    "print(sorted_country_totals)\n",
    "print(\"------\")\n",
    "print(sorted_country_medals)\n"
   ]
  },
  {
   "cell_type": "code",
   "execution_count": null,
   "id": "congressional-neutral",
   "metadata": {},
   "outputs": [],
   "source": [
    "# Your dictionary data\n",
    "data = {\n",
    "    'Azerbaijan 🇦🇿': 5395,\n",
    "    'Great Britain 🇬🇧': 5368,\n",
    "    'The Soviet Union ☭': 5154,\n",
    "    'South Korea 🇰🇷': 5153,\n",
    "    'Germany 🇩🇪': 5143,\n",
    "    'France 🇫🇷': 5036,\n",
    "    'United States 🇺🇲': 4966,\n",
    "    'Finland 🇫🇮': 4955,\n",
    "    'Cuba 🇨🇺': 4938,\n",
    "    'Portugal 🇵🇹': 4931,\n",
    "    'Egypt 🇪🇬': 4754,\n",
    "    'New Zealand 🇳🇿': 4653,\n",
    "    'Kenya 🇰🇪': 4517,\n",
    "}\n",
    "\n",
    "# Start creating the HTML table\n",
    "html_table = '<table border=\"1\">'\n",
    "html_table += '<tr><th>Country</th><th>Value</th></tr>'\n",
    "\n",
    "# Iterate through the dictionary and create table rows\n",
    "for country, value in data.items():\n",
    "    html_table += f'<tr><td>{country}</td><td>{value}</td></tr>'\n",
    "\n",
    "# Close the table tag\n",
    "html_table += '</table>'\n",
    "\n",
    "# Print or save the HTML table\n",
    "print(html_table)\n"
   ]
  },
  {
   "cell_type": "code",
   "execution_count": null,
   "id": "eleven-imperial",
   "metadata": {},
   "outputs": [],
   "source": [
    "# Your dictionary data\n",
    "data = {'Great Britain 🇬🇧': 6018, 'Azerbaijan 🇦🇿': 5879, 'The Soviet Union ☭': 5698, 'South Korea 🇰🇷': 5680, 'Germany 🇩🇪': 5666, 'France 🇫🇷': 5538, 'United States 🇺🇲': 5496, 'Cuba 🇨🇺': 5473, 'Portugal 🇵🇹': 5385, 'Finland 🇫🇮': 5325, 'New Zealand 🇳🇿': 5307, 'Egypt 🇪🇬': 5274, 'Kenya 🇰🇪': 4991}\n",
    "# Sort the data by value in descending order to calculate rankings\n",
    "sorted_country_totals = dict(sorted(data.items(), key=lambda item: item[1], reverse=True))\n",
    "\n",
    "medals_data = {'Azerbaijan 🇦🇿': [17, 11, 13], 'Great Britain 🇬🇧': [16, 23, 9], 'The Soviet Union ☭': [13, 16, 17], 'Germany 🇩🇪': [13, 14, 8], 'New Zealand 🇳🇿': [13, 4, 6], 'France 🇫🇷': [12, 5, 18], 'South Korea 🇰🇷': [11, 9, 16], 'Portugal 🇵🇹': [11, 8, 6], 'United States 🇺🇲': [10, 6, 11], 'Cuba 🇨🇺': [8, 17, 9], 'Egypt 🇪🇬': [8, 11, 9], 'Finland 🇫🇮': [7, 9, 11], 'Kenya 🇰🇪': [5, 11, 11]}\n",
    "# Sort the data by value in descending order to calculate rankings\n",
    "sorted_medals_data = dict(sorted(all_medals.items(), key=lambda item: (item[1][0], item[1][1], item[1][2]), reverse=True))\n",
    "\n",
    "\n",
    "# Start creating the HTML table within a container div\n",
    "html_table = '''\n",
    "    <div class=\"container\">\n",
    "        <div class=\"row\">\n",
    "            <div class=\"col-md-6\">\n",
    "                <legend>\n",
    "                    Total Points:\n",
    "                </legend>\n",
    "                <table class=\"table table-bordered table-striped\"><tr><th class=\"text-center text-secondary\">#</th><th class=\"text-secondary\">Country</th><th class=\"text-secondary text-center\">Total Points (LIVE)</th></tr>\n",
    "'''\n",
    "\n",
    "# Iterate through the sorted data and create table rows with rankings\n",
    "rank = 1\n",
    "for country, value in data.items():\n",
    "    html_table += f'<tr><td class=\"text-center\">{rank}</td><td class=\"fw-bold text\">{country}</td><td class=\"fw-bold text-center\">{value}</td></tr>'\n",
    "    rank += 1\n",
    "\n",
    "# Close the table and container div\n",
    "html_table += '''\n",
    "</table>\n",
    "            </div>\n",
    "'''\n",
    "\n",
    "# Print or save the HTML table\n",
    "print(html_table)\n",
    "# Start creating the HTML table within a container div\n",
    "html_table_medals = '''\n",
    "            <div class=\"col-md-6\">\n",
    "                <legend>\n",
    "                    Total Medals:\n",
    "                </legend>\n",
    "                <table class=\"table table-bordered table-striped\"><tr><th class=\"text-center text-secondary\">#</th><th class=\"text-secondary\">Country</th>\n",
    "                <th class=\"text-center\">🥇</th>\n",
    "                <th class=\"text-center\">🥈</th>\n",
    "                <th class=\"text-center\">🥉</th>\n",
    "                </tr>\n",
    "'''\n",
    "\n",
    "# Iterate through the sorted data and create table rows with rankings\n",
    "rank = 1\n",
    "for country, value in medals_data.items():\n",
    "    html_table_medals += f'<tr><td class=\"text-center\">{rank}</td><td class=\"fw-bold\">{country}</td><td class=\"fw-bold text-center\">{value[0]}</td><td class=\"fw-bold text-center\">{value[1]}</td><td class=\"fw-bold text-center\">{value[2]}</td></tr>'\n",
    "    rank += 1\n",
    "\n",
    "# Close the table and container div\n",
    "html_table_medals += '''\n",
    "</table>\n",
    "            </div>\n",
    "        </div>\n",
    "    </div>\n",
    "'''\n",
    "\n",
    "# Print or save the HTML table\n",
    "print(html_table_medals)\n"
   ]
  },
  {
   "cell_type": "code",
   "execution_count": null,
   "id": "friendly-recipient",
   "metadata": {},
   "outputs": [],
   "source": [
    "\"ali yaeret ere\".count(\"e\")"
   ]
  },
  {
   "cell_type": "code",
   "execution_count": null,
   "id": "heard-intellectual",
   "metadata": {},
   "outputs": [],
   "source": [
    "list(range(1,2))"
   ]
  },
  {
   "cell_type": "code",
   "execution_count": 6,
   "id": "extra-trust",
   "metadata": {},
   "outputs": [],
   "source": [
    "from bs4 import BeautifulSoup\n",
    "import re\n",
    "\n",
    "\n",
    "def tables_creator_for_gw(gw_now):\n",
    "    for aa in range(1, gw_now+1):\n",
    "        all_medals = {\n",
    "        'New Zealand 🇳🇿': [0,0,0],\n",
    "        'United States 🇺🇲': [0,0,0],\n",
    "        'Egypt 🇪🇬': [0,0,0],\n",
    "        'South Korea 🇰🇷': [0,0,0],\n",
    "        'Portugal 🇵🇹': [0,0,0],\n",
    "        'France 🇫🇷': [0,0,0],\n",
    "        'Kenya 🇰🇪': [0,0,0],\n",
    "        'Great Britain 🇬🇧': [0,0,0],\n",
    "        'Cuba 🇨🇺': [0,0,0],\n",
    "        'Finland 🇫🇮': [0,0,0],\n",
    "        'Germany 🇩🇪': [0,0,0],\n",
    "        'The Soviet Union ☭': [0,0,0],\n",
    "        'Azerbaijan 🇦🇿': [0,0,0],\n",
    "        }\n",
    "\n",
    "        all_points= {\n",
    "        'New Zealand 🇳🇿': 0,\n",
    "        'United States 🇺🇲': 0,\n",
    "        'Egypt 🇪🇬': 0,\n",
    "        'South Korea 🇰🇷': 0,\n",
    "        'Portugal 🇵🇹': 0,\n",
    "        'France 🇫🇷': 0,\n",
    "        'Kenya 🇰🇪': 0,\n",
    "        'Great Britain 🇬🇧': 0,\n",
    "        'Cuba 🇨🇺': 0,\n",
    "        'Finland 🇫🇮': 0,\n",
    "        'Germany 🇩🇪': 0,\n",
    "        'The Soviet Union ☭': 0,\n",
    "        'Azerbaijan 🇦🇿': 0,\n",
    "        }\n",
    "        for gw in range(1,aa+1):\n",
    "            # Read your HTML file (replace 'your_file.html' with the actual file path)\n",
    "            with open(f'html_results/backup/fpl_all_together_gw_{gw}.html', 'r') as html_file:\n",
    "                html_content = html_file.read()\n",
    "\n",
    "\n",
    "            # Parse the HTML content\n",
    "            soup = BeautifulSoup(html_content, 'html.parser')\n",
    "            \n",
    "            medals_text = str(soup.get_text())\n",
    "            medasl = [\"🥇\", \"🥈\", \"🥉\"]\n",
    "            for team in all_medals.keys():\n",
    "                gold_winner = \"🥇\" + \" \" + team\n",
    "                number_of_gold = medals_text.count(gold_winner)\n",
    "                all_medals[team][0] += number_of_gold\n",
    "                s_winner = \"🥈\" + \" \" + team\n",
    "                number_of_s = medals_text.count(s_winner)\n",
    "                all_medals[team][1] += number_of_s\n",
    "                b_winner = \"🥉\" + \" \" + team\n",
    "                number_of_b = medals_text.count(b_winner)\n",
    "                all_medals[team][2] += number_of_b\n",
    "\n",
    "            text = medals_text.replace(\" \", \"\")\n",
    "            \n",
    "            pattern = r'NewZealand🇳🇿\\s+(\\d+)'\n",
    "            matches = re.findall(pattern, text)\n",
    "            for match in matches:\n",
    "                all_points[\"New Zealand 🇳🇿\"] += int(match)\n",
    "            \n",
    "            pattern = r'UnitedStates🇺🇲\\s+(\\d+)'\n",
    "            matches = re.findall(pattern, text)\n",
    "            for match in matches:\n",
    "                all_points[\"United States 🇺🇲\"] += int(match)\n",
    "\n",
    "            pattern = r'Egypt🇪🇬\\s+(\\d+)'\n",
    "            matches = re.findall(pattern, text)\n",
    "            for match in matches:\n",
    "                all_points[\"Egypt 🇪🇬\"] += int(match)\n",
    "            \n",
    "            pattern = r'SouthKorea🇰🇷\\s+(\\d+)'\n",
    "            matches = re.findall(pattern, text)\n",
    "            for match in matches:\n",
    "                all_points[\"South Korea 🇰🇷\"] += int(match)\n",
    "\n",
    "            pattern = r'Portugal🇵🇹\\s+(\\d+)'\n",
    "            matches = re.findall(pattern, text)\n",
    "            for match in matches:\n",
    "                all_points[\"Portugal 🇵🇹\"] += int(match)\n",
    "            \n",
    "            pattern = r'France🇫🇷\\s+(\\d+)'\n",
    "            matches = re.findall(pattern, text)\n",
    "            for match in matches:\n",
    "                all_points[\"France 🇫🇷\"] += int(match)\n",
    "            \n",
    "            pattern = r'Kenya🇰🇪\\s+(\\d+)'\n",
    "            matches = re.findall(pattern, text)\n",
    "            for match in matches:\n",
    "                all_points[\"Kenya 🇰🇪\"] += int(match)\n",
    "            \n",
    "            pattern = r'GreatBritain🇬🇧\\s+(\\d+)'\n",
    "            matches = re.findall(pattern, text)\n",
    "            for match in matches:\n",
    "                all_points[\"Great Britain 🇬🇧\"] += int(match)\n",
    "            \n",
    "            pattern = r'Cuba🇨🇺\\s+(\\d+)'\n",
    "            matches = re.findall(pattern, text)\n",
    "            for match in matches:\n",
    "                all_points[\"Cuba 🇨🇺\"] += int(match)\n",
    "            \n",
    "            pattern = r'Finland🇫🇮\\s+(\\d+)'\n",
    "            matches = re.findall(pattern, text)\n",
    "            for match in matches:\n",
    "                all_points[\"Finland 🇫🇮\"] += int(match)\n",
    "\n",
    "            pattern = r'Germany🇩🇪\\s+(\\d+)'\n",
    "            matches = re.findall(pattern, text)\n",
    "            for match in matches:\n",
    "                all_points[\"Germany 🇩🇪\"] += int(match)\n",
    "            \n",
    "            pattern = r'TheSovietUnion☭\\s+(\\d+)'\n",
    "            matches = re.findall(pattern, text)\n",
    "            for match in matches:\n",
    "                all_points[\"The Soviet Union ☭\"] += int(match)\n",
    "            \n",
    "            pattern = r'Azerbaijan🇦🇿\\s+(\\d+)'\n",
    "            matches = re.findall(pattern, text)\n",
    "            for match in matches:\n",
    "                all_points[\"Azerbaijan 🇦🇿\"] += int(match)\n",
    "                \n",
    "        medals= [\"🥇\", \"🥈\", \"🥉\"]\n",
    "        countries = ['New Zealand 🇳🇿','United States 🇺🇲','Egypt 🇪🇬','South Korea 🇰🇷','Portugal 🇵🇹','France 🇫🇷','Kenya 🇰🇪','Great Britain 🇬🇧','Cuba 🇨🇺','Finland 🇫🇮','Germany 🇩🇪','The Soviet Union ☭','Azerbaijan 🇦🇿',]\n",
    "            #print(matches)\n",
    "        sorted_country_totals = dict(sorted(all_points.items(), key=lambda item: item[1], reverse=True))\n",
    "        sorted_country_medals = dict(sorted(all_medals.items(), key=lambda item: (item[1][0], item[1][1], item[1][2]), reverse=True))\n",
    "\n",
    "\n",
    "        # Start creating the HTML table within a container div\n",
    "        html_table = '''\n",
    "                <div class=\"row\">\n",
    "                    <div class=\"col-md-6\">\n",
    "                        <legend>\n",
    "                            Total Points:\n",
    "                        </legend>\n",
    "                        <table class=\"table table-bordered table-striped\"><tr><th class=\"text-center text-secondary\">#</th><th class=\"text-secondary\">Country</th><th class=\"text-secondary text-center\">Total Points (LIVE)</th></tr>\n",
    "        '''\n",
    "\n",
    "        rank = 1\n",
    "        for country, value in sorted_country_totals.items():\n",
    "            html_table += f'<tr><td class=\"text-center\">{rank}</td><td class=\"fw-bold text\">{country}</td><td class=\"fw-bold text-center\">{value}</td></tr>'\n",
    "            rank += 1\n",
    "\n",
    "        # Close the table and container div\n",
    "        html_table += '''\n",
    "        </table>\n",
    "                    </div>\n",
    "        '''\n",
    "        print(f\"======================={aa}===================\")\n",
    "        print(html_table)\n",
    "        html_table_medals = '''\n",
    "                    <div class=\"col-md-6\">\n",
    "                        <legend>\n",
    "                            Total Medals:\n",
    "                        </legend>\n",
    "                        <table class=\"table table-bordered table-striped\"><tr><th class=\"text-center text-secondary\">#</th><th class=\"text-secondary\">Country</th>\n",
    "                        <th class=\"text-center\">🥇</th>\n",
    "                        <th class=\"text-center\">🥈</th>\n",
    "                        <th class=\"text-center\">🥉</th>\n",
    "                        </tr>\n",
    "        '''\n",
    "\n",
    "        rank = 1\n",
    "        for country, value in sorted_country_medals.items():\n",
    "            html_table_medals += f'<tr><td class=\"text-center\">{rank}</td><td class=\"fw-bold\">{country}</td><td class=\"fw-bold text-center\">{value[0]}</td><td class=\"fw-bold text-center\">{value[1]}</td><td class=\"fw-bold text-center\">{value[2]}</td></tr>'\n",
    "            rank += 1\n",
    "\n",
    "        html_table_medals += '''\n",
    "        </table>\n",
    "                    </div>\n",
    "                </div>\n",
    "        '''\n",
    "\n",
    "        # Print or save the HTML table\n",
    "        print(html_table_medals)\n",
    "\n"
   ]
  },
  {
   "cell_type": "code",
   "execution_count": 7,
   "id": "british-tract",
   "metadata": {
    "scrolled": false
   },
   "outputs": [
    {
     "name": "stdout",
     "output_type": "stream",
     "text": [
      "=======================1===================\n",
      "\n",
      "                <div class=\"row\">\n",
      "                    <div class=\"col-md-6\">\n",
      "                        <legend>\n",
      "                            Total Points:\n",
      "                        </legend>\n",
      "                        <table class=\"table table-bordered table-striped\"><tr><th class=\"text-center text-secondary\">#</th><th class=\"text-secondary\">Country</th><th class=\"text-secondary text-center\">Total Points (LIVE)</th></tr>\n",
      "        <tr><td class=\"text-center\">1</td><td class=\"fw-bold text\">Great Britain 🇬🇧</td><td class=\"fw-bold text-center\">512</td></tr><tr><td class=\"text-center\">2</td><td class=\"fw-bold text\">Germany 🇩🇪</td><td class=\"fw-bold text-center\">512</td></tr><tr><td class=\"text-center\">3</td><td class=\"fw-bold text\">Azerbaijan 🇦🇿</td><td class=\"fw-bold text-center\">496</td></tr><tr><td class=\"text-center\">4</td><td class=\"fw-bold text\">France 🇫🇷</td><td class=\"fw-bold text-center\">479</td></tr><tr><td class=\"text-center\">5</td><td class=\"fw-bold text\">New Zealand 🇳🇿</td><td class=\"fw-bold text-center\">477</td></tr><tr><td class=\"text-center\">6</td><td class=\"fw-bold text\">Cuba 🇨🇺</td><td class=\"fw-bold text-center\">477</td></tr><tr><td class=\"text-center\">7</td><td class=\"fw-bold text\">United States 🇺🇲</td><td class=\"fw-bold text-center\">474</td></tr><tr><td class=\"text-center\">8</td><td class=\"fw-bold text\">Finland 🇫🇮</td><td class=\"fw-bold text-center\">474</td></tr><tr><td class=\"text-center\">9</td><td class=\"fw-bold text\">Kenya 🇰🇪</td><td class=\"fw-bold text-center\">460</td></tr><tr><td class=\"text-center\">10</td><td class=\"fw-bold text\">South Korea 🇰🇷</td><td class=\"fw-bold text-center\">458</td></tr><tr><td class=\"text-center\">11</td><td class=\"fw-bold text\">Portugal 🇵🇹</td><td class=\"fw-bold text-center\">449</td></tr><tr><td class=\"text-center\">12</td><td class=\"fw-bold text\">Egypt 🇪🇬</td><td class=\"fw-bold text-center\">415</td></tr><tr><td class=\"text-center\">13</td><td class=\"fw-bold text\">The Soviet Union ☭</td><td class=\"fw-bold text-center\">414</td></tr>\n",
      "        </table>\n",
      "                    </div>\n",
      "        \n",
      "\n",
      "                    <div class=\"col-md-6\">\n",
      "                        <legend>\n",
      "                            Total Medals:\n",
      "                        </legend>\n",
      "                        <table class=\"table table-bordered table-striped\"><tr><th class=\"text-center text-secondary\">#</th><th class=\"text-secondary\">Country</th>\n",
      "                        <th class=\"text-center\">🥇</th>\n",
      "                        <th class=\"text-center\">🥈</th>\n",
      "                        <th class=\"text-center\">🥉</th>\n",
      "                        </tr>\n",
      "        <tr><td class=\"text-center\">1</td><td class=\"fw-bold\">Germany 🇩🇪</td><td class=\"fw-bold text-center\">2</td><td class=\"fw-bold text-center\">1</td><td class=\"fw-bold text-center\">2</td></tr><tr><td class=\"text-center\">2</td><td class=\"fw-bold\">Great Britain 🇬🇧</td><td class=\"fw-bold text-center\">2</td><td class=\"fw-bold text-center\">1</td><td class=\"fw-bold text-center\">0</td></tr><tr><td class=\"text-center\">3</td><td class=\"fw-bold\">Cuba 🇨🇺</td><td class=\"fw-bold text-center\">1</td><td class=\"fw-bold text-center\">4</td><td class=\"fw-bold text-center\">0</td></tr><tr><td class=\"text-center\">4</td><td class=\"fw-bold\">France 🇫🇷</td><td class=\"fw-bold text-center\">1</td><td class=\"fw-bold text-center\">1</td><td class=\"fw-bold text-center\">3</td></tr><tr><td class=\"text-center\">5</td><td class=\"fw-bold\">United States 🇺🇲</td><td class=\"fw-bold text-center\">1</td><td class=\"fw-bold text-center\">1</td><td class=\"fw-bold text-center\">1</td></tr><tr><td class=\"text-center\">6</td><td class=\"fw-bold\">Azerbaijan 🇦🇿</td><td class=\"fw-bold text-center\">1</td><td class=\"fw-bold text-center\">1</td><td class=\"fw-bold text-center\">1</td></tr><tr><td class=\"text-center\">7</td><td class=\"fw-bold\">New Zealand 🇳🇿</td><td class=\"fw-bold text-center\">1</td><td class=\"fw-bold text-center\">0</td><td class=\"fw-bold text-center\">2</td></tr><tr><td class=\"text-center\">8</td><td class=\"fw-bold\">South Korea 🇰🇷</td><td class=\"fw-bold text-center\">1</td><td class=\"fw-bold text-center\">0</td><td class=\"fw-bold text-center\">1</td></tr><tr><td class=\"text-center\">9</td><td class=\"fw-bold\">The Soviet Union ☭</td><td class=\"fw-bold text-center\">1</td><td class=\"fw-bold text-center\">0</td><td class=\"fw-bold text-center\">1</td></tr><tr><td class=\"text-center\">10</td><td class=\"fw-bold\">Kenya 🇰🇪</td><td class=\"fw-bold text-center\">1</td><td class=\"fw-bold text-center\">0</td><td class=\"fw-bold text-center\">0</td></tr><tr><td class=\"text-center\">11</td><td class=\"fw-bold\">Finland 🇫🇮</td><td class=\"fw-bold text-center\">0</td><td class=\"fw-bold text-center\">1</td><td class=\"fw-bold text-center\">1</td></tr><tr><td class=\"text-center\">12</td><td class=\"fw-bold\">Egypt 🇪🇬</td><td class=\"fw-bold text-center\">0</td><td class=\"fw-bold text-center\">1</td><td class=\"fw-bold text-center\">0</td></tr><tr><td class=\"text-center\">13</td><td class=\"fw-bold\">Portugal 🇵🇹</td><td class=\"fw-bold text-center\">0</td><td class=\"fw-bold text-center\">1</td><td class=\"fw-bold text-center\">0</td></tr>\n",
      "        </table>\n",
      "                    </div>\n",
      "                </div>\n",
      "        \n",
      "=======================2===================\n",
      "\n",
      "                <div class=\"row\">\n",
      "                    <div class=\"col-md-6\">\n",
      "                        <legend>\n",
      "                            Total Points:\n",
      "                        </legend>\n",
      "                        <table class=\"table table-bordered table-striped\"><tr><th class=\"text-center text-secondary\">#</th><th class=\"text-secondary\">Country</th><th class=\"text-secondary text-center\">Total Points (LIVE)</th></tr>\n",
      "        <tr><td class=\"text-center\">1</td><td class=\"fw-bold text\">Great Britain 🇬🇧</td><td class=\"fw-bold text-center\">1056</td></tr><tr><td class=\"text-center\">2</td><td class=\"fw-bold text\">France 🇫🇷</td><td class=\"fw-bold text-center\">992</td></tr><tr><td class=\"text-center\">3</td><td class=\"fw-bold text\">Germany 🇩🇪</td><td class=\"fw-bold text-center\">991</td></tr><tr><td class=\"text-center\">4</td><td class=\"fw-bold text\">Finland 🇫🇮</td><td class=\"fw-bold text-center\">976</td></tr><tr><td class=\"text-center\">5</td><td class=\"fw-bold text\">South Korea 🇰🇷</td><td class=\"fw-bold text-center\">945</td></tr><tr><td class=\"text-center\">6</td><td class=\"fw-bold text\">Azerbaijan 🇦🇿</td><td class=\"fw-bold text-center\">914</td></tr><tr><td class=\"text-center\">7</td><td class=\"fw-bold text\">United States 🇺🇲</td><td class=\"fw-bold text-center\">901</td></tr><tr><td class=\"text-center\">8</td><td class=\"fw-bold text\">The Soviet Union ☭</td><td class=\"fw-bold text-center\">886</td></tr><tr><td class=\"text-center\">9</td><td class=\"fw-bold text\">Cuba 🇨🇺</td><td class=\"fw-bold text-center\">885</td></tr><tr><td class=\"text-center\">10</td><td class=\"fw-bold text\">Kenya 🇰🇪</td><td class=\"fw-bold text-center\">875</td></tr><tr><td class=\"text-center\">11</td><td class=\"fw-bold text\">Portugal 🇵🇹</td><td class=\"fw-bold text-center\">867</td></tr><tr><td class=\"text-center\">12</td><td class=\"fw-bold text\">New Zealand 🇳🇿</td><td class=\"fw-bold text-center\">834</td></tr><tr><td class=\"text-center\">13</td><td class=\"fw-bold text\">Egypt 🇪🇬</td><td class=\"fw-bold text-center\">829</td></tr>\n",
      "        </table>\n",
      "                    </div>\n",
      "        \n",
      "\n",
      "                    <div class=\"col-md-6\">\n",
      "                        <legend>\n",
      "                            Total Medals:\n",
      "                        </legend>\n",
      "                        <table class=\"table table-bordered table-striped\"><tr><th class=\"text-center text-secondary\">#</th><th class=\"text-secondary\">Country</th>\n",
      "                        <th class=\"text-center\">🥇</th>\n",
      "                        <th class=\"text-center\">🥈</th>\n",
      "                        <th class=\"text-center\">🥉</th>\n",
      "                        </tr>\n",
      "        <tr><td class=\"text-center\">1</td><td class=\"fw-bold\">France 🇫🇷</td><td class=\"fw-bold text-center\">5</td><td class=\"fw-bold text-center\">2</td><td class=\"fw-bold text-center\">4</td></tr><tr><td class=\"text-center\">2</td><td class=\"fw-bold\">Great Britain 🇬🇧</td><td class=\"fw-bold text-center\">4</td><td class=\"fw-bold text-center\">3</td><td class=\"fw-bold text-center\">1</td></tr><tr><td class=\"text-center\">3</td><td class=\"fw-bold\">Germany 🇩🇪</td><td class=\"fw-bold text-center\">3</td><td class=\"fw-bold text-center\">3</td><td class=\"fw-bold text-center\">2</td></tr><tr><td class=\"text-center\">4</td><td class=\"fw-bold\">Finland 🇫🇮</td><td class=\"fw-bold text-center\">3</td><td class=\"fw-bold text-center\">3</td><td class=\"fw-bold text-center\">1</td></tr><tr><td class=\"text-center\">5</td><td class=\"fw-bold\">Cuba 🇨🇺</td><td class=\"fw-bold text-center\">2</td><td class=\"fw-bold text-center\">4</td><td class=\"fw-bold text-center\">1</td></tr><tr><td class=\"text-center\">6</td><td class=\"fw-bold\">The Soviet Union ☭</td><td class=\"fw-bold text-center\">2</td><td class=\"fw-bold text-center\">1</td><td class=\"fw-bold text-center\">1</td></tr><tr><td class=\"text-center\">7</td><td class=\"fw-bold\">United States 🇺🇲</td><td class=\"fw-bold text-center\">1</td><td class=\"fw-bold text-center\">2</td><td class=\"fw-bold text-center\">1</td></tr><tr><td class=\"text-center\">8</td><td class=\"fw-bold\">Kenya 🇰🇪</td><td class=\"fw-bold text-center\">1</td><td class=\"fw-bold text-center\">1</td><td class=\"fw-bold text-center\">4</td></tr><tr><td class=\"text-center\">9</td><td class=\"fw-bold\">Azerbaijan 🇦🇿</td><td class=\"fw-bold text-center\">1</td><td class=\"fw-bold text-center\">1</td><td class=\"fw-bold text-center\">3</td></tr><tr><td class=\"text-center\">10</td><td class=\"fw-bold\">South Korea 🇰🇷</td><td class=\"fw-bold text-center\">1</td><td class=\"fw-bold text-center\">1</td><td class=\"fw-bold text-center\">2</td></tr><tr><td class=\"text-center\">11</td><td class=\"fw-bold\">New Zealand 🇳🇿</td><td class=\"fw-bold text-center\">1</td><td class=\"fw-bold text-center\">0</td><td class=\"fw-bold text-center\">2</td></tr><tr><td class=\"text-center\">12</td><td class=\"fw-bold\">Egypt 🇪🇬</td><td class=\"fw-bold text-center\">0</td><td class=\"fw-bold text-center\">2</td><td class=\"fw-bold text-center\">1</td></tr><tr><td class=\"text-center\">13</td><td class=\"fw-bold\">Portugal 🇵🇹</td><td class=\"fw-bold text-center\">0</td><td class=\"fw-bold text-center\">1</td><td class=\"fw-bold text-center\">1</td></tr>\n",
      "        </table>\n",
      "                    </div>\n",
      "                </div>\n",
      "        \n"
     ]
    },
    {
     "name": "stdout",
     "output_type": "stream",
     "text": [
      "=======================3===================\n",
      "\n",
      "                <div class=\"row\">\n",
      "                    <div class=\"col-md-6\">\n",
      "                        <legend>\n",
      "                            Total Points:\n",
      "                        </legend>\n",
      "                        <table class=\"table table-bordered table-striped\"><tr><th class=\"text-center text-secondary\">#</th><th class=\"text-secondary\">Country</th><th class=\"text-secondary text-center\">Total Points (LIVE)</th></tr>\n",
      "        <tr><td class=\"text-center\">1</td><td class=\"fw-bold text\">Great Britain 🇬🇧</td><td class=\"fw-bold text-center\">1526</td></tr><tr><td class=\"text-center\">2</td><td class=\"fw-bold text\">South Korea 🇰🇷</td><td class=\"fw-bold text-center\">1500</td></tr><tr><td class=\"text-center\">3</td><td class=\"fw-bold text\">Germany 🇩🇪</td><td class=\"fw-bold text-center\">1498</td></tr><tr><td class=\"text-center\">4</td><td class=\"fw-bold text\">France 🇫🇷</td><td class=\"fw-bold text-center\">1481</td></tr><tr><td class=\"text-center\">5</td><td class=\"fw-bold text\">Finland 🇫🇮</td><td class=\"fw-bold text-center\">1431</td></tr><tr><td class=\"text-center\">6</td><td class=\"fw-bold text\">Azerbaijan 🇦🇿</td><td class=\"fw-bold text-center\">1425</td></tr><tr><td class=\"text-center\">7</td><td class=\"fw-bold text\">Cuba 🇨🇺</td><td class=\"fw-bold text-center\">1421</td></tr><tr><td class=\"text-center\">8</td><td class=\"fw-bold text\">United States 🇺🇲</td><td class=\"fw-bold text-center\">1362</td></tr><tr><td class=\"text-center\">9</td><td class=\"fw-bold text\">The Soviet Union ☭</td><td class=\"fw-bold text-center\">1333</td></tr><tr><td class=\"text-center\">10</td><td class=\"fw-bold text\">Portugal 🇵🇹</td><td class=\"fw-bold text-center\">1326</td></tr><tr><td class=\"text-center\">11</td><td class=\"fw-bold text\">Egypt 🇪🇬</td><td class=\"fw-bold text-center\">1295</td></tr><tr><td class=\"text-center\">12</td><td class=\"fw-bold text\">Kenya 🇰🇪</td><td class=\"fw-bold text-center\">1291</td></tr><tr><td class=\"text-center\">13</td><td class=\"fw-bold text\">New Zealand 🇳🇿</td><td class=\"fw-bold text-center\">1283</td></tr>\n",
      "        </table>\n",
      "                    </div>\n",
      "        \n",
      "\n",
      "                    <div class=\"col-md-6\">\n",
      "                        <legend>\n",
      "                            Total Medals:\n",
      "                        </legend>\n",
      "                        <table class=\"table table-bordered table-striped\"><tr><th class=\"text-center text-secondary\">#</th><th class=\"text-secondary\">Country</th>\n",
      "                        <th class=\"text-center\">🥇</th>\n",
      "                        <th class=\"text-center\">🥈</th>\n",
      "                        <th class=\"text-center\">🥉</th>\n",
      "                        </tr>\n",
      "        <tr><td class=\"text-center\">1</td><td class=\"fw-bold\">France 🇫🇷</td><td class=\"fw-bold text-center\">7</td><td class=\"fw-bold text-center\">3</td><td class=\"fw-bold text-center\">4</td></tr><tr><td class=\"text-center\">2</td><td class=\"fw-bold\">Great Britain 🇬🇧</td><td class=\"fw-bold text-center\">4</td><td class=\"fw-bold text-center\">3</td><td class=\"fw-bold text-center\">4</td></tr><tr><td class=\"text-center\">3</td><td class=\"fw-bold\">Germany 🇩🇪</td><td class=\"fw-bold text-center\">4</td><td class=\"fw-bold text-center\">3</td><td class=\"fw-bold text-center\">2</td></tr><tr><td class=\"text-center\">4</td><td class=\"fw-bold\">Cuba 🇨🇺</td><td class=\"fw-bold text-center\">3</td><td class=\"fw-bold text-center\">6</td><td class=\"fw-bold text-center\">3</td></tr><tr><td class=\"text-center\">5</td><td class=\"fw-bold\">Azerbaijan 🇦🇿</td><td class=\"fw-bold text-center\">3</td><td class=\"fw-bold text-center\">3</td><td class=\"fw-bold text-center\">3</td></tr><tr><td class=\"text-center\">6</td><td class=\"fw-bold\">Finland 🇫🇮</td><td class=\"fw-bold text-center\">3</td><td class=\"fw-bold text-center\">3</td><td class=\"fw-bold text-center\">2</td></tr><tr><td class=\"text-center\">7</td><td class=\"fw-bold\">The Soviet Union ☭</td><td class=\"fw-bold text-center\">2</td><td class=\"fw-bold text-center\">3</td><td class=\"fw-bold text-center\">2</td></tr><tr><td class=\"text-center\">8</td><td class=\"fw-bold\">United States 🇺🇲</td><td class=\"fw-bold text-center\">2</td><td class=\"fw-bold text-center\">2</td><td class=\"fw-bold text-center\">3</td></tr><tr><td class=\"text-center\">9</td><td class=\"fw-bold\">South Korea 🇰🇷</td><td class=\"fw-bold text-center\">2</td><td class=\"fw-bold text-center\">2</td><td class=\"fw-bold text-center\">3</td></tr><tr><td class=\"text-center\">10</td><td class=\"fw-bold\">Portugal 🇵🇹</td><td class=\"fw-bold text-center\">2</td><td class=\"fw-bold text-center\">2</td><td class=\"fw-bold text-center\">1</td></tr><tr><td class=\"text-center\">11</td><td class=\"fw-bold\">New Zealand 🇳🇿</td><td class=\"fw-bold text-center\">2</td><td class=\"fw-bold text-center\">1</td><td class=\"fw-bold text-center\">2</td></tr><tr><td class=\"text-center\">12</td><td class=\"fw-bold\">Egypt 🇪🇬</td><td class=\"fw-bold text-center\">1</td><td class=\"fw-bold text-center\">3</td><td class=\"fw-bold text-center\">3</td></tr><tr><td class=\"text-center\">13</td><td class=\"fw-bold\">Kenya 🇰🇪</td><td class=\"fw-bold text-center\">1</td><td class=\"fw-bold text-center\">2</td><td class=\"fw-bold text-center\">4</td></tr>\n",
      "        </table>\n",
      "                    </div>\n",
      "                </div>\n",
      "        \n",
      "=======================4===================\n",
      "\n",
      "                <div class=\"row\">\n",
      "                    <div class=\"col-md-6\">\n",
      "                        <legend>\n",
      "                            Total Points:\n",
      "                        </legend>\n",
      "                        <table class=\"table table-bordered table-striped\"><tr><th class=\"text-center text-secondary\">#</th><th class=\"text-secondary\">Country</th><th class=\"text-secondary text-center\">Total Points (LIVE)</th></tr>\n",
      "        <tr><td class=\"text-center\">1</td><td class=\"fw-bold text\">Germany 🇩🇪</td><td class=\"fw-bold text-center\">1961</td></tr><tr><td class=\"text-center\">2</td><td class=\"fw-bold text\">United States 🇺🇲</td><td class=\"fw-bold text-center\">1950</td></tr><tr><td class=\"text-center\">3</td><td class=\"fw-bold text\">France 🇫🇷</td><td class=\"fw-bold text-center\">1928</td></tr><tr><td class=\"text-center\">4</td><td class=\"fw-bold text\">South Korea 🇰🇷</td><td class=\"fw-bold text-center\">1927</td></tr><tr><td class=\"text-center\">5</td><td class=\"fw-bold text\">Great Britain 🇬🇧</td><td class=\"fw-bold text-center\">1896</td></tr><tr><td class=\"text-center\">6</td><td class=\"fw-bold text\">Cuba 🇨🇺</td><td class=\"fw-bold text-center\">1887</td></tr><tr><td class=\"text-center\">7</td><td class=\"fw-bold text\">Azerbaijan 🇦🇿</td><td class=\"fw-bold text-center\">1863</td></tr><tr><td class=\"text-center\">8</td><td class=\"fw-bold text\">Finland 🇫🇮</td><td class=\"fw-bold text-center\">1834</td></tr><tr><td class=\"text-center\">9</td><td class=\"fw-bold text\">The Soviet Union ☭</td><td class=\"fw-bold text-center\">1832</td></tr><tr><td class=\"text-center\">10</td><td class=\"fw-bold text\">Egypt 🇪🇬</td><td class=\"fw-bold text-center\">1828</td></tr><tr><td class=\"text-center\">11</td><td class=\"fw-bold text\">Portugal 🇵🇹</td><td class=\"fw-bold text-center\">1757</td></tr><tr><td class=\"text-center\">12</td><td class=\"fw-bold text\">New Zealand 🇳🇿</td><td class=\"fw-bold text-center\">1741</td></tr><tr><td class=\"text-center\">13</td><td class=\"fw-bold text\">Kenya 🇰🇪</td><td class=\"fw-bold text-center\">1690</td></tr>\n",
      "        </table>\n",
      "                    </div>\n",
      "        \n",
      "\n",
      "                    <div class=\"col-md-6\">\n",
      "                        <legend>\n",
      "                            Total Medals:\n",
      "                        </legend>\n",
      "                        <table class=\"table table-bordered table-striped\"><tr><th class=\"text-center text-secondary\">#</th><th class=\"text-secondary\">Country</th>\n",
      "                        <th class=\"text-center\">🥇</th>\n",
      "                        <th class=\"text-center\">🥈</th>\n",
      "                        <th class=\"text-center\">🥉</th>\n",
      "                        </tr>\n",
      "        <tr><td class=\"text-center\">1</td><td class=\"fw-bold\">France 🇫🇷</td><td class=\"fw-bold text-center\">8</td><td class=\"fw-bold text-center\">3</td><td class=\"fw-bold text-center\">5</td></tr><tr><td class=\"text-center\">2</td><td class=\"fw-bold\">United States 🇺🇲</td><td class=\"fw-bold text-center\">6</td><td class=\"fw-bold text-center\">3</td><td class=\"fw-bold text-center\">4</td></tr><tr><td class=\"text-center\">3</td><td class=\"fw-bold\">Germany 🇩🇪</td><td class=\"fw-bold text-center\">6</td><td class=\"fw-bold text-center\">3</td><td class=\"fw-bold text-center\">2</td></tr><tr><td class=\"text-center\">4</td><td class=\"fw-bold\">Egypt 🇪🇬</td><td class=\"fw-bold text-center\">4</td><td class=\"fw-bold text-center\">3</td><td class=\"fw-bold text-center\">4</td></tr><tr><td class=\"text-center\">5</td><td class=\"fw-bold\">Great Britain 🇬🇧</td><td class=\"fw-bold text-center\">4</td><td class=\"fw-bold text-center\">3</td><td class=\"fw-bold text-center\">4</td></tr><tr><td class=\"text-center\">6</td><td class=\"fw-bold\">Cuba 🇨🇺</td><td class=\"fw-bold text-center\">3</td><td class=\"fw-bold text-center\">8</td><td class=\"fw-bold text-center\">6</td></tr><tr><td class=\"text-center\">7</td><td class=\"fw-bold\">The Soviet Union ☭</td><td class=\"fw-bold text-center\">3</td><td class=\"fw-bold text-center\">5</td><td class=\"fw-bold text-center\">4</td></tr><tr><td class=\"text-center\">8</td><td class=\"fw-bold\">Azerbaijan 🇦🇿</td><td class=\"fw-bold text-center\">3</td><td class=\"fw-bold text-center\">4</td><td class=\"fw-bold text-center\">4</td></tr><tr><td class=\"text-center\">9</td><td class=\"fw-bold\">Finland 🇫🇮</td><td class=\"fw-bold text-center\">3</td><td class=\"fw-bold text-center\">4</td><td class=\"fw-bold text-center\">2</td></tr><tr><td class=\"text-center\">10</td><td class=\"fw-bold\">New Zealand 🇳🇿</td><td class=\"fw-bold text-center\">3</td><td class=\"fw-bold text-center\">1</td><td class=\"fw-bold text-center\">3</td></tr><tr><td class=\"text-center\">11</td><td class=\"fw-bold\">Portugal 🇵🇹</td><td class=\"fw-bold text-center\">2</td><td class=\"fw-bold text-center\">4</td><td class=\"fw-bold text-center\">2</td></tr><tr><td class=\"text-center\">12</td><td class=\"fw-bold\">South Korea 🇰🇷</td><td class=\"fw-bold text-center\">2</td><td class=\"fw-bold text-center\">3</td><td class=\"fw-bold text-center\">3</td></tr><tr><td class=\"text-center\">13</td><td class=\"fw-bold\">Kenya 🇰🇪</td><td class=\"fw-bold text-center\">1</td><td class=\"fw-bold text-center\">4</td><td class=\"fw-bold text-center\">5</td></tr>\n",
      "        </table>\n",
      "                    </div>\n",
      "                </div>\n",
      "        \n"
     ]
    },
    {
     "name": "stdout",
     "output_type": "stream",
     "text": [
      "=======================5===================\n",
      "\n",
      "                <div class=\"row\">\n",
      "                    <div class=\"col-md-6\">\n",
      "                        <legend>\n",
      "                            Total Points:\n",
      "                        </legend>\n",
      "                        <table class=\"table table-bordered table-striped\"><tr><th class=\"text-center text-secondary\">#</th><th class=\"text-secondary\">Country</th><th class=\"text-secondary text-center\">Total Points (LIVE)</th></tr>\n",
      "        <tr><td class=\"text-center\">1</td><td class=\"fw-bold text\">Germany 🇩🇪</td><td class=\"fw-bold text-center\">2395</td></tr><tr><td class=\"text-center\">2</td><td class=\"fw-bold text\">South Korea 🇰🇷</td><td class=\"fw-bold text-center\">2388</td></tr><tr><td class=\"text-center\">3</td><td class=\"fw-bold text\">United States 🇺🇲</td><td class=\"fw-bold text-center\">2385</td></tr><tr><td class=\"text-center\">4</td><td class=\"fw-bold text\">France 🇫🇷</td><td class=\"fw-bold text-center\">2361</td></tr><tr><td class=\"text-center\">5</td><td class=\"fw-bold text\">Great Britain 🇬🇧</td><td class=\"fw-bold text-center\">2346</td></tr><tr><td class=\"text-center\">6</td><td class=\"fw-bold text\">Cuba 🇨🇺</td><td class=\"fw-bold text-center\">2324</td></tr><tr><td class=\"text-center\">7</td><td class=\"fw-bold text\">Azerbaijan 🇦🇿</td><td class=\"fw-bold text-center\">2316</td></tr><tr><td class=\"text-center\">8</td><td class=\"fw-bold text\">The Soviet Union ☭</td><td class=\"fw-bold text-center\">2294</td></tr><tr><td class=\"text-center\">9</td><td class=\"fw-bold text\">Finland 🇫🇮</td><td class=\"fw-bold text-center\">2257</td></tr><tr><td class=\"text-center\">10</td><td class=\"fw-bold text\">Egypt 🇪🇬</td><td class=\"fw-bold text-center\">2212</td></tr><tr><td class=\"text-center\">11</td><td class=\"fw-bold text\">New Zealand 🇳🇿</td><td class=\"fw-bold text-center\">2150</td></tr><tr><td class=\"text-center\">12</td><td class=\"fw-bold text\">Portugal 🇵🇹</td><td class=\"fw-bold text-center\">2129</td></tr><tr><td class=\"text-center\">13</td><td class=\"fw-bold text\">Kenya 🇰🇪</td><td class=\"fw-bold text-center\">2114</td></tr>\n",
      "        </table>\n",
      "                    </div>\n",
      "        \n",
      "\n",
      "                    <div class=\"col-md-6\">\n",
      "                        <legend>\n",
      "                            Total Medals:\n",
      "                        </legend>\n",
      "                        <table class=\"table table-bordered table-striped\"><tr><th class=\"text-center text-secondary\">#</th><th class=\"text-secondary\">Country</th>\n",
      "                        <th class=\"text-center\">🥇</th>\n",
      "                        <th class=\"text-center\">🥈</th>\n",
      "                        <th class=\"text-center\">🥉</th>\n",
      "                        </tr>\n",
      "        <tr><td class=\"text-center\">1</td><td class=\"fw-bold\">France 🇫🇷</td><td class=\"fw-bold text-center\">9</td><td class=\"fw-bold text-center\">3</td><td class=\"fw-bold text-center\">5</td></tr><tr><td class=\"text-center\">2</td><td class=\"fw-bold\">Germany 🇩🇪</td><td class=\"fw-bold text-center\">7</td><td class=\"fw-bold text-center\">4</td><td class=\"fw-bold text-center\">2</td></tr><tr><td class=\"text-center\">3</td><td class=\"fw-bold\">United States 🇺🇲</td><td class=\"fw-bold text-center\">6</td><td class=\"fw-bold text-center\">4</td><td class=\"fw-bold text-center\">5</td></tr><tr><td class=\"text-center\">4</td><td class=\"fw-bold\">Cuba 🇨🇺</td><td class=\"fw-bold text-center\">5</td><td class=\"fw-bold text-center\">10</td><td class=\"fw-bold text-center\">7</td></tr><tr><td class=\"text-center\">5</td><td class=\"fw-bold\">Azerbaijan 🇦🇿</td><td class=\"fw-bold text-center\">4</td><td class=\"fw-bold text-center\">6</td><td class=\"fw-bold text-center\">6</td></tr><tr><td class=\"text-center\">6</td><td class=\"fw-bold\">Great Britain 🇬🇧</td><td class=\"fw-bold text-center\">4</td><td class=\"fw-bold text-center\">6</td><td class=\"fw-bold text-center\">5</td></tr><tr><td class=\"text-center\">7</td><td class=\"fw-bold\">The Soviet Union ☭</td><td class=\"fw-bold text-center\">4</td><td class=\"fw-bold text-center\">6</td><td class=\"fw-bold text-center\">5</td></tr><tr><td class=\"text-center\">8</td><td class=\"fw-bold\">Finland 🇫🇮</td><td class=\"fw-bold text-center\">4</td><td class=\"fw-bold text-center\">4</td><td class=\"fw-bold text-center\">4</td></tr><tr><td class=\"text-center\">9</td><td class=\"fw-bold\">South Korea 🇰🇷</td><td class=\"fw-bold text-center\">4</td><td class=\"fw-bold text-center\">4</td><td class=\"fw-bold text-center\">3</td></tr><tr><td class=\"text-center\">10</td><td class=\"fw-bold\">Egypt 🇪🇬</td><td class=\"fw-bold text-center\">4</td><td class=\"fw-bold text-center\">3</td><td class=\"fw-bold text-center\">5</td></tr><tr><td class=\"text-center\">11</td><td class=\"fw-bold\">New Zealand 🇳🇿</td><td class=\"fw-bold text-center\">4</td><td class=\"fw-bold text-center\">1</td><td class=\"fw-bold text-center\">5</td></tr><tr><td class=\"text-center\">12</td><td class=\"fw-bold\">Portugal 🇵🇹</td><td class=\"fw-bold text-center\">3</td><td class=\"fw-bold text-center\">4</td><td class=\"fw-bold text-center\">2</td></tr><tr><td class=\"text-center\">13</td><td class=\"fw-bold\">Kenya 🇰🇪</td><td class=\"fw-bold text-center\">2</td><td class=\"fw-bold text-center\">5</td><td class=\"fw-bold text-center\">6</td></tr>\n",
      "        </table>\n",
      "                    </div>\n",
      "                </div>\n",
      "        \n",
      "=======================6===================\n",
      "\n",
      "                <div class=\"row\">\n",
      "                    <div class=\"col-md-6\">\n",
      "                        <legend>\n",
      "                            Total Points:\n",
      "                        </legend>\n",
      "                        <table class=\"table table-bordered table-striped\"><tr><th class=\"text-center text-secondary\">#</th><th class=\"text-secondary\">Country</th><th class=\"text-secondary text-center\">Total Points (LIVE)</th></tr>\n",
      "        <tr><td class=\"text-center\">1</td><td class=\"fw-bold text\">Great Britain 🇬🇧</td><td class=\"fw-bold text-center\">2944</td></tr><tr><td class=\"text-center\">2</td><td class=\"fw-bold text\">France 🇫🇷</td><td class=\"fw-bold text-center\">2907</td></tr><tr><td class=\"text-center\">3</td><td class=\"fw-bold text\">South Korea 🇰🇷</td><td class=\"fw-bold text-center\">2905</td></tr><tr><td class=\"text-center\">4</td><td class=\"fw-bold text\">Azerbaijan 🇦🇿</td><td class=\"fw-bold text-center\">2886</td></tr><tr><td class=\"text-center\">5</td><td class=\"fw-bold text\">Germany 🇩🇪</td><td class=\"fw-bold text-center\">2883</td></tr><tr><td class=\"text-center\">6</td><td class=\"fw-bold text\">United States 🇺🇲</td><td class=\"fw-bold text-center\">2856</td></tr><tr><td class=\"text-center\">7</td><td class=\"fw-bold text\">The Soviet Union ☭</td><td class=\"fw-bold text-center\">2774</td></tr><tr><td class=\"text-center\">8</td><td class=\"fw-bold text\">Cuba 🇨🇺</td><td class=\"fw-bold text-center\">2755</td></tr><tr><td class=\"text-center\">9</td><td class=\"fw-bold text\">Finland 🇫🇮</td><td class=\"fw-bold text-center\">2743</td></tr><tr><td class=\"text-center\">10</td><td class=\"fw-bold text\">Portugal 🇵🇹</td><td class=\"fw-bold text-center\">2688</td></tr><tr><td class=\"text-center\">11</td><td class=\"fw-bold text\">Egypt 🇪🇬</td><td class=\"fw-bold text-center\">2631</td></tr><tr><td class=\"text-center\">12</td><td class=\"fw-bold text\">New Zealand 🇳🇿</td><td class=\"fw-bold text-center\">2590</td></tr><tr><td class=\"text-center\">13</td><td class=\"fw-bold text\">Kenya 🇰🇪</td><td class=\"fw-bold text-center\">2532</td></tr>\n",
      "        </table>\n",
      "                    </div>\n",
      "        \n",
      "\n",
      "                    <div class=\"col-md-6\">\n",
      "                        <legend>\n",
      "                            Total Medals:\n",
      "                        </legend>\n",
      "                        <table class=\"table table-bordered table-striped\"><tr><th class=\"text-center text-secondary\">#</th><th class=\"text-secondary\">Country</th>\n",
      "                        <th class=\"text-center\">🥇</th>\n",
      "                        <th class=\"text-center\">🥈</th>\n",
      "                        <th class=\"text-center\">🥉</th>\n",
      "                        </tr>\n",
      "        <tr><td class=\"text-center\">1</td><td class=\"fw-bold\">France 🇫🇷</td><td class=\"fw-bold text-center\">11</td><td class=\"fw-bold text-center\">4</td><td class=\"fw-bold text-center\">7</td></tr><tr><td class=\"text-center\">2</td><td class=\"fw-bold\">Germany 🇩🇪</td><td class=\"fw-bold text-center\">7</td><td class=\"fw-bold text-center\">6</td><td class=\"fw-bold text-center\">3</td></tr><tr><td class=\"text-center\">3</td><td class=\"fw-bold\">United States 🇺🇲</td><td class=\"fw-bold text-center\">7</td><td class=\"fw-bold text-center\">5</td><td class=\"fw-bold text-center\">6</td></tr><tr><td class=\"text-center\">4</td><td class=\"fw-bold\">Azerbaijan 🇦🇿</td><td class=\"fw-bold text-center\">6</td><td class=\"fw-bold text-center\">7</td><td class=\"fw-bold text-center\">8</td></tr><tr><td class=\"text-center\">5</td><td class=\"fw-bold\">South Korea 🇰🇷</td><td class=\"fw-bold text-center\">6</td><td class=\"fw-bold text-center\">4</td><td class=\"fw-bold text-center\">4</td></tr><tr><td class=\"text-center\">6</td><td class=\"fw-bold\">Great Britain 🇬🇧</td><td class=\"fw-bold text-center\">5</td><td class=\"fw-bold text-center\">11</td><td class=\"fw-bold text-center\">5</td></tr><tr><td class=\"text-center\">7</td><td class=\"fw-bold\">Cuba 🇨🇺</td><td class=\"fw-bold text-center\">5</td><td class=\"fw-bold text-center\">10</td><td class=\"fw-bold text-center\">8</td></tr><tr><td class=\"text-center\">8</td><td class=\"fw-bold\">The Soviet Union ☭</td><td class=\"fw-bold text-center\">5</td><td class=\"fw-bold text-center\">6</td><td class=\"fw-bold text-center\">7</td></tr><tr><td class=\"text-center\">9</td><td class=\"fw-bold\">Portugal 🇵🇹</td><td class=\"fw-bold text-center\">5</td><td class=\"fw-bold text-center\">5</td><td class=\"fw-bold text-center\">2</td></tr><tr><td class=\"text-center\">10</td><td class=\"fw-bold\">Finland 🇫🇮</td><td class=\"fw-bold text-center\">5</td><td class=\"fw-bold text-center\">4</td><td class=\"fw-bold text-center\">6</td></tr><tr><td class=\"text-center\">11</td><td class=\"fw-bold\">Egypt 🇪🇬</td><td class=\"fw-bold text-center\">4</td><td class=\"fw-bold text-center\">3</td><td class=\"fw-bold text-center\">5</td></tr><tr><td class=\"text-center\">12</td><td class=\"fw-bold\">New Zealand 🇳🇿</td><td class=\"fw-bold text-center\">4</td><td class=\"fw-bold text-center\">1</td><td class=\"fw-bold text-center\">5</td></tr><tr><td class=\"text-center\">13</td><td class=\"fw-bold\">Kenya 🇰🇪</td><td class=\"fw-bold text-center\">2</td><td class=\"fw-bold text-center\">6</td><td class=\"fw-bold text-center\">6</td></tr>\n",
      "        </table>\n",
      "                    </div>\n",
      "                </div>\n",
      "        \n"
     ]
    },
    {
     "name": "stdout",
     "output_type": "stream",
     "text": [
      "=======================7===================\n",
      "\n",
      "                <div class=\"row\">\n",
      "                    <div class=\"col-md-6\">\n",
      "                        <legend>\n",
      "                            Total Points:\n",
      "                        </legend>\n",
      "                        <table class=\"table table-bordered table-striped\"><tr><th class=\"text-center text-secondary\">#</th><th class=\"text-secondary\">Country</th><th class=\"text-secondary text-center\">Total Points (LIVE)</th></tr>\n",
      "        <tr><td class=\"text-center\">1</td><td class=\"fw-bold text\">Great Britain 🇬🇧</td><td class=\"fw-bold text-center\">3606</td></tr><tr><td class=\"text-center\">2</td><td class=\"fw-bold text\">Azerbaijan 🇦🇿</td><td class=\"fw-bold text-center\">3447</td></tr><tr><td class=\"text-center\">3</td><td class=\"fw-bold text\">Germany 🇩🇪</td><td class=\"fw-bold text-center\">3374</td></tr><tr><td class=\"text-center\">4</td><td class=\"fw-bold text\">France 🇫🇷</td><td class=\"fw-bold text-center\">3358</td></tr><tr><td class=\"text-center\">5</td><td class=\"fw-bold text\">The Soviet Union ☭</td><td class=\"fw-bold text-center\">3356</td></tr><tr><td class=\"text-center\">6</td><td class=\"fw-bold text\">South Korea 🇰🇷</td><td class=\"fw-bold text-center\">3345</td></tr><tr><td class=\"text-center\">7</td><td class=\"fw-bold text\">United States 🇺🇲</td><td class=\"fw-bold text-center\">3299</td></tr><tr><td class=\"text-center\">8</td><td class=\"fw-bold text\">Finland 🇫🇮</td><td class=\"fw-bold text-center\">3293</td></tr><tr><td class=\"text-center\">9</td><td class=\"fw-bold text\">Cuba 🇨🇺</td><td class=\"fw-bold text-center\">3249</td></tr><tr><td class=\"text-center\">10</td><td class=\"fw-bold text\">Portugal 🇵🇹</td><td class=\"fw-bold text-center\">3144</td></tr><tr><td class=\"text-center\">11</td><td class=\"fw-bold text\">Kenya 🇰🇪</td><td class=\"fw-bold text-center\">3050</td></tr><tr><td class=\"text-center\">12</td><td class=\"fw-bold text\">Egypt 🇪🇬</td><td class=\"fw-bold text-center\">3035</td></tr><tr><td class=\"text-center\">13</td><td class=\"fw-bold text\">New Zealand 🇳🇿</td><td class=\"fw-bold text-center\">3030</td></tr>\n",
      "        </table>\n",
      "                    </div>\n",
      "        \n",
      "\n",
      "                    <div class=\"col-md-6\">\n",
      "                        <legend>\n",
      "                            Total Medals:\n",
      "                        </legend>\n",
      "                        <table class=\"table table-bordered table-striped\"><tr><th class=\"text-center text-secondary\">#</th><th class=\"text-secondary\">Country</th>\n",
      "                        <th class=\"text-center\">🥇</th>\n",
      "                        <th class=\"text-center\">🥈</th>\n",
      "                        <th class=\"text-center\">🥉</th>\n",
      "                        </tr>\n",
      "        <tr><td class=\"text-center\">1</td><td class=\"fw-bold\">France 🇫🇷</td><td class=\"fw-bold text-center\">11</td><td class=\"fw-bold text-center\">4</td><td class=\"fw-bold text-center\">8</td></tr><tr><td class=\"text-center\">2</td><td class=\"fw-bold\">Great Britain 🇬🇧</td><td class=\"fw-bold text-center\">10</td><td class=\"fw-bold text-center\">12</td><td class=\"fw-bold text-center\">6</td></tr><tr><td class=\"text-center\">3</td><td class=\"fw-bold\">Azerbaijan 🇦🇿</td><td class=\"fw-bold text-center\">9</td><td class=\"fw-bold text-center\">8</td><td class=\"fw-bold text-center\">8</td></tr><tr><td class=\"text-center\">4</td><td class=\"fw-bold\">Germany 🇩🇪</td><td class=\"fw-bold text-center\">8</td><td class=\"fw-bold text-center\">8</td><td class=\"fw-bold text-center\">4</td></tr><tr><td class=\"text-center\">5</td><td class=\"fw-bold\">The Soviet Union ☭</td><td class=\"fw-bold text-center\">7</td><td class=\"fw-bold text-center\">7</td><td class=\"fw-bold text-center\">9</td></tr><tr><td class=\"text-center\">6</td><td class=\"fw-bold\">United States 🇺🇲</td><td class=\"fw-bold text-center\">7</td><td class=\"fw-bold text-center\">5</td><td class=\"fw-bold text-center\">7</td></tr><tr><td class=\"text-center\">7</td><td class=\"fw-bold\">Finland 🇫🇮</td><td class=\"fw-bold text-center\">6</td><td class=\"fw-bold text-center\">6</td><td class=\"fw-bold text-center\">9</td></tr><tr><td class=\"text-center\">8</td><td class=\"fw-bold\">South Korea 🇰🇷</td><td class=\"fw-bold text-center\">6</td><td class=\"fw-bold text-center\">6</td><td class=\"fw-bold text-center\">4</td></tr><tr><td class=\"text-center\">9</td><td class=\"fw-bold\">Cuba 🇨🇺</td><td class=\"fw-bold text-center\">5</td><td class=\"fw-bold text-center\">12</td><td class=\"fw-bold text-center\">9</td></tr><tr><td class=\"text-center\">10</td><td class=\"fw-bold\">Portugal 🇵🇹</td><td class=\"fw-bold text-center\">5</td><td class=\"fw-bold text-center\">5</td><td class=\"fw-bold text-center\">2</td></tr><tr><td class=\"text-center\">11</td><td class=\"fw-bold\">Egypt 🇪🇬</td><td class=\"fw-bold text-center\">4</td><td class=\"fw-bold text-center\">3</td><td class=\"fw-bold text-center\">5</td></tr><tr><td class=\"text-center\">12</td><td class=\"fw-bold\">New Zealand 🇳🇿</td><td class=\"fw-bold text-center\">4</td><td class=\"fw-bold text-center\">1</td><td class=\"fw-bold text-center\">5</td></tr><tr><td class=\"text-center\">13</td><td class=\"fw-bold\">Kenya 🇰🇪</td><td class=\"fw-bold text-center\">2</td><td class=\"fw-bold text-center\">7</td><td class=\"fw-bold text-center\">8</td></tr>\n",
      "        </table>\n",
      "                    </div>\n",
      "                </div>\n",
      "        \n",
      "=======================8===================\n",
      "\n",
      "                <div class=\"row\">\n",
      "                    <div class=\"col-md-6\">\n",
      "                        <legend>\n",
      "                            Total Points:\n",
      "                        </legend>\n",
      "                        <table class=\"table table-bordered table-striped\"><tr><th class=\"text-center text-secondary\">#</th><th class=\"text-secondary\">Country</th><th class=\"text-secondary text-center\">Total Points (LIVE)</th></tr>\n",
      "        <tr><td class=\"text-center\">1</td><td class=\"fw-bold text\">Great Britain 🇬🇧</td><td class=\"fw-bold text-center\">4064</td></tr><tr><td class=\"text-center\">2</td><td class=\"fw-bold text\">Azerbaijan 🇦🇿</td><td class=\"fw-bold text-center\">3937</td></tr><tr><td class=\"text-center\">3</td><td class=\"fw-bold text\">The Soviet Union ☭</td><td class=\"fw-bold text-center\">3827</td></tr><tr><td class=\"text-center\">4</td><td class=\"fw-bold text\">France 🇫🇷</td><td class=\"fw-bold text-center\">3815</td></tr><tr><td class=\"text-center\">5</td><td class=\"fw-bold text\">Germany 🇩🇪</td><td class=\"fw-bold text-center\">3805</td></tr><tr><td class=\"text-center\">6</td><td class=\"fw-bold text\">South Korea 🇰🇷</td><td class=\"fw-bold text-center\">3803</td></tr><tr><td class=\"text-center\">7</td><td class=\"fw-bold text\">Finland 🇫🇮</td><td class=\"fw-bold text-center\">3689</td></tr><tr><td class=\"text-center\">8</td><td class=\"fw-bold text\">United States 🇺🇲</td><td class=\"fw-bold text-center\">3687</td></tr><tr><td class=\"text-center\">9</td><td class=\"fw-bold text\">Cuba 🇨🇺</td><td class=\"fw-bold text-center\">3619</td></tr><tr><td class=\"text-center\">10</td><td class=\"fw-bold text\">Portugal 🇵🇹</td><td class=\"fw-bold text-center\">3561</td></tr><tr><td class=\"text-center\">11</td><td class=\"fw-bold text\">Egypt 🇪🇬</td><td class=\"fw-bold text-center\">3495</td></tr><tr><td class=\"text-center\">12</td><td class=\"fw-bold text\">New Zealand 🇳🇿</td><td class=\"fw-bold text-center\">3457</td></tr><tr><td class=\"text-center\">13</td><td class=\"fw-bold text\">Kenya 🇰🇪</td><td class=\"fw-bold text-center\">3438</td></tr>\n",
      "        </table>\n",
      "                    </div>\n",
      "        \n",
      "\n",
      "                    <div class=\"col-md-6\">\n",
      "                        <legend>\n",
      "                            Total Medals:\n",
      "                        </legend>\n",
      "                        <table class=\"table table-bordered table-striped\"><tr><th class=\"text-center text-secondary\">#</th><th class=\"text-secondary\">Country</th>\n",
      "                        <th class=\"text-center\">🥇</th>\n",
      "                        <th class=\"text-center\">🥈</th>\n",
      "                        <th class=\"text-center\">🥉</th>\n",
      "                        </tr>\n",
      "        <tr><td class=\"text-center\">1</td><td class=\"fw-bold\">France 🇫🇷</td><td class=\"fw-bold text-center\">12</td><td class=\"fw-bold text-center\">4</td><td class=\"fw-bold text-center\">11</td></tr><tr><td class=\"text-center\">2</td><td class=\"fw-bold\">Azerbaijan 🇦🇿</td><td class=\"fw-bold text-center\">11</td><td class=\"fw-bold text-center\">9</td><td class=\"fw-bold text-center\">10</td></tr><tr><td class=\"text-center\">3</td><td class=\"fw-bold\">Great Britain 🇬🇧</td><td class=\"fw-bold text-center\">10</td><td class=\"fw-bold text-center\">15</td><td class=\"fw-bold text-center\">6</td></tr><tr><td class=\"text-center\">4</td><td class=\"fw-bold\">The Soviet Union ☭</td><td class=\"fw-bold text-center\">9</td><td class=\"fw-bold text-center\">9</td><td class=\"fw-bold text-center\">10</td></tr><tr><td class=\"text-center\">5</td><td class=\"fw-bold\">Germany 🇩🇪</td><td class=\"fw-bold text-center\">8</td><td class=\"fw-bold text-center\">8</td><td class=\"fw-bold text-center\">5</td></tr><tr><td class=\"text-center\">6</td><td class=\"fw-bold\">South Korea 🇰🇷</td><td class=\"fw-bold text-center\">7</td><td class=\"fw-bold text-center\">7</td><td class=\"fw-bold text-center\">7</td></tr><tr><td class=\"text-center\">7</td><td class=\"fw-bold\">United States 🇺🇲</td><td class=\"fw-bold text-center\">7</td><td class=\"fw-bold text-center\">5</td><td class=\"fw-bold text-center\">7</td></tr><tr><td class=\"text-center\">8</td><td class=\"fw-bold\">New Zealand 🇳🇿</td><td class=\"fw-bold text-center\">7</td><td class=\"fw-bold text-center\">1</td><td class=\"fw-bold text-center\">5</td></tr><tr><td class=\"text-center\">9</td><td class=\"fw-bold\">Finland 🇫🇮</td><td class=\"fw-bold text-center\">6</td><td class=\"fw-bold text-center\">7</td><td class=\"fw-bold text-center\">9</td></tr><tr><td class=\"text-center\">10</td><td class=\"fw-bold\">Portugal 🇵🇹</td><td class=\"fw-bold text-center\">6</td><td class=\"fw-bold text-center\">5</td><td class=\"fw-bold text-center\">3</td></tr><tr><td class=\"text-center\">11</td><td class=\"fw-bold\">Cuba 🇨🇺</td><td class=\"fw-bold text-center\">5</td><td class=\"fw-bold text-center\">12</td><td class=\"fw-bold text-center\">9</td></tr><tr><td class=\"text-center\">12</td><td class=\"fw-bold\">Egypt 🇪🇬</td><td class=\"fw-bold text-center\">5</td><td class=\"fw-bold text-center\">6</td><td class=\"fw-bold text-center\">6</td></tr><tr><td class=\"text-center\">13</td><td class=\"fw-bold\">Kenya 🇰🇪</td><td class=\"fw-bold text-center\">3</td><td class=\"fw-bold text-center\">8</td><td class=\"fw-bold text-center\">8</td></tr>\n",
      "        </table>\n",
      "                    </div>\n",
      "                </div>\n",
      "        \n"
     ]
    },
    {
     "name": "stdout",
     "output_type": "stream",
     "text": [
      "=======================9===================\n",
      "\n",
      "                <div class=\"row\">\n",
      "                    <div class=\"col-md-6\">\n",
      "                        <legend>\n",
      "                            Total Points:\n",
      "                        </legend>\n",
      "                        <table class=\"table table-bordered table-striped\"><tr><th class=\"text-center text-secondary\">#</th><th class=\"text-secondary\">Country</th><th class=\"text-secondary text-center\">Total Points (LIVE)</th></tr>\n",
      "        <tr><td class=\"text-center\">1</td><td class=\"fw-bold text\">Great Britain 🇬🇧</td><td class=\"fw-bold text-center\">4584</td></tr><tr><td class=\"text-center\">2</td><td class=\"fw-bold text\">Azerbaijan 🇦🇿</td><td class=\"fw-bold text-center\">4490</td></tr><tr><td class=\"text-center\">3</td><td class=\"fw-bold text\">The Soviet Union ☭</td><td class=\"fw-bold text-center\">4356</td></tr><tr><td class=\"text-center\">4</td><td class=\"fw-bold text\">Germany 🇩🇪</td><td class=\"fw-bold text-center\">4309</td></tr><tr><td class=\"text-center\">5</td><td class=\"fw-bold text\">South Korea 🇰🇷</td><td class=\"fw-bold text-center\">4301</td></tr><tr><td class=\"text-center\">6</td><td class=\"fw-bold text\">France 🇫🇷</td><td class=\"fw-bold text-center\">4256</td></tr><tr><td class=\"text-center\">7</td><td class=\"fw-bold text\">United States 🇺🇲</td><td class=\"fw-bold text-center\">4187</td></tr><tr><td class=\"text-center\">8</td><td class=\"fw-bold text\">Finland 🇫🇮</td><td class=\"fw-bold text-center\">4162</td></tr><tr><td class=\"text-center\">9</td><td class=\"fw-bold text\">Cuba 🇨🇺</td><td class=\"fw-bold text-center\">4086</td></tr><tr><td class=\"text-center\">10</td><td class=\"fw-bold text\">Portugal 🇵🇹</td><td class=\"fw-bold text-center\">4033</td></tr><tr><td class=\"text-center\">11</td><td class=\"fw-bold text\">Egypt 🇪🇬</td><td class=\"fw-bold text-center\">3932</td></tr><tr><td class=\"text-center\">12</td><td class=\"fw-bold text\">New Zealand 🇳🇿</td><td class=\"fw-bold text-center\">3894</td></tr><tr><td class=\"text-center\">13</td><td class=\"fw-bold text\">Kenya 🇰🇪</td><td class=\"fw-bold text-center\">3801</td></tr>\n",
      "        </table>\n",
      "                    </div>\n",
      "        \n",
      "\n",
      "                    <div class=\"col-md-6\">\n",
      "                        <legend>\n",
      "                            Total Medals:\n",
      "                        </legend>\n",
      "                        <table class=\"table table-bordered table-striped\"><tr><th class=\"text-center text-secondary\">#</th><th class=\"text-secondary\">Country</th>\n",
      "                        <th class=\"text-center\">🥇</th>\n",
      "                        <th class=\"text-center\">🥈</th>\n",
      "                        <th class=\"text-center\">🥉</th>\n",
      "                        </tr>\n",
      "        <tr><td class=\"text-center\">1</td><td class=\"fw-bold\">Azerbaijan 🇦🇿</td><td class=\"fw-bold text-center\">14</td><td class=\"fw-bold text-center\">9</td><td class=\"fw-bold text-center\">11</td></tr><tr><td class=\"text-center\">2</td><td class=\"fw-bold\">Great Britain 🇬🇧</td><td class=\"fw-bold text-center\">12</td><td class=\"fw-bold text-center\">17</td><td class=\"fw-bold text-center\">6</td></tr><tr><td class=\"text-center\">3</td><td class=\"fw-bold\">France 🇫🇷</td><td class=\"fw-bold text-center\">12</td><td class=\"fw-bold text-center\">5</td><td class=\"fw-bold text-center\">12</td></tr><tr><td class=\"text-center\">4</td><td class=\"fw-bold\">The Soviet Union ☭</td><td class=\"fw-bold text-center\">10</td><td class=\"fw-bold text-center\">12</td><td class=\"fw-bold text-center\">12</td></tr><tr><td class=\"text-center\">5</td><td class=\"fw-bold\">Germany 🇩🇪</td><td class=\"fw-bold text-center\">10</td><td class=\"fw-bold text-center\">9</td><td class=\"fw-bold text-center\">5</td></tr><tr><td class=\"text-center\">6</td><td class=\"fw-bold\">South Korea 🇰🇷</td><td class=\"fw-bold text-center\">8</td><td class=\"fw-bold text-center\">8</td><td class=\"fw-bold text-center\">10</td></tr><tr><td class=\"text-center\">7</td><td class=\"fw-bold\">United States 🇺🇲</td><td class=\"fw-bold text-center\">8</td><td class=\"fw-bold text-center\">5</td><td class=\"fw-bold text-center\">7</td></tr><tr><td class=\"text-center\">8</td><td class=\"fw-bold\">New Zealand 🇳🇿</td><td class=\"fw-bold text-center\">8</td><td class=\"fw-bold text-center\">1</td><td class=\"fw-bold text-center\">5</td></tr><tr><td class=\"text-center\">9</td><td class=\"fw-bold\">Finland 🇫🇮</td><td class=\"fw-bold text-center\">7</td><td class=\"fw-bold text-center\">8</td><td class=\"fw-bold text-center\">9</td></tr><tr><td class=\"text-center\">10</td><td class=\"fw-bold\">Portugal 🇵🇹</td><td class=\"fw-bold text-center\">6</td><td class=\"fw-bold text-center\">6</td><td class=\"fw-bold text-center\">4</td></tr><tr><td class=\"text-center\">11</td><td class=\"fw-bold\">Cuba 🇨🇺</td><td class=\"fw-bold text-center\">5</td><td class=\"fw-bold text-center\">13</td><td class=\"fw-bold text-center\">9</td></tr><tr><td class=\"text-center\">12</td><td class=\"fw-bold\">Egypt 🇪🇬</td><td class=\"fw-bold text-center\">5</td><td class=\"fw-bold text-center\">7</td><td class=\"fw-bold text-center\">8</td></tr><tr><td class=\"text-center\">13</td><td class=\"fw-bold\">Kenya 🇰🇪</td><td class=\"fw-bold text-center\">3</td><td class=\"fw-bold text-center\">8</td><td class=\"fw-bold text-center\">10</td></tr>\n",
      "        </table>\n",
      "                    </div>\n",
      "                </div>\n",
      "        \n",
      "=======================10===================\n",
      "\n",
      "                <div class=\"row\">\n",
      "                    <div class=\"col-md-6\">\n",
      "                        <legend>\n",
      "                            Total Points:\n",
      "                        </legend>\n",
      "                        <table class=\"table table-bordered table-striped\"><tr><th class=\"text-center text-secondary\">#</th><th class=\"text-secondary\">Country</th><th class=\"text-secondary text-center\">Total Points (LIVE)</th></tr>\n",
      "        <tr><td class=\"text-center\">1</td><td class=\"fw-bold text\">Great Britain 🇬🇧</td><td class=\"fw-bold text-center\">5039</td></tr><tr><td class=\"text-center\">2</td><td class=\"fw-bold text\">Azerbaijan 🇦🇿</td><td class=\"fw-bold text-center\">4967</td></tr><tr><td class=\"text-center\">3</td><td class=\"fw-bold text\">Germany 🇩🇪</td><td class=\"fw-bold text-center\">4807</td></tr><tr><td class=\"text-center\">4</td><td class=\"fw-bold text\">The Soviet Union ☭</td><td class=\"fw-bold text-center\">4797</td></tr><tr><td class=\"text-center\">5</td><td class=\"fw-bold text\">South Korea 🇰🇷</td><td class=\"fw-bold text-center\">4770</td></tr><tr><td class=\"text-center\">6</td><td class=\"fw-bold text\">France 🇫🇷</td><td class=\"fw-bold text-center\">4711</td></tr><tr><td class=\"text-center\">7</td><td class=\"fw-bold text\">United States 🇺🇲</td><td class=\"fw-bold text-center\">4671</td></tr><tr><td class=\"text-center\">8</td><td class=\"fw-bold text\">Finland 🇫🇮</td><td class=\"fw-bold text-center\">4605</td></tr><tr><td class=\"text-center\">9</td><td class=\"fw-bold text\">Cuba 🇨🇺</td><td class=\"fw-bold text-center\">4565</td></tr><tr><td class=\"text-center\">10</td><td class=\"fw-bold text\">Portugal 🇵🇹</td><td class=\"fw-bold text-center\">4551</td></tr><tr><td class=\"text-center\">11</td><td class=\"fw-bold text\">Egypt 🇪🇬</td><td class=\"fw-bold text-center\">4379</td></tr><tr><td class=\"text-center\">12</td><td class=\"fw-bold text\">New Zealand 🇳🇿</td><td class=\"fw-bold text-center\">4314</td></tr><tr><td class=\"text-center\">13</td><td class=\"fw-bold text\">Kenya 🇰🇪</td><td class=\"fw-bold text-center\">4225</td></tr>\n",
      "        </table>\n",
      "                    </div>\n",
      "        \n",
      "\n",
      "                    <div class=\"col-md-6\">\n",
      "                        <legend>\n",
      "                            Total Medals:\n",
      "                        </legend>\n",
      "                        <table class=\"table table-bordered table-striped\"><tr><th class=\"text-center text-secondary\">#</th><th class=\"text-secondary\">Country</th>\n",
      "                        <th class=\"text-center\">🥇</th>\n",
      "                        <th class=\"text-center\">🥈</th>\n",
      "                        <th class=\"text-center\">🥉</th>\n",
      "                        </tr>\n",
      "        <tr><td class=\"text-center\">1</td><td class=\"fw-bold\">Azerbaijan 🇦🇿</td><td class=\"fw-bold text-center\">15</td><td class=\"fw-bold text-center\">10</td><td class=\"fw-bold text-center\">12</td></tr><tr><td class=\"text-center\">2</td><td class=\"fw-bold\">Great Britain 🇬🇧</td><td class=\"fw-bold text-center\">12</td><td class=\"fw-bold text-center\">19</td><td class=\"fw-bold text-center\">7</td></tr><tr><td class=\"text-center\">3</td><td class=\"fw-bold\">France 🇫🇷</td><td class=\"fw-bold text-center\">12</td><td class=\"fw-bold text-center\">5</td><td class=\"fw-bold text-center\">14</td></tr><tr><td class=\"text-center\">4</td><td class=\"fw-bold\">The Soviet Union ☭</td><td class=\"fw-bold text-center\">11</td><td class=\"fw-bold text-center\">12</td><td class=\"fw-bold text-center\">13</td></tr><tr><td class=\"text-center\">5</td><td class=\"fw-bold\">Germany 🇩🇪</td><td class=\"fw-bold text-center\">10</td><td class=\"fw-bold text-center\">12</td><td class=\"fw-bold text-center\">7</td></tr><tr><td class=\"text-center\">6</td><td class=\"fw-bold\">South Korea 🇰🇷</td><td class=\"fw-bold text-center\">10</td><td class=\"fw-bold text-center\">8</td><td class=\"fw-bold text-center\">12</td></tr><tr><td class=\"text-center\">7</td><td class=\"fw-bold\">United States 🇺🇲</td><td class=\"fw-bold text-center\">10</td><td class=\"fw-bold text-center\">5</td><td class=\"fw-bold text-center\">8</td></tr><tr><td class=\"text-center\">8</td><td class=\"fw-bold\">Portugal 🇵🇹</td><td class=\"fw-bold text-center\">9</td><td class=\"fw-bold text-center\">8</td><td class=\"fw-bold text-center\">5</td></tr><tr><td class=\"text-center\">9</td><td class=\"fw-bold\">New Zealand 🇳🇿</td><td class=\"fw-bold text-center\">8</td><td class=\"fw-bold text-center\">2</td><td class=\"fw-bold text-center\">5</td></tr><tr><td class=\"text-center\">10</td><td class=\"fw-bold\">Finland 🇫🇮</td><td class=\"fw-bold text-center\">7</td><td class=\"fw-bold text-center\">8</td><td class=\"fw-bold text-center\">9</td></tr><tr><td class=\"text-center\">11</td><td class=\"fw-bold\">Cuba 🇨🇺</td><td class=\"fw-bold text-center\">6</td><td class=\"fw-bold text-center\">15</td><td class=\"fw-bold text-center\">9</td></tr><tr><td class=\"text-center\">12</td><td class=\"fw-bold\">Egypt 🇪🇬</td><td class=\"fw-bold text-center\">6</td><td class=\"fw-bold text-center\">8</td><td class=\"fw-bold text-center\">8</td></tr><tr><td class=\"text-center\">13</td><td class=\"fw-bold\">Kenya 🇰🇪</td><td class=\"fw-bold text-center\">4</td><td class=\"fw-bold text-center\">8</td><td class=\"fw-bold text-center\">11</td></tr>\n",
      "        </table>\n",
      "                    </div>\n",
      "                </div>\n",
      "        \n"
     ]
    },
    {
     "name": "stdout",
     "output_type": "stream",
     "text": [
      "=======================11===================\n",
      "\n",
      "                <div class=\"row\">\n",
      "                    <div class=\"col-md-6\">\n",
      "                        <legend>\n",
      "                            Total Points:\n",
      "                        </legend>\n",
      "                        <table class=\"table table-bordered table-striped\"><tr><th class=\"text-center text-secondary\">#</th><th class=\"text-secondary\">Country</th><th class=\"text-secondary text-center\">Total Points (LIVE)</th></tr>\n",
      "        <tr><td class=\"text-center\">1</td><td class=\"fw-bold text\">Great Britain 🇬🇧</td><td class=\"fw-bold text-center\">5480</td></tr><tr><td class=\"text-center\">2</td><td class=\"fw-bold text\">Azerbaijan 🇦🇿</td><td class=\"fw-bold text-center\">5432</td></tr><tr><td class=\"text-center\">3</td><td class=\"fw-bold text\">The Soviet Union ☭</td><td class=\"fw-bold text-center\">5221</td></tr><tr><td class=\"text-center\">4</td><td class=\"fw-bold text\">South Korea 🇰🇷</td><td class=\"fw-bold text-center\">5207</td></tr><tr><td class=\"text-center\">5</td><td class=\"fw-bold text\">Germany 🇩🇪</td><td class=\"fw-bold text-center\">5201</td></tr><tr><td class=\"text-center\">6</td><td class=\"fw-bold text\">France 🇫🇷</td><td class=\"fw-bold text-center\">5108</td></tr><tr><td class=\"text-center\">7</td><td class=\"fw-bold text\">United States 🇺🇲</td><td class=\"fw-bold text-center\">5077</td></tr><tr><td class=\"text-center\">8</td><td class=\"fw-bold text\">Finland 🇫🇮</td><td class=\"fw-bold text-center\">5004</td></tr><tr><td class=\"text-center\">9</td><td class=\"fw-bold text\">Cuba 🇨🇺</td><td class=\"fw-bold text-center\">4981</td></tr><tr><td class=\"text-center\">10</td><td class=\"fw-bold text\">Portugal 🇵🇹</td><td class=\"fw-bold text-center\">4977</td></tr><tr><td class=\"text-center\">11</td><td class=\"fw-bold text\">Egypt 🇪🇬</td><td class=\"fw-bold text-center\">4801</td></tr><tr><td class=\"text-center\">12</td><td class=\"fw-bold text\">New Zealand 🇳🇿</td><td class=\"fw-bold text-center\">4767</td></tr><tr><td class=\"text-center\">13</td><td class=\"fw-bold text\">Kenya 🇰🇪</td><td class=\"fw-bold text-center\">4602</td></tr>\n",
      "        </table>\n",
      "                    </div>\n",
      "        \n",
      "\n",
      "                    <div class=\"col-md-6\">\n",
      "                        <legend>\n",
      "                            Total Medals:\n",
      "                        </legend>\n",
      "                        <table class=\"table table-bordered table-striped\"><tr><th class=\"text-center text-secondary\">#</th><th class=\"text-secondary\">Country</th>\n",
      "                        <th class=\"text-center\">🥇</th>\n",
      "                        <th class=\"text-center\">🥈</th>\n",
      "                        <th class=\"text-center\">🥉</th>\n",
      "                        </tr>\n",
      "        <tr><td class=\"text-center\">1</td><td class=\"fw-bold\">Azerbaijan 🇦🇿</td><td class=\"fw-bold text-center\">17</td><td class=\"fw-bold text-center\">10</td><td class=\"fw-bold text-center\">12</td></tr><tr><td class=\"text-center\">2</td><td class=\"fw-bold\">Great Britain 🇬🇧</td><td class=\"fw-bold text-center\">15</td><td class=\"fw-bold text-center\">20</td><td class=\"fw-bold text-center\">7</td></tr><tr><td class=\"text-center\">3</td><td class=\"fw-bold\">The Soviet Union ☭</td><td class=\"fw-bold text-center\">12</td><td class=\"fw-bold text-center\">13</td><td class=\"fw-bold text-center\">15</td></tr><tr><td class=\"text-center\">4</td><td class=\"fw-bold\">France 🇫🇷</td><td class=\"fw-bold text-center\">12</td><td class=\"fw-bold text-center\">5</td><td class=\"fw-bold text-center\">16</td></tr><tr><td class=\"text-center\">5</td><td class=\"fw-bold\">Germany 🇩🇪</td><td class=\"fw-bold text-center\">11</td><td class=\"fw-bold text-center\">14</td><td class=\"fw-bold text-center\">7</td></tr><tr><td class=\"text-center\">6</td><td class=\"fw-bold\">South Korea 🇰🇷</td><td class=\"fw-bold text-center\">11</td><td class=\"fw-bold text-center\">8</td><td class=\"fw-bold text-center\">14</td></tr><tr><td class=\"text-center\">7</td><td class=\"fw-bold\">Portugal 🇵🇹</td><td class=\"fw-bold text-center\">10</td><td class=\"fw-bold text-center\">8</td><td class=\"fw-bold text-center\">6</td></tr><tr><td class=\"text-center\">8</td><td class=\"fw-bold\">United States 🇺🇲</td><td class=\"fw-bold text-center\">10</td><td class=\"fw-bold text-center\">5</td><td class=\"fw-bold text-center\">10</td></tr><tr><td class=\"text-center\">9</td><td class=\"fw-bold\">New Zealand 🇳🇿</td><td class=\"fw-bold text-center\">9</td><td class=\"fw-bold text-center\">4</td><td class=\"fw-bold text-center\">6</td></tr><tr><td class=\"text-center\">10</td><td class=\"fw-bold\">Cuba 🇨🇺</td><td class=\"fw-bold text-center\">7</td><td class=\"fw-bold text-center\">16</td><td class=\"fw-bold text-center\">9</td></tr><tr><td class=\"text-center\">11</td><td class=\"fw-bold\">Egypt 🇪🇬</td><td class=\"fw-bold text-center\">7</td><td class=\"fw-bold text-center\">10</td><td class=\"fw-bold text-center\">8</td></tr><tr><td class=\"text-center\">12</td><td class=\"fw-bold\">Finland 🇫🇮</td><td class=\"fw-bold text-center\">7</td><td class=\"fw-bold text-center\">9</td><td class=\"fw-bold text-center\">11</td></tr><tr><td class=\"text-center\">13</td><td class=\"fw-bold\">Kenya 🇰🇪</td><td class=\"fw-bold text-center\">4</td><td class=\"fw-bold text-center\">10</td><td class=\"fw-bold text-center\">11</td></tr>\n",
      "        </table>\n",
      "                    </div>\n",
      "                </div>\n",
      "        \n",
      "=======================12===================\n",
      "\n",
      "                <div class=\"row\">\n",
      "                    <div class=\"col-md-6\">\n",
      "                        <legend>\n",
      "                            Total Points:\n",
      "                        </legend>\n",
      "                        <table class=\"table table-bordered table-striped\"><tr><th class=\"text-center text-secondary\">#</th><th class=\"text-secondary\">Country</th><th class=\"text-secondary text-center\">Total Points (LIVE)</th></tr>\n",
      "        <tr><td class=\"text-center\">1</td><td class=\"fw-bold text\">Great Britain 🇬🇧</td><td class=\"fw-bold text-center\">6018</td></tr><tr><td class=\"text-center\">2</td><td class=\"fw-bold text\">Azerbaijan 🇦🇿</td><td class=\"fw-bold text-center\">5879</td></tr><tr><td class=\"text-center\">3</td><td class=\"fw-bold text\">The Soviet Union ☭</td><td class=\"fw-bold text-center\">5698</td></tr><tr><td class=\"text-center\">4</td><td class=\"fw-bold text\">South Korea 🇰🇷</td><td class=\"fw-bold text-center\">5680</td></tr><tr><td class=\"text-center\">5</td><td class=\"fw-bold text\">Germany 🇩🇪</td><td class=\"fw-bold text-center\">5666</td></tr><tr><td class=\"text-center\">6</td><td class=\"fw-bold text\">France 🇫🇷</td><td class=\"fw-bold text-center\">5538</td></tr><tr><td class=\"text-center\">7</td><td class=\"fw-bold text\">United States 🇺🇲</td><td class=\"fw-bold text-center\">5496</td></tr><tr><td class=\"text-center\">8</td><td class=\"fw-bold text\">Cuba 🇨🇺</td><td class=\"fw-bold text-center\">5473</td></tr><tr><td class=\"text-center\">9</td><td class=\"fw-bold text\">Portugal 🇵🇹</td><td class=\"fw-bold text-center\">5385</td></tr><tr><td class=\"text-center\">10</td><td class=\"fw-bold text\">Finland 🇫🇮</td><td class=\"fw-bold text-center\">5325</td></tr><tr><td class=\"text-center\">11</td><td class=\"fw-bold text\">New Zealand 🇳🇿</td><td class=\"fw-bold text-center\">5307</td></tr><tr><td class=\"text-center\">12</td><td class=\"fw-bold text\">Egypt 🇪🇬</td><td class=\"fw-bold text-center\">5274</td></tr><tr><td class=\"text-center\">13</td><td class=\"fw-bold text\">Kenya 🇰🇪</td><td class=\"fw-bold text-center\">4991</td></tr>\n",
      "        </table>\n",
      "                    </div>\n",
      "        \n",
      "\n",
      "                    <div class=\"col-md-6\">\n",
      "                        <legend>\n",
      "                            Total Medals:\n",
      "                        </legend>\n",
      "                        <table class=\"table table-bordered table-striped\"><tr><th class=\"text-center text-secondary\">#</th><th class=\"text-secondary\">Country</th>\n",
      "                        <th class=\"text-center\">🥇</th>\n",
      "                        <th class=\"text-center\">🥈</th>\n",
      "                        <th class=\"text-center\">🥉</th>\n",
      "                        </tr>\n",
      "        <tr><td class=\"text-center\">1</td><td class=\"fw-bold\">Azerbaijan 🇦🇿</td><td class=\"fw-bold text-center\">17</td><td class=\"fw-bold text-center\">11</td><td class=\"fw-bold text-center\">13</td></tr><tr><td class=\"text-center\">2</td><td class=\"fw-bold\">Great Britain 🇬🇧</td><td class=\"fw-bold text-center\">16</td><td class=\"fw-bold text-center\">23</td><td class=\"fw-bold text-center\">9</td></tr><tr><td class=\"text-center\">3</td><td class=\"fw-bold\">The Soviet Union ☭</td><td class=\"fw-bold text-center\">13</td><td class=\"fw-bold text-center\">16</td><td class=\"fw-bold text-center\">17</td></tr><tr><td class=\"text-center\">4</td><td class=\"fw-bold\">Germany 🇩🇪</td><td class=\"fw-bold text-center\">13</td><td class=\"fw-bold text-center\">14</td><td class=\"fw-bold text-center\">8</td></tr><tr><td class=\"text-center\">5</td><td class=\"fw-bold\">New Zealand 🇳🇿</td><td class=\"fw-bold text-center\">13</td><td class=\"fw-bold text-center\">4</td><td class=\"fw-bold text-center\">6</td></tr><tr><td class=\"text-center\">6</td><td class=\"fw-bold\">France 🇫🇷</td><td class=\"fw-bold text-center\">12</td><td class=\"fw-bold text-center\">5</td><td class=\"fw-bold text-center\">18</td></tr><tr><td class=\"text-center\">7</td><td class=\"fw-bold\">South Korea 🇰🇷</td><td class=\"fw-bold text-center\">11</td><td class=\"fw-bold text-center\">9</td><td class=\"fw-bold text-center\">16</td></tr><tr><td class=\"text-center\">8</td><td class=\"fw-bold\">Portugal 🇵🇹</td><td class=\"fw-bold text-center\">11</td><td class=\"fw-bold text-center\">8</td><td class=\"fw-bold text-center\">6</td></tr><tr><td class=\"text-center\">9</td><td class=\"fw-bold\">United States 🇺🇲</td><td class=\"fw-bold text-center\">10</td><td class=\"fw-bold text-center\">6</td><td class=\"fw-bold text-center\">11</td></tr><tr><td class=\"text-center\">10</td><td class=\"fw-bold\">Cuba 🇨🇺</td><td class=\"fw-bold text-center\">8</td><td class=\"fw-bold text-center\">17</td><td class=\"fw-bold text-center\">9</td></tr><tr><td class=\"text-center\">11</td><td class=\"fw-bold\">Egypt 🇪🇬</td><td class=\"fw-bold text-center\">8</td><td class=\"fw-bold text-center\">11</td><td class=\"fw-bold text-center\">9</td></tr><tr><td class=\"text-center\">12</td><td class=\"fw-bold\">Finland 🇫🇮</td><td class=\"fw-bold text-center\">7</td><td class=\"fw-bold text-center\">9</td><td class=\"fw-bold text-center\">11</td></tr><tr><td class=\"text-center\">13</td><td class=\"fw-bold\">Kenya 🇰🇪</td><td class=\"fw-bold text-center\">5</td><td class=\"fw-bold text-center\">11</td><td class=\"fw-bold text-center\">11</td></tr>\n",
      "        </table>\n",
      "                    </div>\n",
      "                </div>\n",
      "        \n"
     ]
    }
   ],
   "source": [
    "tables_creator_for_gw(12)"
   ]
  },
  {
   "cell_type": "code",
   "execution_count": null,
   "id": "normal-carolina",
   "metadata": {},
   "outputs": [],
   "source": []
  }
 ],
 "metadata": {
  "kernelspec": {
   "display_name": "Python 3",
   "language": "python",
   "name": "python3"
  },
  "language_info": {
   "codemirror_mode": {
    "name": "ipython",
    "version": 3
   },
   "file_extension": ".py",
   "mimetype": "text/x-python",
   "name": "python",
   "nbconvert_exporter": "python",
   "pygments_lexer": "ipython3",
   "version": "3.8.10"
  },
  "vscode": {
   "interpreter": {
    "hash": "31f2aee4e71d21fbe5cf8b01ff0e069b9275f58929596ceb00d14d90e3e16cd6"
   }
  }
 },
 "nbformat": 4,
 "nbformat_minor": 5
}
