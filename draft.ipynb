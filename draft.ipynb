{
 "cells": [
  {
   "cell_type": "markdown",
   "id": "happy-lancaster",
   "metadata": {},
   "source": [
    "## TODO: \n",
    "#### add the name of the leagues to the main dic and show in the tables in gw"
   ]
  },
  {
   "cell_type": "code",
   "execution_count": null,
   "id": "informed-entertainment",
   "metadata": {},
   "outputs": [],
   "source": [
    "league_managers_finder(league_ids)"
   ]
  },
  {
   "cell_type": "code",
   "execution_count": null,
   "id": "statewide-eugene",
   "metadata": {
    "scrolled": true
   },
   "outputs": [],
   "source": [
    "from all_vars import all_managers_dic, element_type_mapper, German_leagues_ids, league_city_plus_managers\n",
    "from utils import *\n",
    "import time"
   ]
  },
  {
   "cell_type": "code",
   "execution_count": null,
   "id": "satisfactory-elements",
   "metadata": {},
   "outputs": [],
   "source": [
    "# get the start time\n",
    "st = time.time()\n",
    "gw_9_all = live_HTML_All(league_city_plus_managers, 9)\n",
    "# get the end time\n",
    "et = time.time()\n",
    "# get the execution time\n",
    "elapsed_time = et - st\n",
    "print('Execution time:', elapsed_time, 'seconds')"
   ]
  },
  {
   "cell_type": "code",
   "execution_count": null,
   "id": "organized-purse",
   "metadata": {},
   "outputs": [],
   "source": []
  },
  {
   "cell_type": "code",
   "execution_count": null,
   "id": "adaptive-diary",
   "metadata": {},
   "outputs": [],
   "source": []
  },
  {
   "cell_type": "code",
   "execution_count": null,
   "id": "personal-security",
   "metadata": {},
   "outputs": [],
   "source": [
    "gw_9 = live_report_maker_HTML(all_managers_dic, 9)"
   ]
  },
  {
   "cell_type": "code",
   "execution_count": null,
   "id": "graphic-effects",
   "metadata": {},
   "outputs": [],
   "source": [
    "print(gw_9)"
   ]
  },
  {
   "cell_type": "code",
   "execution_count": null,
   "id": "provincial-usage",
   "metadata": {},
   "outputs": [],
   "source": [
    "xyx = league_managers_finder_slim(German_leagues_ids_dic)"
   ]
  },
  {
   "cell_type": "code",
   "execution_count": null,
   "id": "obvious-clause",
   "metadata": {},
   "outputs": [],
   "source": [
    "xyx"
   ]
  },
  {
   "cell_type": "code",
   "execution_count": null,
   "id": "innocent-seventh",
   "metadata": {},
   "outputs": [],
   "source": []
  },
  {
   "cell_type": "code",
   "execution_count": null,
   "id": "interracial-commitment",
   "metadata": {},
   "outputs": [],
   "source": [
    "fi_dic = {}\n",
    "fi_dic[\"ali\"] = (1, 4, 7)\n",
    "fi_dic[\"naghi\"] = (2, 5, 11)\n",
    "fi_dic[\"alli\"] = (1, 6, 7)\n",
    "fi_dic[\"llli\"] = (1, 5, 7)\n",
    "fi_dic[\"llhhhli\"] = (1, 4, 6)\n",
    "fi_dic[\"llhhoohli\"] = (1, 4, 10)\n",
    "fi_dic[\"llhhooiiihli\"] = (1, 4, 180)\n",
    "\n",
    "\n",
    "\n",
    "sort_managers = sorted(fi_dic.items(), key=lambda x: (x[1][0], x[1][2], x[1][4]), reverse=True)"
   ]
  },
  {
   "cell_type": "code",
   "execution_count": null,
   "id": "liable-pennsylvania",
   "metadata": {},
   "outputs": [],
   "source": [
    "sort_managers"
   ]
  },
  {
   "cell_type": "code",
   "execution_count": null,
   "id": "continent-ready",
   "metadata": {},
   "outputs": [],
   "source": []
  },
  {
   "cell_type": "code",
   "execution_count": null,
   "id": "juvenile-event",
   "metadata": {
    "scrolled": true
   },
   "outputs": [],
   "source": [
    "from all_vars import all_managers_dic, element_type_mapper, German_leagues_ids\n",
    "from utils import *\n",
    "import time"
   ]
  },
  {
   "cell_type": "code",
   "execution_count": null,
   "id": "systematic-fashion",
   "metadata": {},
   "outputs": [],
   "source": [
    "league_code_finder()"
   ]
  },
  {
   "cell_type": "code",
   "execution_count": null,
   "id": "atmospheric-teacher",
   "metadata": {},
   "outputs": [],
   "source": [
    "league_info_collector(German_leagues_ids)"
   ]
  },
  {
   "cell_type": "code",
   "execution_count": null,
   "id": "transparent-multiple",
   "metadata": {
    "scrolled": true
   },
   "outputs": [],
   "source": [
    "my_leagues_data_tables, my_medals = live_reports_all(German_leagues_ids, [5,6,8,9])"
   ]
  },
  {
   "cell_type": "code",
   "execution_count": 24,
   "id": "young-society",
   "metadata": {},
   "outputs": [
    {
     "name": "stdout",
     "output_type": "stream",
     "text": [
      "56490 {'first_name': 'Mahyar', 'last_name': 'Talari'}\n",
      "56760 {'first_name': 'Mahyar', 'last_name': 'Talari'}\n",
      "57026 {'first_name': 'Mahyar', 'last_name': 'Talari'}\n",
      "58512 {'first_name': 'Mahyar', 'last_name': 'Talari'}\n",
      "58924 {'first_name': 'Mahyar', 'last_name': 'Talari'}\n",
      "59081 {'first_name': 'Mahyar', 'last_name': 'Talari'}\n",
      "59219 {'first_name': 'Mahyar', 'last_name': 'Talari'}\n",
      "60061 {'first_name': 'Mahyar', 'last_name': 'Talari'}\n",
      "60068 {'first_name': 'Mahyar', 'last_name': 'Talari'}\n",
      "60279 {'first_name': 'Nima', 'last_name': 'Hajimusaei'}\n",
      "60283 {'first_name': 'Nima', 'last_name': 'Hajimusaei'}\n"
     ]
    }
   ],
   "source": [
    "from all_vars import managers_league_dic_2\n",
    "\n",
    "# make_a dictionary that maps names to league_ids and countries\n",
    "# {\n",
    "#   (\"Germany 🇩🇪\", 54657) : \"Milad Benam\",\n",
    "#}\n",
    "mapper_dic = {}\n",
    "for lid, nums in managers_league_dic_2.items():\n",
    "    for num, real_dic in nums.items():\n",
    "        if real_dic.get('country', None):\n",
    "            proper_key = (real_dic.get('country', None), lid)\n",
    "            mapper_dic[proper_key] = [real_dic[\"first_name\"] + \" \" + real_dic[\"last_name\"], [0,0,0,0,0]]\n",
    "            #print(real_dic[\"last_name\"], real_dic[\"first_name\"])\n",
    "        else:\n",
    "            print(lid, real_dic)\n"
   ]
  },
  {
   "cell_type": "code",
   "execution_count": 25,
   "id": "traditional-italy",
   "metadata": {},
   "outputs": [
    {
     "data": {
      "text/plain": [
       "{('China 🇨🇳', 56490): ['Peyman Jafari', [0, 0, 0, 0, 0]],\n",
       " ('France 🇫🇷', 56490): ['Mehrab Jafari', [0, 0, 0, 0, 0]],\n",
       " ('New Zealand 🇳🇿', 56490): ['Ali Bazzi', [0, 0, 0, 0, 0]],\n",
       " ('Great Britain 🇬🇧', 56490): ['M. saleh Gharaei', [0, 0, 0, 0, 0]],\n",
       " ('Japan 🇯🇵', 56490): ['Hassan Paåÿa', [0, 0, 0, 0, 0]],\n",
       " ('Canada 🇨🇦', 56490): ['Ali Lalehpour', [0, 0, 0, 0, 0]],\n",
       " ('Netherlands 🇳🇱', 56490): ['Parham Khadivi', [0, 0, 0, 0, 0]],\n",
       " ('South Korea 🇰🇷', 56490): ['Hossein Veisi', [0, 0, 0, 0, 0]],\n",
       " ('Australia 🇦🇺', 56490): ['Hossein Naeiimii', [0, 0, 0, 0, 0]],\n",
       " ('Italy 🇮🇹', 56490): ['Mehrzad Nadi', [0, 0, 0, 0, 0]],\n",
       " ('Germany 🇩🇪', 56490): ['Arash Askari', [0, 0, 0, 0, 0]],\n",
       " ('Hungary 🇭🇺', 56490): ['Javid Zaman', [0, 0, 0, 0, 0]],\n",
       " ('The Soviet Union ☭', 56490): ['Arman Solkabon', [0, 0, 0, 0, 0]],\n",
       " ('Argentina 🇦🇷', 56490): ['Mahdi Mohammad zade', [0, 0, 0, 0, 0]],\n",
       " ('United States 🇺🇲', 56490): ['Amir Zamani', [0, 0, 0, 0, 0]],\n",
       " ('South Korea 🇰🇷', 56760): ['Ali Eslamy', [0, 0, 0, 0, 0]],\n",
       " ('Hungary 🇭🇺', 56760): ['Sina Mojallal', [0, 0, 0, 0, 0]],\n",
       " ('Germany 🇩🇪', 56760): ['Khodadad Soltani', [0, 0, 0, 0, 0]],\n",
       " ('Great Britain 🇬🇧', 56760): ['Ali Omoomi', [0, 0, 0, 0, 0]],\n",
       " ('New Zealand 🇳🇿', 56760): ['Mehdi Pk', [0, 0, 0, 0, 0]],\n",
       " ('Canada 🇨🇦', 56760): ['Pouyan Mp', [0, 0, 0, 0, 0]],\n",
       " ('The Soviet Union ☭', 56760): ['M.reza Bakhtafarid', [0, 0, 0, 0, 0]],\n",
       " ('Australia 🇦🇺', 56760): ['Foad Hesamarefi', [0, 0, 0, 0, 0]],\n",
       " ('Japan 🇯🇵', 56760): ['Reza Moradi', [0, 0, 0, 0, 0]],\n",
       " ('China 🇨🇳', 56760): ['Mmd Zangeneh', [0, 0, 0, 0, 0]],\n",
       " ('United States 🇺🇲', 56760): ['Vahid Yousefi', [0, 0, 0, 0, 0]],\n",
       " ('France 🇫🇷', 56760): ['Javad Tajabad', [0, 0, 0, 0, 0]],\n",
       " ('Netherlands 🇳🇱', 56760): ['Alireza Aghajani', [0, 0, 0, 0, 0]],\n",
       " ('Italy 🇮🇹', 56760): ['Soltan Jir', [0, 0, 0, 0, 0]],\n",
       " ('Argentina 🇦🇷', 56760): ['Amir Hossein', [0, 0, 0, 0, 0]],\n",
       " ('Argentina 🇦🇷', 57026): ['Mohammadhosein Mokhtari', [0, 0, 0, 0, 0]],\n",
       " ('Canada 🇨🇦', 57026): ['Mohammadhasan Refahati', [0, 0, 0, 0, 0]],\n",
       " ('Great Britain 🇬🇧', 57026): ['Erfan Jebeli', [0, 0, 0, 0, 0]],\n",
       " ('United States 🇺🇲', 57026): ['Mehdi Afshar', [0, 0, 0, 0, 0]],\n",
       " ('Italy 🇮🇹', 57026): ['Mohsen Zamani', [0, 0, 0, 0, 0]],\n",
       " ('Hungary 🇭🇺', 57026): ['Omid Ghorbani', [0, 0, 0, 0, 0]],\n",
       " ('Netherlands 🇳🇱', 57026): ['Arsene Wenger', [0, 0, 0, 0, 0]],\n",
       " ('Australia 🇦🇺', 57026): ['Abbas Zolfigol', [0, 0, 0, 0, 0]],\n",
       " ('Japan 🇯🇵', 57026): ['_me8__ Gunner', [0, 0, 0, 0, 0]],\n",
       " ('New Zealand 🇳🇿', 57026): ['Luka Donä‡iä‡', [0, 0, 0, 0, 0]],\n",
       " ('Germany 🇩🇪', 57026): ['Ehsan Sahizadeh', [0, 0, 0, 0, 0]],\n",
       " ('France 🇫🇷', 57026): ['Behnam Moradi', [0, 0, 0, 0, 0]],\n",
       " ('South Korea 🇰🇷', 57026): ['Nima Dashti', [0, 0, 0, 0, 0]],\n",
       " ('The Soviet Union ☭', 57026): ['Awmir Rashidabadi', [0, 0, 0, 0, 0]],\n",
       " ('China 🇨🇳', 57026): ['Matin Ganjali', [0, 0, 0, 0, 0]],\n",
       " ('Great Britain 🇬🇧', 58512): ['Amirfarhang Behzad', [0, 0, 0, 0, 0]],\n",
       " ('Germany 🇩🇪', 58512): ['Kaveh Ebrahimi', [0, 0, 0, 0, 0]],\n",
       " ('United States 🇺🇲', 58512): ['Mahdi Jafari', [0, 0, 0, 0, 0]],\n",
       " ('The Soviet Union ☭', 58512): ['Won Tdm', [0, 0, 0, 0, 0]],\n",
       " ('China 🇨🇳', 58512): ['Sina Honarpisheh', [0, 0, 0, 0, 0]],\n",
       " ('Netherlands 🇳🇱', 58512): ['Amirhosein Zeininasab', [0, 0, 0, 0, 0]],\n",
       " ('France 🇫🇷', 58512): ['Amir Mahdi', [0, 0, 0, 0, 0]],\n",
       " ('Canada 🇨🇦', 58512): ['Hamidreza Aghajani', [0, 0, 0, 0, 0]],\n",
       " ('Hungary 🇭🇺', 58512): ['Mohammad saleh Samizadeh', [0, 0, 0, 0, 0]],\n",
       " ('Japan 🇯🇵', 58512): ['Sajad Afroozi', [0, 0, 0, 0, 0]],\n",
       " ('Italy 🇮🇹', 58512): ['Hossein Rm', [0, 0, 0, 0, 0]],\n",
       " ('New Zealand 🇳🇿', 58512): ['Sina Safarzaee', [0, 0, 0, 0, 0]],\n",
       " ('Australia 🇦🇺', 58512): ['Hamid Ghorbani', [0, 0, 0, 0, 0]],\n",
       " ('Argentina 🇦🇷', 58512): ['Reza Bagheri', [0, 0, 0, 0, 0]],\n",
       " ('South Korea 🇰🇷', 58512): ['Poorya Ebrahimi', [0, 0, 0, 0, 0]],\n",
       " ('South Korea 🇰🇷', 58924): ['Ali Mirshekaran', [0, 0, 0, 0, 0]],\n",
       " ('Germany 🇩🇪', 58924): ['Milad Benam', [0, 0, 0, 0, 0]],\n",
       " ('The Soviet Union ☭', 58924): ['Nikan Rahmani', [0, 0, 0, 0, 0]],\n",
       " ('Italy 🇮🇹', 58924): ['Ali Mohammadi', [0, 0, 0, 0, 0]],\n",
       " ('China 🇨🇳', 58924): ['Artin Gh', [0, 0, 0, 0, 0]],\n",
       " ('Australia 🇦🇺', 58924): ['Omid Mousavi', [0, 0, 0, 0, 0]],\n",
       " ('Japan 🇯🇵', 58924): ['Alireza Tavakkoli', [0, 0, 0, 0, 0]],\n",
       " ('Netherlands 🇳🇱', 58924): ['Pooyan Khabooshani', [0, 0, 0, 0, 0]],\n",
       " ('Argentina 🇦🇷', 58924): ['Hossein Lessani', [0, 0, 0, 0, 0]],\n",
       " ('New Zealand 🇳🇿', 58924): ['El Profesor', [0, 0, 0, 0, 0]],\n",
       " ('United States 🇺🇲', 58924): ['Mohammad Mahdi', [0, 0, 0, 0, 0]],\n",
       " ('France 🇫🇷', 58924): ['Soroush Shojaei', [0, 0, 0, 0, 0]],\n",
       " ('Great Britain 🇬🇧', 58924): ['Amirhossein Zolfaghari', [0, 0, 0, 0, 0]],\n",
       " ('Canada 🇨🇦', 58924): ['Babak Khorasani', [0, 0, 0, 0, 0]],\n",
       " ('Hungary 🇭🇺', 58924): ['Alireza Noori', [0, 0, 0, 0, 0]],\n",
       " ('New Zealand 🇳🇿', 59081): ['Mehdi Kalookhi', [0, 0, 0, 0, 0]],\n",
       " ('South Korea 🇰🇷', 59081): ['Porya Andalibi', [0, 0, 0, 0, 0]],\n",
       " ('China 🇨🇳', 59081): ['Imey Miley', [0, 0, 0, 0, 0]],\n",
       " ('Great Britain 🇬🇧', 59081): ['Seyyed mohammadhossein Ghasemi',\n",
       "  [0, 0, 0, 0, 0]],\n",
       " ('Germany 🇩🇪', 59081): ['Majid Benam', [0, 0, 0, 0, 0]],\n",
       " ('Japan 🇯🇵', 59081): ['Seyed mohammad Moosavi', [0, 0, 0, 0, 0]],\n",
       " ('Netherlands 🇳🇱', 59081): ['Yosef Khoshnood', [0, 0, 0, 0, 0]],\n",
       " ('United States 🇺🇲', 59081): ['Parsa Ghafouri', [0, 0, 0, 0, 0]],\n",
       " ('Italy 🇮🇹', 59081): ['Erfan Paksirat', [0, 0, 0, 0, 0]],\n",
       " ('Australia 🇦🇺', 59081): ['Alimohammad Babaghorbani', [0, 0, 0, 0, 0]],\n",
       " ('The Soviet Union ☭', 59081): ['Hadi Mohammady', [0, 0, 0, 0, 0]],\n",
       " ('Argentina 🇦🇷', 59081): ['Muhammad Esteghamat', [0, 0, 0, 0, 0]],\n",
       " ('France 🇫🇷', 59081): ['Saeed Adelzade', [0, 0, 0, 0, 0]],\n",
       " ('Canada 🇨🇦', 59081): ['Nima Hajimusaei', [0, 0, 0, 0, 0]],\n",
       " ('Hungary 🇭🇺', 59081): ['Ali Taheri', [0, 0, 0, 0, 0]],\n",
       " ('The Soviet Union ☭', 59176): ['Mirsalari 27', [0, 0, 0, 0, 0]],\n",
       " ('Italy 🇮🇹', 59176): ['Mahyar Rostami', [0, 0, 0, 0, 0]],\n",
       " ('South Korea 🇰🇷', 59176): ['Surena Km', [0, 0, 0, 0, 0]],\n",
       " ('Great Britain 🇬🇧', 59176): ['Omidreza Heydari', [0, 0, 0, 0, 0]],\n",
       " ('Canada 🇨🇦', 59176): ['Mahyar Talari', [0, 0, 0, 0, 0]],\n",
       " ('France 🇫🇷', 59176): ['Amir Tricko', [0, 0, 0, 0, 0]],\n",
       " ('Germany 🇩🇪', 59176): ['Navid Foroughi', [0, 0, 0, 0, 0]],\n",
       " ('Japan 🇯🇵', 59176): ['Ali Hafizi', [0, 0, 0, 0, 0]],\n",
       " ('United States 🇺🇲', 59176): ['Abolfazl Keshavarz', [0, 0, 0, 0, 0]],\n",
       " ('New Zealand 🇳🇿', 59176): ['Abbas Kalekhar', [0, 0, 0, 0, 0]],\n",
       " ('China 🇨🇳', 59176): ['Abolfazl Rezapoor', [0, 0, 0, 0, 0]],\n",
       " ('Netherlands 🇳🇱', 59176): ['Hasan Karimi', [0, 0, 0, 0, 0]],\n",
       " ('Argentina 🇦🇷', 59176): ['Amir Fathali', [0, 0, 0, 0, 0]],\n",
       " ('Hungary 🇭🇺', 59176): ['Ali mohamad Rahmani shamsi', [0, 0, 0, 0, 0]],\n",
       " ('Australia 🇦🇺', 59176): ['Parham Esmaelifard', [0, 0, 0, 0, 0]],\n",
       " ('France 🇫🇷', 59219): ['Tooraj Karami', [0, 0, 0, 0, 0]],\n",
       " ('Australia 🇦🇺', 59219): ['Amirmahdi Asadi', [0, 0, 0, 0, 0]],\n",
       " ('United States 🇺🇲', 59219): ['Pouria Tahmasbi', [0, 0, 0, 0, 0]],\n",
       " ('Hungary 🇭🇺', 59219): ['Mehrab King', [0, 0, 0, 0, 0]],\n",
       " ('Italy 🇮🇹', 59219): ['Farshad Yazdani', [0, 0, 0, 0, 0]],\n",
       " ('New Zealand 🇳🇿', 59219): ['Parsa Noroozi', [0, 0, 0, 0, 0]],\n",
       " ('Netherlands 🇳🇱', 59219): ['Alireza Ramezani', [0, 0, 0, 0, 0]],\n",
       " ('Canada 🇨🇦', 59219): ['Navid Mig', [0, 0, 0, 0, 0]],\n",
       " ('Great Britain 🇬🇧', 59219): ['Parsa Maleknejad', [0, 0, 0, 0, 0]],\n",
       " ('South Korea 🇰🇷', 59219): ['A B', [0, 0, 0, 0, 0]],\n",
       " ('The Soviet Union ☭', 59219): ['Mh Sajadifar', [0, 0, 0, 0, 0]],\n",
       " ('China 🇨🇳', 59219): ['Behnam Astaraki', [0, 0, 0, 0, 0]],\n",
       " ('Germany 🇩🇪', 59219): ['Sina Mirzaeei', [0, 0, 0, 0, 0]],\n",
       " ('Japan 🇯🇵', 59219): ['Tractor Barcelona', [0, 0, 0, 0, 0]],\n",
       " ('Argentina 🇦🇷', 59219): ['Mohammad sadegh Mohammadpour', [0, 0, 0, 0, 0]],\n",
       " ('New Zealand 🇳🇿', 60061): ['Ali Khosravi', [0, 0, 0, 0, 0]],\n",
       " ('United States 🇺🇲', 60061): ['Emad Alikhani', [0, 0, 0, 0, 0]],\n",
       " ('France 🇫🇷', 60061): ['Ali Rezaee', [0, 0, 0, 0, 0]],\n",
       " ('China 🇨🇳', 60061): ['Akbar Sarabi', [0, 0, 0, 0, 0]],\n",
       " ('Canada 🇨🇦', 60061): ['Mohammadhossein Masoumi', [0, 0, 0, 0, 0]],\n",
       " ('South Korea 🇰🇷', 60061): ['Sina Zeinali', [0, 0, 0, 0, 0]],\n",
       " ('Australia 🇦🇺', 60061): ['Hamed Dinarvand', [0, 0, 0, 0, 0]],\n",
       " ('Japan 🇯🇵', 60061): ['Rasool Gunners', [0, 0, 0, 0, 0]],\n",
       " ('Hungary 🇭🇺', 60061): ['Ilia Mahdilou', [0, 0, 0, 0, 0]],\n",
       " ('Netherlands 🇳🇱', 60061): ['Feriburz Muradi', [0, 0, 0, 0, 0]],\n",
       " ('Italy 🇮🇹', 60061): ['Arshia Mohammadi', [0, 0, 0, 0, 0]],\n",
       " ('Germany 🇩🇪', 60061): ['Sed Rashid', [0, 0, 0, 0, 0]],\n",
       " ('Great Britain 🇬🇧', 60061): ['Amirabbas Nesaee', [0, 0, 0, 0, 0]],\n",
       " ('The Soviet Union ☭', 60061): ['Amir hossein Esmaili', [0, 0, 0, 0, 0]],\n",
       " ('Argentina 🇦🇷', 60061): ['Rezaynwa Iran', [0, 0, 0, 0, 0]],\n",
       " ('Hungary 🇭🇺', 60068): ['Mahdi Sadavi', [0, 0, 0, 0, 0]],\n",
       " ('South Korea 🇰🇷', 60068): ['Mohamad sepehr Golshan', [0, 0, 0, 0, 0]],\n",
       " ('Italy 🇮🇹', 60068): ['Milad Zare', [0, 0, 0, 0, 0]],\n",
       " ('Argentina 🇦🇷', 60068): ['Mahdi Amanollah zade', [0, 0, 0, 0, 0]],\n",
       " ('Canada 🇨🇦', 60068): ['Amir Hossein', [0, 0, 0, 0, 0]],\n",
       " ('The Soviet Union ☭', 60068): ['Mohammad Mohammadi shoure', [0, 0, 0, 0, 0]],\n",
       " ('France 🇫🇷', 60068): ['ɦօօʍǟռ ռʋɛ', [0, 0, 0, 0, 0]],\n",
       " ('Great Britain 🇬🇧', 60068): ['Mehdi Abbastabaar', [0, 0, 0, 0, 0]],\n",
       " ('Netherlands 🇳🇱', 60068): ['M.mehdi .kor', [0, 0, 0, 0, 0]],\n",
       " ('Australia 🇦🇺', 60068): ['Nima Mokarram', [0, 0, 0, 0, 0]],\n",
       " ('Japan 🇯🇵', 60068): ['Taji 7', [0, 0, 0, 0, 0]],\n",
       " ('China 🇨🇳', 60068): ['M.m Sh', [0, 0, 0, 0, 0]],\n",
       " ('Germany 🇩🇪', 60068): ['Mohammad Pakdelian', [0, 0, 0, 0, 0]],\n",
       " ('New Zealand 🇳🇿', 60068): ['Roozbeh Mollahaji', [0, 0, 0, 0, 0]],\n",
       " ('United States 🇺🇲', 60068): ['Mohammad sadegh Sahraei', [0, 0, 0, 0, 0]],\n",
       " ('Argentina 🇦🇷', 60279): ['Adel Hagh mohammady', [0, 0, 0, 0, 0]],\n",
       " ('South Korea 🇰🇷', 60279): ['Farzad Saeidi', [0, 0, 0, 0, 0]],\n",
       " ('Germany 🇩🇪', 60279): ['Mohamadreza Choopani', [0, 0, 0, 0, 0]],\n",
       " ('Hungary 🇭🇺', 60279): ['Mohammad Fallahi', [0, 0, 0, 0, 0]],\n",
       " ('The Soviet Union ☭', 60279): ['Amirhosein Shirafkan', [0, 0, 0, 0, 0]],\n",
       " ('Netherlands 🇳🇱', 60279): ['Smd Mehdi', [0, 0, 0, 0, 0]],\n",
       " ('France 🇫🇷', 60279): ['Amir Rtp', [0, 0, 0, 0, 0]],\n",
       " ('Great Britain 🇬🇧', 60279): ['Maryam Hadizadeh', [0, 0, 0, 0, 0]],\n",
       " ('Italy 🇮🇹', 60279): ['Amirhossein Barzin', [0, 0, 0, 0, 0]],\n",
       " ('Canada 🇨🇦', 60279): ['S.taha. H.j', [0, 0, 0, 0, 0]],\n",
       " ('China 🇨🇳', 60279): ['Hala Madrid', [0, 0, 0, 0, 0]],\n",
       " ('Australia 🇦🇺', 60279): ['Darwin 27', [0, 0, 0, 0, 0]],\n",
       " ('United States 🇺🇲', 60279): ['Navid Mahmoodi nezhad', [0, 0, 0, 0, 0]],\n",
       " ('Japan 🇯🇵', 60279): ['Hossein Kashi', [0, 0, 0, 0, 0]],\n",
       " ('New Zealand 🇳🇿', 60279): ['Arshia Mo', [0, 0, 0, 0, 0]],\n",
       " ('The Soviet Union ☭', 60283): ['Benyamin Mohammadi', [0, 0, 0, 0, 0]],\n",
       " ('Argentina 🇦🇷', 60283): ['Hossein Bahremand', [0, 0, 0, 0, 0]],\n",
       " ('New Zealand 🇳🇿', 60283): ['Samad Barati', [0, 0, 0, 0, 0]],\n",
       " ('Netherlands 🇳🇱', 60283): ['Amirhosein Jalali', [0, 0, 0, 0, 0]],\n",
       " ('Canada 🇨🇦', 60283): ['Hassan Ghorbani', [0, 0, 0, 0, 0]],\n",
       " ('China 🇨🇳', 60283): ['Nima Qasemi', [0, 0, 0, 0, 0]],\n",
       " ('South Korea 🇰🇷', 60283): ['Mohamad Yousefi', [0, 0, 0, 0, 0]],\n",
       " ('United States 🇺🇲', 60283): ['Farzan Esrafili', [0, 0, 0, 0, 0]],\n",
       " ('France 🇫🇷', 60283): ['Ali Jalilvand', [0, 0, 0, 0, 0]],\n",
       " ('Italy 🇮🇹', 60283): ['Reza Sadeghi', [0, 0, 0, 0, 0]],\n",
       " ('Australia 🇦🇺', 60283): ['Alireza Maleki', [0, 0, 0, 0, 0]],\n",
       " ('Japan 🇯🇵', 60283): ['Majid Jafari', [0, 0, 0, 0, 0]],\n",
       " ('Hungary 🇭🇺', 60283): ['Mahdi Ghanbarian', [0, 0, 0, 0, 0]],\n",
       " ('Germany 🇩🇪', 60283): ['Amin Delshad', [0, 0, 0, 0, 0]],\n",
       " ('Great Britain 🇬🇧', 60283): ['Seyed alireza Hosseini', [0, 0, 0, 0, 0]]}"
      ]
     },
     "execution_count": 25,
     "metadata": {},
     "output_type": "execute_result"
    }
   ],
   "source": [
    "mapper_dic"
   ]
  },
  {
   "cell_type": "code",
   "execution_count": 26,
   "id": "sexual-retreat",
   "metadata": {},
   "outputs": [],
   "source": [
    "import json\n",
    "with open('medal_dics_for_all_9.json', 'r') as f1:\n",
    "    my_medals = json.load(f1)"
   ]
  },
  {
   "cell_type": "code",
   "execution_count": 27,
   "id": "tough-simon",
   "metadata": {
    "scrolled": true
   },
   "outputs": [],
   "source": [
    "from all_vars import all_managers_full_up_to_gw_8\n",
    "\n",
    "my_dic_til_8 = dict(all_managers_full_up_to_gw_8)\n",
    "number_of_medal_ceremonies = 0 \n",
    "for gw, league in my_medals.items():\n",
    "    if int(gw) > 45:\n",
    "        continue\n",
    "    else: # gw:9 \n",
    "        for league_id, medal_lists in league.items():\n",
    "            for medal_color, country in medal_lists.items():\n",
    "                if medal_color == \"gold\":\n",
    "                    #print(medal_color, country, mapper_dic[(country,int(league_id))])\n",
    "                    mapper_dic[(country,int(league_id))][1][0] = mapper_dic[(country,int(league_id))][1][0] + 1\n",
    "                if medal_color == \"silver\":\n",
    "                    #print(medal_color, country, mapper_dic[(country,int(league_id))])\n",
    "                    mapper_dic[(country,int(league_id))][1][1] = mapper_dic[(country,int(league_id))][1][1] + 1\n",
    "                if medal_color == \"bronze\":\n",
    "                    #print(medal_color, country, mapper_dic[(country,int(league_id))])\n",
    "                    mapper_dic[(country,int(league_id))][1][2] = mapper_dic[(country,int(league_id))][1][2] + 1\n",
    "                if medal_color == \"fourth\":\n",
    "                    #print(medal_color, country, mapper_dic[(country,int(league_id))])\n",
    "                    mapper_dic[(country,int(league_id))][1][3] = mapper_dic[(country,int(league_id))][1][3] + 1\n",
    "                if medal_color == \"fifth\":\n",
    "                    #print(medal_color, country, mapper_dic[(country,int(league_id))])\n",
    "                    mapper_dic[(country,int(league_id))][1][4] = mapper_dic[(country,int(league_id))][1][4] + 1\n",
    "                #f lid == league_id:\n",
    "                #   for lid, nums in all_managers_full_up_to_gw_8.items():\n",
    "                 #      for num, real_dic in nums.items():\n",
    "                   #        #print(real_dic)\n",
    "                  ##        if real_dic.get('country', \"XYZ\") == \"Germany 🇩🇪\" and medal_color == \"gold\":\n",
    "                    #          number_of_medal_ceremonies = number_of_medal_ceremonies + 1\n",
    "                    #          print(number_of_medal_ceremonies, medal_color, real_dic[\"first_name\"])"
   ]
  },
  {
   "cell_type": "code",
   "execution_count": 28,
   "id": "adapted-front",
   "metadata": {},
   "outputs": [
    {
     "data": {
      "text/plain": [
       "['Khodadad Soltani', [4, 2, 0, 1, 0]]"
      ]
     },
     "execution_count": 28,
     "metadata": {},
     "output_type": "execute_result"
    }
   ],
   "source": [
    "mapper_dic[('Germany 🇩🇪', 56760)]"
   ]
  },
  {
   "cell_type": "code",
   "execution_count": 34,
   "id": "celtic-mixture",
   "metadata": {},
   "outputs": [],
   "source": [
    "sorted_managers = sorted(mapper_dic.items(), key=lambda x: (x[1][1]), reverse=True)"
   ]
  },
  {
   "cell_type": "code",
   "execution_count": 35,
   "id": "royal-surprise",
   "metadata": {},
   "outputs": [
    {
     "data": {
      "text/plain": [
       "[(('Germany 🇩🇪', 56760), ['Khodadad Soltani', [4, 2, 0, 1, 0]]),\n",
       " (('Hungary 🇭🇺', 60279), ['Mohammad Fallahi', [3, 1, 0, 1, 1]]),\n",
       " (('Canada 🇨🇦', 57026), ['Mohammadhasan Refahati', [3, 0, 0, 0, 0]]),\n",
       " (('France 🇫🇷', 60068), ['ɦօօʍǟռ ռʋɛ', [3, 0, 0, 0, 0]]),\n",
       " (('Great Britain 🇬🇧', 59176), ['Omidreza Heydari', [2, 3, 0, 0, 0]]),\n",
       " (('Germany 🇩🇪', 59081), ['Majid Benam', [2, 2, 0, 1, 1]]),\n",
       " (('Italy 🇮🇹', 59219), ['Farshad Yazdani', [2, 2, 0, 1, 0]]),\n",
       " (('Hungary 🇭🇺', 60061), ['Ilia Mahdilou', [2, 1, 1, 1, 0]]),\n",
       " (('South Korea 🇰🇷', 60061), ['Sina Zeinali', [2, 1, 0, 2, 0]]),\n",
       " (('Australia 🇦🇺', 60283), ['Alireza Maleki', [2, 1, 0, 1, 0]]),\n",
       " (('The Soviet Union ☭', 58924), ['Nikan Rahmani', [2, 1, 0, 0, 1]]),\n",
       " (('The Soviet Union ☭', 59219), ['Mh Sajadifar', [2, 0, 2, 1, 0]]),\n",
       " (('Germany 🇩🇪', 57026), ['Ehsan Sahizadeh', [2, 0, 1, 1, 0]]),\n",
       " (('South Korea 🇰🇷', 59081), ['Porya Andalibi', [2, 0, 1, 1, 0]]),\n",
       " (('Netherlands 🇳🇱', 59176), ['Hasan Karimi', [2, 0, 1, 1, 0]]),\n",
       " (('Germany 🇩🇪', 60279), ['Mohamadreza Choopani', [2, 0, 1, 0, 1]]),\n",
       " (('China 🇨🇳', 58512), ['Sina Honarpisheh', [2, 0, 1, 0, 0]]),\n",
       " (('Japan 🇯🇵', 56490), ['Hassan Paåÿa', [2, 0, 0, 1, 0]]),\n",
       " (('United States 🇺🇲', 56760), ['Vahid Yousefi', [2, 0, 0, 1, 0]]),\n",
       " (('Italy 🇮🇹', 59081), ['Erfan Paksirat', [2, 0, 0, 1, 0]]),\n",
       " (('South Korea 🇰🇷', 60283), ['Mohamad Yousefi', [2, 0, 0, 0, 0]]),\n",
       " (('France 🇫🇷', 60283), ['Ali Jalilvand', [1, 2, 1, 0, 0]]),\n",
       " (('Hungary 🇭🇺', 60283), ['Mahdi Ghanbarian', [1, 2, 0, 1, 0]]),\n",
       " (('United States 🇺🇲', 57026), ['Mehdi Afshar', [1, 1, 2, 0, 2]]),\n",
       " (('The Soviet Union ☭', 56760), ['M.reza Bakhtafarid', [1, 1, 1, 0, 1]]),\n",
       " (('Argentina 🇦🇷', 60068), ['Mahdi Amanollah zade', [1, 1, 1, 0, 1]]),\n",
       " (('Great Britain 🇬🇧', 58924), ['Amirhossein Zolfaghari', [1, 1, 0, 1, 2]]),\n",
       " (('United States 🇺🇲', 58512), ['Mahdi Jafari', [1, 1, 0, 1, 1]]),\n",
       " (('Germany 🇩🇪', 58512), ['Kaveh Ebrahimi', [1, 1, 0, 1, 0]]),\n",
       " (('Italy 🇮🇹', 58924), ['Ali Mohammadi', [1, 1, 0, 1, 0]]),\n",
       " (('United States 🇺🇲', 59081), ['Parsa Ghafouri', [1, 1, 0, 1, 0]]),\n",
       " (('Italy 🇮🇹', 60068), ['Milad Zare', [1, 1, 0, 1, 0]]),\n",
       " (('France 🇫🇷', 56490), ['Mehrab Jafari', [1, 1, 0, 0, 1]]),\n",
       " (('Hungary 🇭🇺', 56490), ['Javid Zaman', [1, 1, 0, 0, 0]]),\n",
       " (('Australia 🇦🇺', 58924), ['Omid Mousavi', [1, 1, 0, 0, 0]]),\n",
       " (('Great Britain 🇬🇧', 59081),\n",
       "  ['Seyyed mohammadhossein Ghasemi', [1, 1, 0, 0, 0]]),\n",
       " (('Hungary 🇭🇺', 59176), ['Ali mohamad Rahmani shamsi', [1, 1, 0, 0, 0]]),\n",
       " (('Germany 🇩🇪', 59219), ['Sina Mirzaeei', [1, 1, 0, 0, 0]]),\n",
       " (('Hungary 🇭🇺', 60068), ['Mahdi Sadavi', [1, 1, 0, 0, 0]]),\n",
       " (('South Korea 🇰🇷', 60068), ['Mohamad sepehr Golshan', [1, 0, 2, 0, 2]]),\n",
       " (('South Korea 🇰🇷', 58512), ['Poorya Ebrahimi', [1, 0, 2, 0, 1]]),\n",
       " (('Australia 🇦🇺', 60068), ['Nima Mokarram', [1, 0, 1, 1, 1]]),\n",
       " (('Hungary 🇭🇺', 58924), ['Alireza Noori', [1, 0, 1, 1, 0]]),\n",
       " (('Italy 🇮🇹', 60279), ['Amirhossein Barzin', [1, 0, 1, 1, 0]]),\n",
       " (('Australia 🇦🇺', 60279), ['Darwin 27', [1, 0, 1, 1, 0]]),\n",
       " (('Japan 🇯🇵', 59176), ['Ali Hafizi', [1, 0, 1, 0, 2]]),\n",
       " (('Hungary 🇭🇺', 59219), ['Mehrab King', [1, 0, 1, 0, 1]]),\n",
       " (('Netherlands 🇳🇱', 60283), ['Amirhosein Jalali', [1, 0, 1, 0, 1]]),\n",
       " (('Netherlands 🇳🇱', 57026), ['Arsene Wenger', [1, 0, 1, 0, 0]]),\n",
       " (('Netherlands 🇳🇱', 58512), ['Amirhosein Zeininasab', [1, 0, 1, 0, 0]]),\n",
       " (('China 🇨🇳', 58924), ['Artin Gh', [1, 0, 1, 0, 0]]),\n",
       " (('Argentina 🇦🇷', 58924), ['Hossein Lessani', [1, 0, 1, 0, 0]]),\n",
       " (('United States 🇺🇲', 59176), ['Abolfazl Keshavarz', [1, 0, 1, 0, 0]]),\n",
       " (('Canada 🇨🇦', 60061), ['Mohammadhossein Masoumi', [1, 0, 1, 0, 0]]),\n",
       " (('South Korea 🇰🇷', 60279), ['Farzad Saeidi', [1, 0, 1, 0, 0]]),\n",
       " (('South Korea 🇰🇷', 56760), ['Ali Eslamy', [1, 0, 0, 2, 0]]),\n",
       " (('Netherlands 🇳🇱', 59219), ['Alireza Ramezani', [1, 0, 0, 1, 2]]),\n",
       " (('The Soviet Union ☭', 56490), ['Arman Solkabon', [1, 0, 0, 1, 1]]),\n",
       " (('Canada 🇨🇦', 58512), ['Hamidreza Aghajani', [1, 0, 0, 1, 1]]),\n",
       " (('Italy 🇮🇹', 59176), ['Mahyar Rostami', [1, 0, 0, 1, 1]]),\n",
       " (('Canada 🇨🇦', 56490), ['Ali Lalehpour', [1, 0, 0, 1, 0]]),\n",
       " (('Japan 🇯🇵', 57026), ['_me8__ Gunner', [1, 0, 0, 1, 0]]),\n",
       " (('Argentina 🇦🇷', 58512), ['Reza Bagheri', [1, 0, 0, 1, 0]]),\n",
       " (('Japan 🇯🇵', 60061), ['Rasool Gunners', [1, 0, 0, 1, 0]]),\n",
       " (('Argentina 🇦🇷', 56490), ['Mahdi Mohammad zade', [1, 0, 0, 0, 2]]),\n",
       " (('United States 🇺🇲', 60061), ['Emad Alikhani', [1, 0, 0, 0, 2]]),\n",
       " (('Australia 🇦🇺', 60061), ['Hamed Dinarvand', [1, 0, 0, 0, 1]]),\n",
       " (('Japan 🇯🇵', 60283), ['Majid Jafari', [1, 0, 0, 0, 1]]),\n",
       " (('China 🇨🇳', 56490), ['Peyman Jafari', [1, 0, 0, 0, 0]]),\n",
       " (('Canada 🇨🇦', 59219), ['Navid Mig', [1, 0, 0, 0, 0]]),\n",
       " (('Italy 🇮🇹', 60061), ['Arshia Mohammadi', [0, 3, 0, 1, 0]]),\n",
       " (('France 🇫🇷', 58924), ['Soroush Shojaei', [0, 3, 0, 0, 0]]),\n",
       " (('Hungary 🇭🇺', 58512), ['Mohammad saleh Samizadeh', [0, 2, 2, 2, 0]]),\n",
       " (('Canada 🇨🇦', 56760), ['Pouyan Mp', [0, 2, 2, 0, 0]]),\n",
       " (('Italy 🇮🇹', 56490), ['Mehrzad Nadi', [0, 2, 1, 1, 0]]),\n",
       " (('United States 🇺🇲', 59219), ['Pouria Tahmasbi', [0, 2, 1, 1, 0]]),\n",
       " (('France 🇫🇷', 60061), ['Ali Rezaee', [0, 2, 1, 1, 0]]),\n",
       " (('New Zealand 🇳🇿', 59176), ['Abbas Kalekhar', [0, 2, 1, 0, 1]]),\n",
       " (('Australia 🇦🇺', 59081), ['Alimohammad Babaghorbani', [0, 2, 1, 0, 0]]),\n",
       " (('China 🇨🇳', 60068), ['M.m Sh', [0, 2, 1, 0, 0]]),\n",
       " (('The Soviet Union ☭', 60279), ['Amirhosein Shirafkan', [0, 2, 1, 0, 0]]),\n",
       " (('Great Britain 🇬🇧', 60279), ['Maryam Hadizadeh', [0, 2, 0, 2, 1]]),\n",
       " (('Netherlands 🇳🇱', 60279), ['Smd Mehdi', [0, 2, 0, 1, 0]]),\n",
       " (('South Korea 🇰🇷', 57026), ['Nima Dashti', [0, 2, 0, 0, 1]]),\n",
       " (('Australia 🇦🇺', 58512), ['Hamid Ghorbani', [0, 2, 0, 0, 1]]),\n",
       " (('France 🇫🇷', 57026), ['Behnam Moradi', [0, 2, 0, 0, 0]]),\n",
       " (('The Soviet Union ☭', 60068),\n",
       "  ['Mohammad Mohammadi shoure', [0, 2, 0, 0, 0]]),\n",
       " (('Great Britain 🇬🇧', 58512), ['Amirfarhang Behzad', [0, 1, 2, 1, 0]]),\n",
       " (('The Soviet Union ☭', 60061), ['Amir hossein Esmaili', [0, 1, 2, 0, 1]]),\n",
       " (('Germany 🇩🇪', 56490), ['Arash Askari', [0, 1, 2, 0, 0]]),\n",
       " (('Great Britain 🇬🇧', 56490), ['M. saleh Gharaei', [0, 1, 1, 0, 1]]),\n",
       " (('Argentina 🇦🇷', 56760), ['Amir Hossein', [0, 1, 1, 0, 1]]),\n",
       " (('Italy 🇮🇹', 57026), ['Mohsen Zamani', [0, 1, 1, 0, 1]]),\n",
       " (('Japan 🇯🇵', 59081), ['Seyed mohammad Moosavi', [0, 1, 1, 0, 1]]),\n",
       " (('Australia 🇦🇺', 59219), ['Amirmahdi Asadi', [0, 1, 1, 0, 1]]),\n",
       " (('China 🇨🇳', 59219), ['Behnam Astaraki', [0, 1, 1, 0, 1]]),\n",
       " (('Germany 🇩🇪', 60283), ['Amin Delshad', [0, 1, 1, 0, 0]]),\n",
       " (('South Korea 🇰🇷', 59176), ['Surena Km', [0, 1, 0, 3, 0]]),\n",
       " (('Netherlands 🇳🇱', 56490), ['Parham Khadivi', [0, 1, 0, 2, 0]]),\n",
       " (('Canada 🇨🇦', 60283), ['Hassan Ghorbani', [0, 1, 0, 2, 0]]),\n",
       " (('Hungary 🇭🇺', 57026), ['Omid Ghorbani', [0, 1, 0, 1, 1]]),\n",
       " (('Australia 🇦🇺', 57026), ['Abbas Zolfigol', [0, 1, 0, 1, 0]]),\n",
       " (('The Soviet Union ☭', 59081), ['Hadi Mohammady', [0, 1, 0, 1, 0]]),\n",
       " (('United States 🇺🇲', 60279), ['Navid Mahmoodi nezhad', [0, 1, 0, 1, 0]]),\n",
       " (('Argentina 🇦🇷', 60283), ['Hossein Bahremand', [0, 1, 0, 1, 0]]),\n",
       " (('Great Britain 🇬🇧', 56760), ['Ali Omoomi', [0, 1, 0, 0, 3]]),\n",
       " (('United States 🇺🇲', 56490), ['Amir Zamani', [0, 1, 0, 0, 1]]),\n",
       " (('France 🇫🇷', 59176), ['Amir Tricko', [0, 1, 0, 0, 1]]),\n",
       " (('Great Britain 🇬🇧', 59219), ['Parsa Maleknejad', [0, 1, 0, 0, 1]]),\n",
       " (('Great Britain 🇬🇧', 60068), ['Mehdi Abbastabaar', [0, 1, 0, 0, 1]]),\n",
       " (('China 🇨🇳', 56760), ['Mmd Zangeneh', [0, 1, 0, 0, 0]]),\n",
       " (('Japan 🇯🇵', 58512), ['Sajad Afroozi', [0, 1, 0, 0, 0]]),\n",
       " (('Germany 🇩🇪', 58924), ['Milad Benam', [0, 1, 0, 0, 0]]),\n",
       " (('Canada 🇨🇦', 59176), ['Mahyar Talari', [0, 0, 2, 3, 1]]),\n",
       " (('South Korea 🇰🇷', 56490), ['Hossein Veisi', [0, 0, 2, 1, 1]]),\n",
       " (('France 🇫🇷', 59081), ['Saeed Adelzade', [0, 0, 2, 1, 1]]),\n",
       " (('Great Britain 🇬🇧', 60061), ['Amirabbas Nesaee', [0, 0, 2, 1, 0]]),\n",
       " (('United States 🇺🇲', 60283), ['Farzan Esrafili', [0, 0, 2, 0, 2]]),\n",
       " (('Australia 🇦🇺', 56760), ['Foad Hesamarefi', [0, 0, 2, 0, 0]]),\n",
       " (('Argentina 🇦🇷', 57026), ['Mohammadhosein Mokhtari', [0, 0, 2, 0, 0]]),\n",
       " (('Argentina 🇦🇷', 59081), ['Muhammad Esteghamat', [0, 0, 2, 0, 0]]),\n",
       " (('New Zealand 🇳🇿', 57026), ['Luka Donä‡iä‡', [0, 0, 1, 2, 0]]),\n",
       " (('South Korea 🇰🇷', 58924), ['Ali Mirshekaran', [0, 0, 1, 2, 0]]),\n",
       " (('New Zealand 🇳🇿', 59219), ['Parsa Noroozi', [0, 0, 1, 2, 0]]),\n",
       " (('Germany 🇩🇪', 60068), ['Mohammad Pakdelian', [0, 0, 1, 2, 0]]),\n",
       " (('Hungary 🇭🇺', 56760), ['Sina Mojallal', [0, 0, 1, 1, 1]]),\n",
       " (('New Zealand 🇳🇿', 58924), ['El Profesor', [0, 0, 1, 1, 1]]),\n",
       " (('The Soviet Union ☭', 60283), ['Benyamin Mohammadi', [0, 0, 1, 1, 1]]),\n",
       " (('Australia 🇦🇺', 56490), ['Hossein Naeiimii', [0, 0, 1, 1, 0]]),\n",
       " (('France 🇫🇷', 56760), ['Javad Tajabad', [0, 0, 1, 1, 0]]),\n",
       " (('Hungary 🇭🇺', 59081), ['Ali Taheri', [0, 0, 1, 1, 0]]),\n",
       " (('New Zealand 🇳🇿', 60283), ['Samad Barati', [0, 0, 1, 1, 0]]),\n",
       " (('France 🇫🇷', 60279), ['Amir Rtp', [0, 0, 1, 0, 3]]),\n",
       " (('Netherlands 🇳🇱', 58924), ['Pooyan Khabooshani', [0, 0, 1, 0, 2]]),\n",
       " (('Japan 🇯🇵', 59219), ['Tractor Barcelona', [0, 0, 1, 0, 2]]),\n",
       " (('Canada 🇨🇦', 60068), ['Amir Hossein', [0, 0, 1, 0, 2]]),\n",
       " (('New Zealand 🇳🇿', 56490), ['Ali Bazzi', [0, 0, 1, 0, 1]]),\n",
       " (('China 🇨🇳', 59176), ['Abolfazl Rezapoor', [0, 0, 1, 0, 1]]),\n",
       " (('Argentina 🇦🇷', 60279), ['Adel Hagh mohammady', [0, 0, 1, 0, 1]]),\n",
       " (('Canada 🇨🇦', 60279), ['S.taha. H.j', [0, 0, 1, 0, 1]]),\n",
       " (('Italy 🇮🇹', 60283), ['Reza Sadeghi', [0, 0, 1, 0, 1]]),\n",
       " (('United States 🇺🇲', 58924), ['Mohammad Mahdi', [0, 0, 1, 0, 0]]),\n",
       " (('Canada 🇨🇦', 58924), ['Babak Khorasani', [0, 0, 1, 0, 0]]),\n",
       " (('Germany 🇩🇪', 59176), ['Navid Foroughi', [0, 0, 1, 0, 0]]),\n",
       " (('Argentina 🇦🇷', 60061), ['Rezaynwa Iran', [0, 0, 1, 0, 0]]),\n",
       " (('Netherlands 🇳🇱', 60068), ['M.mehdi .kor', [0, 0, 1, 0, 0]]),\n",
       " (('New Zealand 🇳🇿', 60068), ['Roozbeh Mollahaji', [0, 0, 0, 3, 0]]),\n",
       " (('Japan 🇯🇵', 58924), ['Alireza Tavakkoli', [0, 0, 0, 2, 2]]),\n",
       " (('Netherlands 🇳🇱', 56760), ['Alireza Aghajani', [0, 0, 0, 2, 0]]),\n",
       " (('China 🇨🇳', 59081), ['Imey Miley', [0, 0, 0, 1, 2]]),\n",
       " (('Great Britain 🇬🇧', 60283), ['Seyed alireza Hosseini', [0, 0, 0, 1, 2]]),\n",
       " (('The Soviet Union ☭', 57026), ['Awmir Rashidabadi', [0, 0, 0, 1, 1]]),\n",
       " (('New Zealand 🇳🇿', 58512), ['Sina Safarzaee', [0, 0, 0, 1, 1]]),\n",
       " (('Netherlands 🇳🇱', 60061), ['Feriburz Muradi', [0, 0, 0, 1, 1]]),\n",
       " (('Great Britain 🇬🇧', 57026), ['Erfan Jebeli', [0, 0, 0, 1, 0]]),\n",
       " (('France 🇫🇷', 59219), ['Tooraj Karami', [0, 0, 0, 1, 0]]),\n",
       " (('South Korea 🇰🇷', 59219), ['A B', [0, 0, 0, 1, 0]]),\n",
       " (('United States 🇺🇲', 60068), ['Mohammad sadegh Sahraei', [0, 0, 0, 1, 0]]),\n",
       " (('China 🇨🇳', 60279), ['Hala Madrid', [0, 0, 0, 1, 0]]),\n",
       " (('China 🇨🇳', 57026), ['Matin Ganjali', [0, 0, 0, 0, 2]]),\n",
       " (('Italy 🇮🇹', 58512), ['Hossein Rm', [0, 0, 0, 0, 2]]),\n",
       " (('New Zealand 🇳🇿', 59081), ['Mehdi Kalookhi', [0, 0, 0, 0, 2]]),\n",
       " (('New Zealand 🇳🇿', 56760), ['Mehdi Pk', [0, 0, 0, 0, 1]]),\n",
       " (('Italy 🇮🇹', 56760), ['Soltan Jir', [0, 0, 0, 0, 1]]),\n",
       " (('The Soviet Union ☭', 58512), ['Won Tdm', [0, 0, 0, 0, 1]]),\n",
       " (('Netherlands 🇳🇱', 59081), ['Yosef Khoshnood', [0, 0, 0, 0, 1]]),\n",
       " (('Argentina 🇦🇷', 59176), ['Amir Fathali', [0, 0, 0, 0, 1]]),\n",
       " (('New Zealand 🇳🇿', 60061), ['Ali Khosravi', [0, 0, 0, 0, 1]]),\n",
       " (('China 🇨🇳', 60061), ['Akbar Sarabi', [0, 0, 0, 0, 1]]),\n",
       " (('Germany 🇩🇪', 60061), ['Sed Rashid', [0, 0, 0, 0, 1]]),\n",
       " (('Japan 🇯🇵', 60068), ['Taji 7', [0, 0, 0, 0, 1]]),\n",
       " (('Japan 🇯🇵', 56760), ['Reza Moradi', [0, 0, 0, 0, 0]]),\n",
       " (('France 🇫🇷', 58512), ['Amir Mahdi', [0, 0, 0, 0, 0]]),\n",
       " (('Canada 🇨🇦', 59081), ['Nima Hajimusaei', [0, 0, 0, 0, 0]]),\n",
       " (('The Soviet Union ☭', 59176), ['Mirsalari 27', [0, 0, 0, 0, 0]]),\n",
       " (('Australia 🇦🇺', 59176), ['Parham Esmaelifard', [0, 0, 0, 0, 0]]),\n",
       " (('Argentina 🇦🇷', 59219), ['Mohammad sadegh Mohammadpour', [0, 0, 0, 0, 0]]),\n",
       " (('Japan 🇯🇵', 60279), ['Hossein Kashi', [0, 0, 0, 0, 0]]),\n",
       " (('New Zealand 🇳🇿', 60279), ['Arshia Mo', [0, 0, 0, 0, 0]]),\n",
       " (('China 🇨🇳', 60283), ['Nima Qasemi', [0, 0, 0, 0, 0]])]"
      ]
     },
     "execution_count": 35,
     "metadata": {},
     "output_type": "execute_result"
    }
   ],
   "source": [
    "sorted_managers"
   ]
  },
  {
   "cell_type": "code",
   "execution_count": null,
   "id": "waiting-process",
   "metadata": {},
   "outputs": [],
   "source": [
    "for gw, league in my_medals.items():\n",
    "    for league_id, medal_lists in league.items():\n",
    "        if gw == \"1\":\n",
    "            print(league_id, medal_lists)\n",
    "    "
   ]
  },
  {
   "cell_type": "code",
   "execution_count": null,
   "id": "nearby-narrow",
   "metadata": {},
   "outputs": [],
   "source": []
  },
  {
   "cell_type": "code",
   "execution_count": null,
   "id": "bibliographic-pickup",
   "metadata": {},
   "outputs": [],
   "source": []
  },
  {
   "cell_type": "code",
   "execution_count": null,
   "id": "turned-astronomy",
   "metadata": {},
   "outputs": [],
   "source": [
    "tops_gw_9 = top_players_table_maker(top_players_revealer(my_medals))"
   ]
  },
  {
   "cell_type": "code",
   "execution_count": null,
   "id": "nuclear-worst",
   "metadata": {},
   "outputs": [],
   "source": [
    "majid_medals = [0,0,0,0,0]\n",
    "for gw, league in all_medals_from_json.items():\n",
    "    for league_id_str, all_medals in league.items():\n",
    "        #print(league_id_str)\n",
    "        if league_id_str != \"59081\":\n",
    "            continue\n",
    "        else:\n",
    "            golds = all_medals[\"all_golds\"].get('Germany 🇩🇪', 0)\n",
    "            majid_medals[0] = majid_medals[0] + golds\n",
    "            silvers = all_medals[\"all_silvers\"].get('Germany 🇩🇪', 0)\n",
    "            majid_medals[1] = majid_medals[1] + silvers\n",
    "            bronzes = all_medals[\"all_bronzes\"].get('Germany 🇩🇪', 0)\n",
    "            majid_medals[2] = majid_medals[2] + bronzes\n",
    "            fourths = all_medals[\"all_fourths\"].get('Germany 🇩🇪', 0)\n",
    "            majid_medals[3] = majid_medals[3] + fourths\n",
    "            fifths = all_medals[\"all_fifths\"].get('Germany 🇩🇪', 0)\n",
    "            majid_medals[4] = majid_medals[4] + fifths\n",
    "                #medals_for_me[good_team_name] = all_medals_a_country\n",
    "        #gw_medals_this_league[gw] = medals_for_me\n",
    "    #correct_medals = [int(points/12) for points in majid_medals]\n",
    "print(majid_medals)"
   ]
  },
  {
   "cell_type": "code",
   "execution_count": null,
   "id": "indie-fabric",
   "metadata": {},
   "outputs": [],
   "source": []
  },
  {
   "cell_type": "code",
   "execution_count": null,
   "id": "useful-county",
   "metadata": {},
   "outputs": [],
   "source": []
  },
  {
   "cell_type": "code",
   "execution_count": null,
   "id": "judicial-christmas",
   "metadata": {},
   "outputs": [],
   "source": [
    "len(my_leagues_data[8])"
   ]
  },
  {
   "cell_type": "code",
   "execution_count": null,
   "id": "opened-substance",
   "metadata": {},
   "outputs": [],
   "source": [
    "for league in [56490, 56760, 57026, 58512, 58924, 59081, 59219, 60061, 60068, 60279, 60283]:\n",
    "    for gw in [1,2,3,4,5,6,8,9]:\n",
    "        print(tops_gw_9[gw][league])\n",
    "        print()"
   ]
  },
  {
   "cell_type": "code",
   "execution_count": null,
   "id": "mighty-quantum",
   "metadata": {},
   "outputs": [],
   "source": [
    "for league in [56490, 56760, 57026, 58512, 58924, 59081, 59219, 60061, 60068, 60279, 60283]:\n",
    "    for gw in [8,]:\n",
    "        print(league)\n",
    "        print(tops_gw_9[gw][league])\n",
    "        print()"
   ]
  },
  {
   "cell_type": "code",
   "execution_count": null,
   "id": "intellectual-baker",
   "metadata": {
    "scrolled": true
   },
   "outputs": [],
   "source": [
    "good_team_names_with_flag =['Germany 🇩🇪', 'United States 🇺🇲', 'South Korea 🇰🇷', 'Great Britain 🇬🇧', \n",
    "'France 🇫🇷','The Soviet Union ☭', 'Australia 🇦🇺', 'Hungary 🇭🇺', 'New Zealand 🇳🇿', \n",
    "    'Italy 🇮🇹','Argentina 🇦🇷', 'Netherlands 🇳🇱', 'Japan 🇯🇵','China 🇨🇳','Canada 🇨🇦','🏁Referee 6🏁']\n",
    "\n",
    "good_flags = {\"ğŸ‡©ğŸ‡ª\": 'Germany 🇩🇪',\n",
    "                    \"ğŸ‡ºğŸ‡¸\": 'United States 🇺🇲',\n",
    "                    \"ğŸ‡°ğŸ‡·\": 'South Korea 🇰🇷',\n",
    "                    \"ğŸ‡¬ğŸ‡§\": 'Great Britain 🇬🇧',\n",
    "                    \"ğŸ‡¨ğŸ‡µ\": 'France 🇫🇷',\n",
    "                    \"oviet\": 'The Soviet Union ☭',\n",
    "                    \"ğŸ‡¦ğŸ‡º\": 'Australia 🇦🇺',\n",
    "                    \"ğŸ‡­ğŸ‡º\": 'Hungary 🇭🇺',\n",
    "                    \"ğŸ‡³ğŸ‡¿\": 'New Zealand 🇳🇿',\n",
    "                    \"ğŸ‡®ğŸ‡¹\": 'Italy 🇮🇹',\n",
    "                    \"ğŸ‡¦ğŸ‡·\": 'Argentina 🇦🇷',\n",
    "                    \"ğŸ‡³ğŸ‡±\": 'Netherlands 🇳🇱',\n",
    "                    \"ğŸ‡¯ğŸ‡µ\": 'Japan 🇯🇵',\n",
    "                    \"ğŸ‡¨ğŸ‡³\": 'China 🇨🇳',\n",
    "                    \"ğŸ‡¨ğŸ‡¦\": 'Canada 🇨🇦',\n",
    "                    \"ğŸ��\": 'Referee'\n",
    "                    }\n",
    "\n",
    "good_team_names_without_flag =['Germany', 'United States', \"USA\",'ğŸ‡°ğŸ‡·', 'Great Britain', \n",
    "'France','The Soviet Union', 'Australia', 'Hungary', 'Zealan', \n",
    "    'Italy','Argentina', 'Netherlands', 'Japan','ch','Canada','Referee']\n",
    "\n",
    "good_dic_of_team_names_flags = {}\n",
    "for index, team in enumerate(my_league_data[\"choices\"][0:16]):\n",
    "    for good_flag, good_name in good_flags.items():\n",
    "        if good_flag in team[\"entry_name\"]:\n",
    "            print(index+1, good_flag, team[\"entry_name\"])\n",
    "            good_dic_of_team_names_flags[team[\"entry\"]] = good_name"
   ]
  },
  {
   "cell_type": "code",
   "execution_count": null,
   "id": "occupational-letter",
   "metadata": {},
   "outputs": [],
   "source": [
    "good_dic_of_team_names_flags"
   ]
  },
  {
   "cell_type": "code",
   "execution_count": null,
   "id": "positive-mapping",
   "metadata": {},
   "outputs": [],
   "source": [
    "my_dic = {     \"ğŸ‡¨ğŸ‡¦\": 'Canada 🇨🇦',\n",
    "                    \"ğŸ��\": 'Referee'\n",
    "                    }"
   ]
  },
  {
   "cell_type": "code",
   "execution_count": null,
   "id": "final-constraint",
   "metadata": {},
   "outputs": [],
   "source": [
    "for item in my_dic.keys():\n",
    "    print(item)"
   ]
  },
  {
   "cell_type": "code",
   "execution_count": null,
   "id": "systematic-majority",
   "metadata": {},
   "outputs": [],
   "source": []
  },
  {
   "cell_type": "code",
   "execution_count": null,
   "id": "available-psychology",
   "metadata": {},
   "outputs": [],
   "source": [
    "get_player_live_details(428, 8)"
   ]
  },
  {
   "cell_type": "code",
   "execution_count": null,
   "id": "random-springer",
   "metadata": {},
   "outputs": [],
   "source": [
    "# get the start time\n",
    "st = time.time()\n",
    "final_report_info = manager_players_info_maker(all_managers_dic, 4)\n",
    "# get the end time\n",
    "et = time.time()\n",
    "# get the execution time\n",
    "elapsed_time = et - st\n",
    "print('Execution time:', elapsed_time, 'seconds')"
   ]
  },
  {
   "cell_type": "code",
   "execution_count": null,
   "id": "going-protein",
   "metadata": {},
   "outputs": [],
   "source": [
    "my_str = \"Germany 🇩🇪:::::::::::::::::::::::::::::::::::::::::: 62 pts.\""
   ]
  },
  {
   "cell_type": "code",
   "execution_count": null,
   "id": "above-domain",
   "metadata": {},
   "outputs": [],
   "source": [
    "len(my_str)"
   ]
  },
  {
   "cell_type": "code",
   "execution_count": null,
   "id": "general-imaging",
   "metadata": {},
   "outputs": [],
   "source": [
    "my_str"
   ]
  },
  {
   "cell_type": "code",
   "execution_count": null,
   "id": "formal-calcium",
   "metadata": {},
   "outputs": [],
   "source": [
    "final_report_info"
   ]
  },
  {
   "cell_type": "code",
   "execution_count": null,
   "id": "copyrighted-charlotte",
   "metadata": {},
   "outputs": [],
   "source": [
    "# get the start time\n",
    "st = time.time()\n",
    "live_report_all = live_report_maker(all_managers_dic, 4)\n",
    "# get the end time\n",
    "et = time.time()\n",
    "# get the execution time\n",
    "elapsed_time = et - st\n",
    "print('Execution time:', elapsed_time, 'seconds')"
   ]
  },
  {
   "cell_type": "code",
   "execution_count": null,
   "id": "reported-presentation",
   "metadata": {
    "scrolled": false
   },
   "outputs": [],
   "source": [
    "print(live_report_all)"
   ]
  },
  {
   "cell_type": "code",
   "execution_count": null,
   "id": "israeli-scene",
   "metadata": {},
   "outputs": [],
   "source": [
    "import pyperclip"
   ]
  },
  {
   "cell_type": "code",
   "execution_count": null,
   "id": "standard-suffering",
   "metadata": {},
   "outputs": [],
   "source": [
    "pyperclip.copy(live_report_all)"
   ]
  },
  {
   "cell_type": "code",
   "execution_count": null,
   "id": "resident-pension",
   "metadata": {},
   "outputs": [],
   "source": [
    "# get the start time\n",
    "st = time.time()\n",
    "table_3 = table_maker(all_managers_dic, 3)\n",
    "# get the end time\n",
    "et = time.time()\n",
    "# get the execution time\n",
    "elapsed_time = et - st\n",
    "print('Execution time:', elapsed_time, 'seconds')"
   ]
  },
  {
   "cell_type": "code",
   "execution_count": null,
   "id": "marine-navigation",
   "metadata": {},
   "outputs": [],
   "source": [
    "table_3"
   ]
  },
  {
   "cell_type": "code",
   "execution_count": null,
   "id": "specified-sunset",
   "metadata": {},
   "outputs": [],
   "source": [
    "# get the start time\n",
    "st = time.time()\n",
    "final_report_dic = manager_players_info_maker(all_managers_dic, 2)\n",
    "# get the end time\n",
    "et = time.time()\n",
    "# get the execution time\n",
    "elapsed_time = et - st\n",
    "print('Execution time:', elapsed_time, 'seconds')"
   ]
  },
  {
   "cell_type": "code",
   "execution_count": null,
   "id": "ultimate-hydrogen",
   "metadata": {},
   "outputs": [],
   "source": [
    "print(u\"\\U0001F947\" + \"Ali\")"
   ]
  },
  {
   "cell_type": "code",
   "execution_count": null,
   "id": "proper-stage",
   "metadata": {},
   "outputs": [],
   "source": [
    "# get the start time\n",
    "st = time.time()\n",
    "table_1 = table_maker(all_managers_dic, 2)\n",
    "# get the end time\n",
    "et = time.time()\n",
    "# get the execution time\n",
    "elapsed_time = et - st\n",
    "print('Execution time:', elapsed_time, 'seconds')"
   ]
  },
  {
   "cell_type": "code",
   "execution_count": null,
   "id": "cellular-clothing",
   "metadata": {},
   "outputs": [],
   "source": [
    "table_1"
   ]
  },
  {
   "cell_type": "code",
   "execution_count": null,
   "id": "alone-knock",
   "metadata": {},
   "outputs": [],
   "source": [
    "for manager, players in all_managers_dic.items():\n",
    "    \n",
    "    "
   ]
  },
  {
   "cell_type": "code",
   "execution_count": null,
   "id": "chicken-brook",
   "metadata": {},
   "outputs": [],
   "source": [
    "managers_data = gw_dic_reporter(all_managers_dic, 8)"
   ]
  },
  {
   "cell_type": "code",
   "execution_count": null,
   "id": "higher-broadway",
   "metadata": {},
   "outputs": [],
   "source": [
    "from IPython.display import Markdown, display\n",
    "def printmd(string):\n",
    "    display(Markdown(string))"
   ]
  },
  {
   "cell_type": "code",
   "execution_count": null,
   "id": "oriental-dallas",
   "metadata": {},
   "outputs": [],
   "source": [
    "printmd(\"here we go**bold text**\")"
   ]
  },
  {
   "cell_type": "code",
   "execution_count": null,
   "id": "russian-aquatic",
   "metadata": {},
   "outputs": [],
   "source": []
  },
  {
   "cell_type": "code",
   "execution_count": null,
   "id": "upper-chapel",
   "metadata": {},
   "outputs": [],
   "source": [
    "get_player_live_details(428, 8)"
   ]
  },
  {
   "cell_type": "code",
   "execution_count": null,
   "id": "virgin-founder",
   "metadata": {},
   "outputs": [],
   "source": [
    "for week in my_player:\n",
    "    print(week[\"total_points\"])"
   ]
  },
  {
   "cell_type": "code",
   "execution_count": null,
   "id": "ideal-ukraine",
   "metadata": {},
   "outputs": [],
   "source": [
    "all_managers_points = gw_dic_reporter(all_managers_dic, 4)"
   ]
  },
  {
   "cell_type": "code",
   "execution_count": null,
   "id": "christian-yorkshire",
   "metadata": {},
   "outputs": [],
   "source": [
    "all_managers_points"
   ]
  },
  {
   "cell_type": "code",
   "execution_count": null,
   "id": "vietnamese-attention",
   "metadata": {},
   "outputs": [],
   "source": [
    "for manager in all_manager_points.items():\n",
    "    print"
   ]
  },
  {
   "cell_type": "code",
   "execution_count": null,
   "id": "broken-belief",
   "metadata": {},
   "outputs": [],
   "source": []
  }
 ],
 "metadata": {
  "kernelspec": {
   "display_name": "Python 3",
   "language": "python",
   "name": "python3"
  },
  "language_info": {
   "codemirror_mode": {
    "name": "ipython",
    "version": 3
   },
   "file_extension": ".py",
   "mimetype": "text/x-python",
   "name": "python",
   "nbconvert_exporter": "python",
   "pygments_lexer": "ipython3",
   "version": "3.8.10"
  },
  "vscode": {
   "interpreter": {
    "hash": "31f2aee4e71d21fbe5cf8b01ff0e069b9275f58929596ceb00d14d90e3e16cd6"
   }
  }
 },
 "nbformat": 4,
 "nbformat_minor": 5
}
