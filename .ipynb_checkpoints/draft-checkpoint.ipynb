{
 "cells": [
  {
   "cell_type": "code",
   "execution_count": 1,
   "id": "juvenile-event",
   "metadata": {
    "scrolled": true
   },
   "outputs": [
    {
     "name": "stderr",
     "output_type": "stream",
     "text": [
      "/usr/lib/python3/dist-packages/requests/__init__.py:89: RequestsDependencyWarning: urllib3 (1.26.7) or chardet (3.0.4) doesn't match a supported version!\n",
      "  warnings.warn(\"urllib3 ({}) or chardet ({}) doesn't match a supported \"\n"
     ]
    }
   ],
   "source": [
    "from all_vars import all_managers_dic, element_type_mapper\n",
    "from utils import *\n",
    "import time"
   ]
  },
  {
   "cell_type": "code",
   "execution_count": null,
   "id": "available-psychology",
   "metadata": {},
   "outputs": [],
   "source": [
    "get_player_live_details(428, 8)"
   ]
  },
  {
   "cell_type": "code",
   "execution_count": null,
   "id": "random-springer",
   "metadata": {},
   "outputs": [],
   "source": [
    "# get the start time\n",
    "st = time.time()\n",
    "final_report_info = manager_players_info_maker(all_managers_dic, 4)\n",
    "# get the end time\n",
    "et = time.time()\n",
    "# get the execution time\n",
    "elapsed_time = et - st\n",
    "print('Execution time:', elapsed_time, 'seconds')"
   ]
  },
  {
   "cell_type": "code",
   "execution_count": null,
   "id": "going-protein",
   "metadata": {},
   "outputs": [],
   "source": [
    "my_str = \"Germany 🇩🇪:::::::::::::::::::::::::::::::::::::::::: 62 pts.\""
   ]
  },
  {
   "cell_type": "code",
   "execution_count": null,
   "id": "above-domain",
   "metadata": {},
   "outputs": [],
   "source": [
    "len(my_str)"
   ]
  },
  {
   "cell_type": "code",
   "execution_count": null,
   "id": "general-imaging",
   "metadata": {},
   "outputs": [],
   "source": [
    "my_str"
   ]
  },
  {
   "cell_type": "code",
   "execution_count": null,
   "id": "formal-calcium",
   "metadata": {},
   "outputs": [],
   "source": [
    "final_report_info"
   ]
  },
  {
   "cell_type": "code",
   "execution_count": null,
   "id": "copyrighted-charlotte",
   "metadata": {},
   "outputs": [],
   "source": [
    "# get the start time\n",
    "st = time.time()\n",
    "report_all = report_maker(all_managers_dic, 7)\n",
    "# get the end time\n",
    "et = time.time()\n",
    "# get the execution time\n",
    "elapsed_time = et - st\n",
    "print('Execution time:', elapsed_time, 'seconds')"
   ]
  },
  {
   "cell_type": "code",
   "execution_count": null,
   "id": "reported-presentation",
   "metadata": {
    "scrolled": false
   },
   "outputs": [],
   "source": [
    "myyyy = get_player_history_details(119,6)"
   ]
  },
  {
   "cell_type": "code",
   "execution_count": null,
   "id": "concrete-patrol",
   "metadata": {},
   "outputs": [],
   "source": [
    "myyyy"
   ]
  },
  {
   "cell_type": "code",
   "execution_count": null,
   "id": "resident-pension",
   "metadata": {},
   "outputs": [],
   "source": [
    "# get the start time\n",
    "st = time.time()\n",
    "table_3 = table_maker(all_managers_dic, 3)\n",
    "# get the end time\n",
    "et = time.time()\n",
    "# get the execution time\n",
    "elapsed_time = et - st\n",
    "print('Execution time:', elapsed_time, 'seconds')"
   ]
  },
  {
   "cell_type": "code",
   "execution_count": null,
   "id": "marine-navigation",
   "metadata": {},
   "outputs": [],
   "source": [
    "table_3"
   ]
  },
  {
   "cell_type": "code",
   "execution_count": null,
   "id": "specified-sunset",
   "metadata": {},
   "outputs": [],
   "source": [
    "# get the start time\n",
    "st = time.time()\n",
    "final_report_dic = manager_players_info_maker(all_managers_dic, 2)\n",
    "# get the end time\n",
    "et = time.time()\n",
    "# get the execution time\n",
    "elapsed_time = et - st\n",
    "print('Execution time:', elapsed_time, 'seconds')"
   ]
  },
  {
   "cell_type": "code",
   "execution_count": null,
   "id": "ultimate-hydrogen",
   "metadata": {},
   "outputs": [],
   "source": [
    "final_report_dic"
   ]
  },
  {
   "cell_type": "code",
   "execution_count": null,
   "id": "proper-stage",
   "metadata": {},
   "outputs": [],
   "source": [
    "# get the start time\n",
    "st = time.time()\n",
    "table_1 = table_maker(all_managers_dic, 2)\n",
    "# get the end time\n",
    "et = time.time()\n",
    "# get the execution time\n",
    "elapsed_time = et - st\n",
    "print('Execution time:', elapsed_time, 'seconds')"
   ]
  },
  {
   "cell_type": "code",
   "execution_count": null,
   "id": "cellular-clothing",
   "metadata": {},
   "outputs": [],
   "source": [
    "table_1"
   ]
  },
  {
   "cell_type": "code",
   "execution_count": null,
   "id": "alone-knock",
   "metadata": {},
   "outputs": [],
   "source": [
    "for manager, players in all_managers_dic.items():\n",
    "    \n",
    "    "
   ]
  },
  {
   "cell_type": "code",
   "execution_count": null,
   "id": "chicken-brook",
   "metadata": {},
   "outputs": [],
   "source": [
    "managers_data = gw_dic_reporter(all_managers_dic, 8)"
   ]
  },
  {
   "cell_type": "code",
   "execution_count": null,
   "id": "higher-broadway",
   "metadata": {},
   "outputs": [],
   "source": [
    "managers_data"
   ]
  },
  {
   "cell_type": "code",
   "execution_count": 2,
   "id": "upper-chapel",
   "metadata": {},
   "outputs": [
    {
     "ename": "UnboundLocalError",
     "evalue": "local variable 'selected_fixture' referenced before assignment",
     "output_type": "error",
     "traceback": [
      "\u001b[0;31m---------------------------------------------------------------------------\u001b[0m",
      "\u001b[0;31mUnboundLocalError\u001b[0m                         Traceback (most recent call last)",
      "\u001b[0;32m<ipython-input-2-6b555271e5c4>\u001b[0m in \u001b[0;36m<module>\u001b[0;34m\u001b[0m\n\u001b[0;32m----> 1\u001b[0;31m \u001b[0mget_player_live_details\u001b[0m\u001b[0;34m(\u001b[0m\u001b[0;36m428\u001b[0m\u001b[0;34m,\u001b[0m \u001b[0;36m8\u001b[0m\u001b[0;34m)\u001b[0m\u001b[0;34m\u001b[0m\u001b[0;34m\u001b[0m\u001b[0m\n\u001b[0m",
      "\u001b[0;32m~/dev/fantasy_premier_league/utils.py\u001b[0m in \u001b[0;36mget_player_live_details\u001b[0;34m(player_id, gw_number)\u001b[0m\n\u001b[1;32m    313\u001b[0m         \u001b[0;34m\"player_fixture\"\u001b[0m\u001b[0;34m:\u001b[0m \u001b[0mthis_fixture\u001b[0m\u001b[0;34m,\u001b[0m\u001b[0;34m\u001b[0m\u001b[0;34m\u001b[0m\u001b[0m\n\u001b[1;32m    314\u001b[0m         \u001b[0;31m#\"opponent_team\": team_mapper(player_this_gw_data[\"opponent_team\"]),\u001b[0m\u001b[0;34m\u001b[0m\u001b[0;34m\u001b[0m\u001b[0;34m\u001b[0m\u001b[0m\n\u001b[0;32m--> 315\u001b[0;31m         \u001b[0;34m\"team_of_player_has_played\"\u001b[0m\u001b[0;34m:\u001b[0m \u001b[0mgame_has_been_played\u001b[0m\u001b[0;34m(\u001b[0m\u001b[0mthis_fixture\u001b[0m\u001b[0;34m)\u001b[0m\u001b[0;34m,\u001b[0m\u001b[0;34m\u001b[0m\u001b[0;34m\u001b[0m\u001b[0m\n\u001b[0m\u001b[1;32m    316\u001b[0m         \u001b[0;34m\"player_has_played\"\u001b[0m\u001b[0;34m:\u001b[0m \u001b[0mplayer_has_played\u001b[0m\u001b[0;34m(\u001b[0m\u001b[0;34m)\u001b[0m\u001b[0;34m,\u001b[0m\u001b[0;34m\u001b[0m\u001b[0;34m\u001b[0m\u001b[0m\n\u001b[1;32m    317\u001b[0m     }\n",
      "\u001b[0;32m~/dev/fantasy_premier_league/utils.py\u001b[0m in \u001b[0;36mgame_has_been_played\u001b[0;34m(fixture_id)\u001b[0m\n\u001b[1;32m    283\u001b[0m \u001b[0;34m\u001b[0m\u001b[0m\n\u001b[1;32m    284\u001b[0m     \u001b[0;32mdef\u001b[0m \u001b[0mgame_has_been_played\u001b[0m\u001b[0;34m(\u001b[0m\u001b[0mfixture_id\u001b[0m\u001b[0;34m)\u001b[0m\u001b[0;34m:\u001b[0m\u001b[0;34m\u001b[0m\u001b[0;34m\u001b[0m\u001b[0m\n\u001b[0;32m--> 285\u001b[0;31m         \u001b[0mthis_fixture_data\u001b[0m \u001b[0;34m=\u001b[0m \u001b[0mfixture_data\u001b[0m\u001b[0;34m(\u001b[0m\u001b[0mfixture_id\u001b[0m\u001b[0;34m)\u001b[0m\u001b[0;34m\u001b[0m\u001b[0;34m\u001b[0m\u001b[0m\n\u001b[0m\u001b[1;32m    286\u001b[0m         \u001b[0mhas_started\u001b[0m \u001b[0;34m=\u001b[0m \u001b[0mthis_fixture_data\u001b[0m\u001b[0;34m[\u001b[0m\u001b[0;34m\"started\"\u001b[0m\u001b[0;34m]\u001b[0m\u001b[0;34m\u001b[0m\u001b[0;34m\u001b[0m\u001b[0m\n\u001b[1;32m    287\u001b[0m         \u001b[0mhas_finished\u001b[0m \u001b[0;34m=\u001b[0m \u001b[0mthis_fixture_data\u001b[0m\u001b[0;34m[\u001b[0m\u001b[0;34m\"finished\"\u001b[0m\u001b[0;34m]\u001b[0m\u001b[0;34m\u001b[0m\u001b[0;34m\u001b[0m\u001b[0m\n",
      "\u001b[0;32m~/dev/fantasy_premier_league/utils.py\u001b[0m in \u001b[0;36mfixture_data\u001b[0;34m(fixture_id)\u001b[0m\n\u001b[1;32m    169\u001b[0m         \u001b[0;32mif\u001b[0m \u001b[0mgame\u001b[0m\u001b[0;34m[\u001b[0m\u001b[0;34m\"id\"\u001b[0m\u001b[0;34m]\u001b[0m \u001b[0;34m==\u001b[0m \u001b[0mfixture_id\u001b[0m\u001b[0;34m:\u001b[0m\u001b[0;34m\u001b[0m\u001b[0;34m\u001b[0m\u001b[0m\n\u001b[1;32m    170\u001b[0m             \u001b[0mselected_fixture\u001b[0m \u001b[0;34m=\u001b[0m \u001b[0mgame\u001b[0m\u001b[0;34m\u001b[0m\u001b[0;34m\u001b[0m\u001b[0m\n\u001b[0;32m--> 171\u001b[0;31m     \u001b[0;32mreturn\u001b[0m \u001b[0mselected_fixture\u001b[0m\u001b[0;34m\u001b[0m\u001b[0;34m\u001b[0m\u001b[0m\n\u001b[0m\u001b[1;32m    172\u001b[0m \u001b[0;34m\u001b[0m\u001b[0m\n\u001b[1;32m    173\u001b[0m \u001b[0;32mdef\u001b[0m \u001b[0mteams_mapper\u001b[0m\u001b[0;34m(\u001b[0m\u001b[0;34m)\u001b[0m\u001b[0;34m:\u001b[0m\u001b[0;34m\u001b[0m\u001b[0;34m\u001b[0m\u001b[0m\n",
      "\u001b[0;31mUnboundLocalError\u001b[0m: local variable 'selected_fixture' referenced before assignment"
     ]
    }
   ],
   "source": [
    "get_player_live_details(428, 8)"
   ]
  },
  {
   "cell_type": "code",
   "execution_count": null,
   "id": "virgin-founder",
   "metadata": {},
   "outputs": [],
   "source": [
    "for week in my_player:\n",
    "    print(week[\"total_points\"])"
   ]
  },
  {
   "cell_type": "code",
   "execution_count": null,
   "id": "ideal-ukraine",
   "metadata": {},
   "outputs": [],
   "source": [
    "all_managers_points = gw_dic_reporter(all_managers_dic, 4)"
   ]
  },
  {
   "cell_type": "code",
   "execution_count": null,
   "id": "christian-yorkshire",
   "metadata": {},
   "outputs": [],
   "source": [
    "all_managers_points"
   ]
  },
  {
   "cell_type": "code",
   "execution_count": null,
   "id": "vietnamese-attention",
   "metadata": {},
   "outputs": [],
   "source": [
    "for manager in all_manager_points.items():\n",
    "    print"
   ]
  },
  {
   "cell_type": "code",
   "execution_count": null,
   "id": "broken-belief",
   "metadata": {},
   "outputs": [],
   "source": []
  }
 ],
 "metadata": {
  "kernelspec": {
   "display_name": "Python 3",
   "language": "python",
   "name": "python3"
  },
  "language_info": {
   "codemirror_mode": {
    "name": "ipython",
    "version": 3
   },
   "file_extension": ".py",
   "mimetype": "text/x-python",
   "name": "python",
   "nbconvert_exporter": "python",
   "pygments_lexer": "ipython3",
   "version": "3.8.10"
  }
 },
 "nbformat": 4,
 "nbformat_minor": 5
}
