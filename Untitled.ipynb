{
 "cells": [
  {
   "cell_type": "code",
   "execution_count": null,
   "id": "sound-syndicate",
   "metadata": {},
   "outputs": [],
   "source": []
  },
  {
   "cell_type": "code",
   "execution_count": null,
   "id": "reflected-poker",
   "metadata": {},
   "outputs": [],
   "source": []
  },
  {
   "cell_type": "code",
   "execution_count": null,
   "id": "generous-action",
   "metadata": {},
   "outputs": [],
   "source": []
  },
  {
   "cell_type": "code",
   "execution_count": null,
   "id": "peaceful-opening",
   "metadata": {},
   "outputs": [],
   "source": []
  },
  {
   "cell_type": "code",
   "execution_count": null,
   "id": "destroyed-mayor",
   "metadata": {},
   "outputs": [],
   "source": [
    "from fpl import FPL\n",
    "import aiohttp\n",
    "import asyncio\n",
    "async def main():\n",
    "    async with aiohttp.ClientSession() as session:\n",
    "        fpl = FPL(session)\n",
    "        gameweek = await fpl.get_gameweek(3)\n",
    "    print(gameweek,': ', dir(gameweek), gameweek.highest_scoring_entry)\n",
    "# Python 3.7+\n",
    "await main()\n",
    "#nest_asyncio.run(main())\n",
    "#asyncio.run(main())"
   ]
  },
  {
   "cell_type": "code",
   "execution_count": null,
   "id": "hybrid-quarterly",
   "metadata": {},
   "outputs": [],
   "source": [
    "# manager:\n",
    "https://fantasy.premierleague.com/api/entry/414154/\n",
    "# picks:\n",
    "https://fantasy.premierleague.com/api/entry/4791912/event/8/picks/"
   ]
  },
  {
   "cell_type": "code",
   "execution_count": null,
   "id": "liable-thought",
   "metadata": {},
   "outputs": [],
   "source": [
    "from fpl import FPL\n",
    "import aiohttp\n",
    "import asyncio\n",
    "import time\n",
    "\n",
    "# get the start time\n",
    "st = time.time()\n",
    "\n",
    "top_gw_managers = []\n",
    "async def main():\n",
    "    async with aiohttp.ClientSession() as session:\n",
    "        fpl = FPL(session)\n",
    "        for i in range(10000):\n",
    "            user = await fpl.get_user(i+1)\n",
    "            if user.summary_event_points >= 100:\n",
    "                print(user.id)\n",
    "                top_gw_managers.append(user.id)\n",
    "\n",
    "await main()\n",
    "\n",
    "et = time.time()\n",
    "\n",
    "# get the execution time\n",
    "elapsed_time = et - st\n",
    "print('Execution time:', elapsed_time, 'seconds')"
   ]
  },
  {
   "cell_type": "code",
   "execution_count": null,
   "id": "dress-blanket",
   "metadata": {},
   "outputs": [],
   "source": [
    "import requests\n",
    "import pandas as pd\n",
    "import json\n",
    "import pprint\n",
    "my_tops = []\n",
    "for manager in range(1, 9751741):\n",
    "    url = f\"https://fantasy.premierleague.com/api/entry/{manager}/history/\"\n",
    "    response = requests.get(url)\n",
    "\n",
    "    data = json.loads(response.text)\n",
    "    my_rank = data[\"current\"][3]['rank']\n",
    "    if not my_rank:\n",
    "        continue\n",
    "    if my_rank <= 3000:\n",
    "        my_tops.append(manager)\n",
    "    if manager%1000 == 0:\n",
    "        print(\"1k plus.\")\n",
    "    #print(data[\"current\"][3]['rank'])\n",
    "#pprint.pprint(data)"
   ]
  },
  {
   "cell_type": "code",
   "execution_count": null,
   "id": "romance-injection",
   "metadata": {},
   "outputs": [],
   "source": []
  }
 ],
 "metadata": {
  "kernelspec": {
   "display_name": "Python 3",
   "language": "python",
   "name": "python3"
  },
  "language_info": {
   "codemirror_mode": {
    "name": "ipython",
    "version": 3
   },
   "file_extension": ".py",
   "mimetype": "text/x-python",
   "name": "python",
   "nbconvert_exporter": "python",
   "pygments_lexer": "ipython3",
   "version": "3.8.10"
  },
  "vscode": {
   "interpreter": {
    "hash": "31f2aee4e71d21fbe5cf8b01ff0e069b9275f58929596ceb00d14d90e3e16cd6"
   }
  }
 },
 "nbformat": 4,
 "nbformat_minor": 5
}
